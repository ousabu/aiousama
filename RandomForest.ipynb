{
  "nbformat": 4,
  "nbformat_minor": 0,
  "metadata": {
    "colab": {
      "name": "RandomForest.ipynb",
      "provenance": [],
      "authorship_tag": "ABX9TyOKnXQ5QvJnf+LWG0+yMR9t",
      "include_colab_link": true
    },
    "kernelspec": {
      "name": "python3",
      "display_name": "Python 3"
    }
  },
  "cells": [
    {
      "cell_type": "markdown",
      "metadata": {
        "id": "view-in-github",
        "colab_type": "text"
      },
      "source": [
        "<a href=\"https://colab.research.google.com/github/ousabu/aiousama/blob/master/RandomForest.ipynb\" target=\"_parent\"><img src=\"https://colab.research.google.com/assets/colab-badge.svg\" alt=\"Open In Colab\"/></a>"
      ]
    },
    {
      "cell_type": "code",
      "metadata": {
        "id": "nedoGZhJuJJy"
      },
      "source": [
        "from sklearn.ensemble import RandomForestClassifier\n",
        "from sklearn import datasets\n",
        "from sklearn.model_selection import train_test_split\n",
        "import numpy as np\n",
        "import matplotlib.pyplot as plt"
      ],
      "execution_count": 47,
      "outputs": []
    },
    {
      "cell_type": "code",
      "metadata": {
        "id": "n13jC7esyOjW",
        "outputId": "f9c40edf-12c7-4f87-fb2f-b992302165ff",
        "colab": {
          "base_uri": "https://localhost:8080/"
        }
      },
      "source": [
        "# 1. toy 데이터 생성하기\n",
        "X, y = datasets.make_moons(n_samples=100, noise=0.25, random_state=3)\n",
        "\n",
        "# 1.1 데이터 확인\n",
        "X.shape"
      ],
      "execution_count": 48,
      "outputs": [
        {
          "output_type": "execute_result",
          "data": {
            "text/plain": [
              "(100, 2)"
            ]
          },
          "metadata": {
            "tags": []
          },
          "execution_count": 48
        }
      ]
    },
    {
      "cell_type": "code",
      "metadata": {
        "id": "C0KOMyYsyQ1N",
        "outputId": "9818b2c6-500d-48a6-d353-096232bb665e",
        "colab": {
          "base_uri": "https://localhost:8080/",
          "height": 284
        }
      },
      "source": [
        "plt.scatter(X[:,0],X[:,1],edgecolors='red',s=50,c=y)"
      ],
      "execution_count": 49,
      "outputs": [
        {
          "output_type": "execute_result",
          "data": {
            "text/plain": [
              "<matplotlib.collections.PathCollection at 0x7f85fc4fd860>"
            ]
          },
          "metadata": {
            "tags": []
          },
          "execution_count": 49
        },
        {
          "output_type": "display_data",
          "data": {
            "image/png": "[encoded data removed]",
            "text/plain": [
              "<Figure size 432x288 with 1 Axes>"
            ]
          },
          "metadata": {
            "tags": [],
            "needs_background": "light"
          }
        }
      ]
    },
    {
      "cell_type": "code",
      "metadata": {
        "id": "gkF9A1Y6yTih",
        "outputId": "20f4a008-f019-4831-c626-6d6d77005cf8",
        "colab": {
          "base_uri": "https://localhost:8080/"
        }
      },
      "source": [
        "# 1.2 데이터 분할\n",
        "X_train,X_test,y_train,y_test = train_test_split(X,y, test_size = 0.2, random_state = 1234)\n",
        "\n",
        "# 1.3 분할 데이터 확인\n",
        "X_train.shape, y_train.shape"
      ],
      "execution_count": 50,
      "outputs": [
        {
          "output_type": "execute_result",
          "data": {
            "text/plain": [
              "((80, 2), (80,))"
            ]
          },
          "metadata": {
            "tags": []
          },
          "execution_count": 50
        }
      ]
    },
    {
      "cell_type": "code",
      "metadata": {
        "id": "DEuOazweykkh",
        "outputId": "bb4d2a8b-e712-4b3d-b56e-c0f75b613a11",
        "colab": {
          "base_uri": "https://localhost:8080/"
        }
      },
      "source": [
        "# 2. random forest 모델링을 위할 객체 생성\n",
        "# n_estimators : 만들 의사결정나무 개수\n",
        "forest = RandomForestClassifier(n_estimators=5, random_state=5)\n",
        "\n",
        "# 3. 모델 적합\n",
        "forest.fit(X_train, y_train)"
      ],
      "execution_count": 51,
      "outputs": [
        {
          "output_type": "execute_result",
          "data": {
            "text/plain": [
              "RandomForestClassifier(bootstrap=True, ccp_alpha=0.0, class_weight=None,\n",
              "                       criterion='gini', max_depth=None, max_features='auto',\n",
              "                       max_leaf_nodes=None, max_samples=None,\n",
              "                       min_impurity_decrease=0.0, min_impurity_split=None,\n",
              "                       min_samples_leaf=1, min_samples_split=2,\n",
              "                       min_weight_fraction_leaf=0.0, n_estimators=5,\n",
              "                       n_jobs=None, oob_score=False, random_state=5, verbose=0,\n",
              "                       warm_start=False)"
            ]
          },
          "metadata": {
            "tags": []
          },
          "execution_count": 51
        }
      ]
    },
    {
      "cell_type": "code",
      "metadata": {
        "id": "uD0KsYnAyoWb",
        "outputId": "2d32e0ce-f0a2-4578-e114-02ad50e982c5",
        "colab": {
          "base_uri": "https://localhost:8080/"
        }
      },
      "source": [
        "# 4. 결과 확인\n",
        "print(\"train accuracy {:.2f}\".format(forest.score(X_train, y_train)))\n",
        "print(\"test accuracy {:.2f}\".format(forest.score(X_test, y_test)))\n"
      ],
      "execution_count": 52,
      "outputs": [
        {
          "output_type": "stream",
          "text": [
            "train accuracy 1.00\n",
            "test accuracy 0.85\n"
          ],
          "name": "stdout"
        }
      ]
    },
    {
      "cell_type": "code",
      "metadata": {
        "id": "Yu0eyLbpysln",
        "outputId": "17e667c4-8839-4309-9fdb-8e616052a3e1",
        "colab": {
          "base_uri": "https://localhost:8080/"
        }
      },
      "source": [
        "# 5 트리 확인\n",
        "forest.estimators_"
      ],
      "execution_count": 53,
      "outputs": [
        {
          "output_type": "execute_result",
          "data": {
            "text/plain": [
              "[DecisionTreeClassifier(ccp_alpha=0.0, class_weight=None, criterion='gini',\n",
              "                        max_depth=None, max_features='auto', max_leaf_nodes=None,\n",
              "                        min_impurity_decrease=0.0, min_impurity_split=None,\n",
              "                        min_samples_leaf=1, min_samples_split=2,\n",
              "                        min_weight_fraction_leaf=0.0, presort='deprecated',\n",
              "                        random_state=953453411, splitter='best'),\n",
              " DecisionTreeClassifier(ccp_alpha=0.0, class_weight=None, criterion='gini',\n",
              "                        max_depth=None, max_features='auto', max_leaf_nodes=None,\n",
              "                        min_impurity_decrease=0.0, min_impurity_split=None,\n",
              "                        min_samples_leaf=1, min_samples_split=2,\n",
              "                        min_weight_fraction_leaf=0.0, presort='deprecated',\n",
              "                        random_state=236996814, splitter='best'),\n",
              " DecisionTreeClassifier(ccp_alpha=0.0, class_weight=None, criterion='gini',\n",
              "                        max_depth=None, max_features='auto', max_leaf_nodes=None,\n",
              "                        min_impurity_decrease=0.0, min_impurity_split=None,\n",
              "                        min_samples_leaf=1, min_samples_split=2,\n",
              "                        min_weight_fraction_leaf=0.0, presort='deprecated',\n",
              "                        random_state=1592283119, splitter='best'),\n",
              " DecisionTreeClassifier(ccp_alpha=0.0, class_weight=None, criterion='gini',\n",
              "                        max_depth=None, max_features='auto', max_leaf_nodes=None,\n",
              "                        min_impurity_decrease=0.0, min_impurity_split=None,\n",
              "                        min_samples_leaf=1, min_samples_split=2,\n",
              "                        min_weight_fraction_leaf=0.0, presort='deprecated',\n",
              "                        random_state=1423042237, splitter='best'),\n",
              " DecisionTreeClassifier(ccp_alpha=0.0, class_weight=None, criterion='gini',\n",
              "                        max_depth=None, max_features='auto', max_leaf_nodes=None,\n",
              "                        min_impurity_decrease=0.0, min_impurity_split=None,\n",
              "                        min_samples_leaf=1, min_samples_split=2,\n",
              "                        min_weight_fraction_leaf=0.0, presort='deprecated',\n",
              "                        random_state=887852006, splitter='best')]"
            ]
          },
          "metadata": {
            "tags": []
          },
          "execution_count": 53
        }
      ]
    },
    {
      "cell_type": "code",
      "metadata": {
        "id": "slYAGcuWzXA7"
      },
      "source": [
        "from sklearn.tree import export_graphviz\n",
        "import graphviz"
      ],
      "execution_count": 54,
      "outputs": []
    },
    {
      "cell_type": "code",
      "metadata": {
        "id": "CMxtIeaPyyl6",
        "outputId": "dcd8c209-fe5b-48dc-a9bf-36d11cbef9a2",
        "colab": {
          "base_uri": "https://localhost:8080/",
          "height": 934
        }
      },
      "source": [
        "\n",
        "# 5-1 트리 일부 확인\n",
        "export_graphviz(forest.estimators_[0], out_file = \"rf{}.dot\".format(0),\n",
        "                rounded=True, proportion=False,\n",
        "                filled=True, precision=2)\n",
        "with open(\"rf0.dot\") as f1:\n",
        "    dot_graph1 = f1.read()\n",
        "graphviz.Source(dot_graph1)"
      ],
      "execution_count": 55,
      "outputs": [
        {
          "output_type": "execute_result",
          "data": {
            "text/plain": [
              "<graphviz.files.Source at 0x7f85fc996eb8>"
            ],
            "image/svg+xml": "<?xml version=\"1.0\" encoding=\"UTF-8\" standalone=\"no\"?>\n<!DOCTYPE svg PUBLIC \"-//W3C//DTD SVG 1.1//EN\"\n \"http://www.w3.org/Graphics/SVG/1.1/DTD/svg11.dtd\">\n<!-- Generated by graphviz version 2.40.1 (20161225.0304)\n -->\n<!-- Title: Tree Pages: 1 -->\n<svg width=\"492pt\" height=\"685pt\"\n viewBox=\"0.00 0.00 492.00 685.00\" xmlns=\"http://www.w3.org/2000/svg\" xmlns:xlink=\"http://www.w3.org/1999/xlink\">\n<g id=\"graph0\" class=\"graph\" transform=\"scale(1 1) rotate(0) translate(4 681)\">\n<title>Tree</title>\n<polygon fill=\"#ffffff\" stroke=\"transparent\" points=\"-4,4 -4,-681 488,-681 488,4 -4,4\"/>\n<!-- 0 -->\n<g id=\"node1\" class=\"node\">\n<title>0</title>\n<path fill=\"#f7d9c4\" stroke=\"#000000\" d=\"M281.5,-677C281.5,-677 189.5,-677 189.5,-677 183.5,-677 177.5,-671 177.5,-665 177.5,-665 177.5,-621 177.5,-621 177.5,-615 183.5,-609 189.5,-609 189.5,-609 281.5,-609 281.5,-609 287.5,-609 293.5,-615 293.5,-621 293.5,-621 293.5,-665 293.5,-665 293.5,-671 287.5,-677 281.5,-677\"/>\n<text text-anchor=\"middle\" x=\"235.5\" y=\"-661.8\" font-family=\"Helvetica,sans-Serif\" font-size=\"14.00\" fill=\"#000000\">X[1] &lt;= 0.05</text>\n<text text-anchor=\"middle\" x=\"235.5\" y=\"-646.8\" font-family=\"Helvetica,sans-Serif\" font-size=\"14.00\" fill=\"#000000\">gini = 0.48</text>\n<text text-anchor=\"middle\" x=\"235.5\" y=\"-631.8\" font-family=\"Helvetica,sans-Serif\" font-size=\"14.00\" fill=\"#000000\">samples = 52</text>\n<text text-anchor=\"middle\" x=\"235.5\" y=\"-616.8\" font-family=\"Helvetica,sans-Serif\" font-size=\"14.00\" fill=\"#000000\">value = [47, 33]</text>\n</g>\n<!-- 1 -->\n<g id=\"node2\" class=\"node\">\n<title>1</title>\n<path fill=\"#42a1e6\" stroke=\"#000000\" d=\"M212,-573C212,-573 129,-573 129,-573 123,-573 117,-567 117,-561 117,-561 117,-517 117,-517 117,-511 123,-505 129,-505 129,-505 212,-505 212,-505 218,-505 224,-511 224,-517 224,-517 224,-561 224,-561 224,-567 218,-573 212,-573\"/>\n<text text-anchor=\"middle\" x=\"170.5\" y=\"-557.8\" font-family=\"Helvetica,sans-Serif\" font-size=\"14.00\" fill=\"#000000\">X[0] &lt;= &#45;0.42</text>\n<text text-anchor=\"middle\" x=\"170.5\" y=\"-542.8\" font-family=\"Helvetica,sans-Serif\" font-size=\"14.00\" fill=\"#000000\">gini = 0.08</text>\n<text text-anchor=\"middle\" x=\"170.5\" y=\"-527.8\" font-family=\"Helvetica,sans-Serif\" font-size=\"14.00\" fill=\"#000000\">samples = 16</text>\n<text text-anchor=\"middle\" x=\"170.5\" y=\"-512.8\" font-family=\"Helvetica,sans-Serif\" font-size=\"14.00\" fill=\"#000000\">value = [1, 22]</text>\n</g>\n<!-- 0&#45;&gt;1 -->\n<g id=\"edge1\" class=\"edge\">\n<title>0&#45;&gt;1</title>\n<path fill=\"none\" stroke=\"#000000\" d=\"M214.2166,-608.9465C208.7733,-600.2373 202.8516,-590.7626 197.175,-581.6801\"/>\n<polygon fill=\"#000000\" stroke=\"#000000\" points=\"200.0993,-579.755 191.8312,-573.13 194.1633,-583.465 200.0993,-579.755\"/>\n<text text-anchor=\"middle\" x=\"186.2098\" y=\"-593.7898\" font-family=\"Helvetica,sans-Serif\" font-size=\"14.00\" fill=\"#000000\">True</text>\n</g>\n<!-- 4 -->\n<g id=\"node5\" class=\"node\">\n<title>4</title>\n<path fill=\"#eb9f68\" stroke=\"#000000\" d=\"M346.5,-573C346.5,-573 254.5,-573 254.5,-573 248.5,-573 242.5,-567 242.5,-561 242.5,-561 242.5,-517 242.5,-517 242.5,-511 248.5,-505 254.5,-505 254.5,-505 346.5,-505 346.5,-505 352.5,-505 358.5,-511 358.5,-517 358.5,-517 358.5,-561 358.5,-561 358.5,-567 352.5,-573 346.5,-573\"/>\n<text text-anchor=\"middle\" x=\"300.5\" y=\"-557.8\" font-family=\"Helvetica,sans-Serif\" font-size=\"14.00\" fill=\"#000000\">X[1] &lt;= 0.67</text>\n<text text-anchor=\"middle\" x=\"300.5\" y=\"-542.8\" font-family=\"Helvetica,sans-Serif\" font-size=\"14.00\" fill=\"#000000\">gini = 0.31</text>\n<text text-anchor=\"middle\" x=\"300.5\" y=\"-527.8\" font-family=\"Helvetica,sans-Serif\" font-size=\"14.00\" fill=\"#000000\">samples = 36</text>\n<text text-anchor=\"middle\" x=\"300.5\" y=\"-512.8\" font-family=\"Helvetica,sans-Serif\" font-size=\"14.00\" fill=\"#000000\">value = [46, 11]</text>\n</g>\n<!-- 0&#45;&gt;4 -->\n<g id=\"edge4\" class=\"edge\">\n<title>0&#45;&gt;4</title>\n<path fill=\"none\" stroke=\"#000000\" d=\"M256.7834,-608.9465C262.2267,-600.2373 268.1484,-590.7626 273.825,-581.6801\"/>\n<polygon fill=\"#000000\" stroke=\"#000000\" points=\"276.8367,-583.465 279.1688,-573.13 270.9007,-579.755 276.8367,-583.465\"/>\n<text text-anchor=\"middle\" x=\"284.7902\" y=\"-593.7898\" font-family=\"Helvetica,sans-Serif\" font-size=\"14.00\" fill=\"#000000\">False</text>\n</g>\n<!-- 2 -->\n<g id=\"node3\" class=\"node\">\n<title>2</title>\n<path fill=\"#e58139\" stroke=\"#000000\" d=\"M87,-461.5C87,-461.5 12,-461.5 12,-461.5 6,-461.5 0,-455.5 0,-449.5 0,-449.5 0,-420.5 0,-420.5 0,-414.5 6,-408.5 12,-408.5 12,-408.5 87,-408.5 87,-408.5 93,-408.5 99,-414.5 99,-420.5 99,-420.5 99,-449.5 99,-449.5 99,-455.5 93,-461.5 87,-461.5\"/>\n<text text-anchor=\"middle\" x=\"49.5\" y=\"-446.3\" font-family=\"Helvetica,sans-Serif\" font-size=\"14.00\" fill=\"#000000\">gini = 0.0</text>\n<text text-anchor=\"middle\" x=\"49.5\" y=\"-431.3\" font-family=\"Helvetica,sans-Serif\" font-size=\"14.00\" fill=\"#000000\">samples = 1</text>\n<text text-anchor=\"middle\" x=\"49.5\" y=\"-416.3\" font-family=\"Helvetica,sans-Serif\" font-size=\"14.00\" fill=\"#000000\">value = [1, 0]</text>\n</g>\n<!-- 1&#45;&gt;2 -->\n<g id=\"edge2\" class=\"edge\">\n<title>1&#45;&gt;2</title>\n<path fill=\"none\" stroke=\"#000000\" d=\"M130.8801,-504.9465C117.1676,-493.1606 101.8239,-479.9726 88.1873,-468.2519\"/>\n<polygon fill=\"#000000\" stroke=\"#000000\" points=\"90.2459,-465.4061 80.3808,-461.5422 85.6831,-470.7147 90.2459,-465.4061\"/>\n</g>\n<!-- 3 -->\n<g id=\"node4\" class=\"node\">\n<title>3</title>\n<path fill=\"#399de5\" stroke=\"#000000\" d=\"M212,-461.5C212,-461.5 129,-461.5 129,-461.5 123,-461.5 117,-455.5 117,-449.5 117,-449.5 117,-420.5 117,-420.5 117,-414.5 123,-408.5 129,-408.5 129,-408.5 212,-408.5 212,-408.5 218,-408.5 224,-414.5 224,-420.5 224,-420.5 224,-449.5 224,-449.5 224,-455.5 218,-461.5 212,-461.5\"/>\n<text text-anchor=\"middle\" x=\"170.5\" y=\"-446.3\" font-family=\"Helvetica,sans-Serif\" font-size=\"14.00\" fill=\"#000000\">gini = 0.0</text>\n<text text-anchor=\"middle\" x=\"170.5\" y=\"-431.3\" font-family=\"Helvetica,sans-Serif\" font-size=\"14.00\" fill=\"#000000\">samples = 15</text>\n<text text-anchor=\"middle\" x=\"170.5\" y=\"-416.3\" font-family=\"Helvetica,sans-Serif\" font-size=\"14.00\" fill=\"#000000\">value = [0, 22]</text>\n</g>\n<!-- 1&#45;&gt;3 -->\n<g id=\"edge3\" class=\"edge\">\n<title>1&#45;&gt;3</title>\n<path fill=\"none\" stroke=\"#000000\" d=\"M170.5,-504.9465C170.5,-494.2621 170.5,-482.4254 170.5,-471.5742\"/>\n<polygon fill=\"#000000\" stroke=\"#000000\" points=\"174.0001,-471.5421 170.5,-461.5422 167.0001,-471.5422 174.0001,-471.5421\"/>\n</g>\n<!-- 5 -->\n<g id=\"node6\" class=\"node\">\n<title>5</title>\n<path fill=\"#f6d3b9\" stroke=\"#000000\" d=\"M346.5,-469C346.5,-469 254.5,-469 254.5,-469 248.5,-469 242.5,-463 242.5,-457 242.5,-457 242.5,-413 242.5,-413 242.5,-407 248.5,-401 254.5,-401 254.5,-401 346.5,-401 346.5,-401 352.5,-401 358.5,-407 358.5,-413 358.5,-413 358.5,-457 358.5,-457 358.5,-463 352.5,-469 346.5,-469\"/>\n<text text-anchor=\"middle\" x=\"300.5\" y=\"-453.8\" font-family=\"Helvetica,sans-Serif\" font-size=\"14.00\" fill=\"#000000\">X[0] &lt;= 1.13</text>\n<text text-anchor=\"middle\" x=\"300.5\" y=\"-438.8\" font-family=\"Helvetica,sans-Serif\" font-size=\"14.00\" fill=\"#000000\">gini = 0.48</text>\n<text text-anchor=\"middle\" x=\"300.5\" y=\"-423.8\" font-family=\"Helvetica,sans-Serif\" font-size=\"14.00\" fill=\"#000000\">samples = 21</text>\n<text text-anchor=\"middle\" x=\"300.5\" y=\"-408.8\" font-family=\"Helvetica,sans-Serif\" font-size=\"14.00\" fill=\"#000000\">value = [17, 11]</text>\n</g>\n<!-- 4&#45;&gt;5 -->\n<g id=\"edge5\" class=\"edge\">\n<title>4&#45;&gt;5</title>\n<path fill=\"none\" stroke=\"#000000\" d=\"M300.5,-504.9465C300.5,-496.776 300.5,-487.9318 300.5,-479.3697\"/>\n<polygon fill=\"#000000\" stroke=\"#000000\" points=\"304.0001,-479.13 300.5,-469.13 297.0001,-479.13 304.0001,-479.13\"/>\n</g>\n<!-- 14 -->\n<g id=\"node15\" class=\"node\">\n<title>14</title>\n<path fill=\"#e58139\" stroke=\"#000000\" d=\"M472,-461.5C472,-461.5 389,-461.5 389,-461.5 383,-461.5 377,-455.5 377,-449.5 377,-449.5 377,-420.5 377,-420.5 377,-414.5 383,-408.5 389,-408.5 389,-408.5 472,-408.5 472,-408.5 478,-408.5 484,-414.5 484,-420.5 484,-420.5 484,-449.5 484,-449.5 484,-455.5 478,-461.5 472,-461.5\"/>\n<text text-anchor=\"middle\" x=\"430.5\" y=\"-446.3\" font-family=\"Helvetica,sans-Serif\" font-size=\"14.00\" fill=\"#000000\">gini = 0.0</text>\n<text text-anchor=\"middle\" x=\"430.5\" y=\"-431.3\" font-family=\"Helvetica,sans-Serif\" font-size=\"14.00\" fill=\"#000000\">samples = 15</text>\n<text text-anchor=\"middle\" x=\"430.5\" y=\"-416.3\" font-family=\"Helvetica,sans-Serif\" font-size=\"14.00\" fill=\"#000000\">value = [29, 0]</text>\n</g>\n<!-- 4&#45;&gt;14 -->\n<g id=\"edge14\" class=\"edge\">\n<title>4&#45;&gt;14</title>\n<path fill=\"none\" stroke=\"#000000\" d=\"M343.0669,-504.9465C357.937,-493.0504 374.5925,-479.726 389.3454,-467.9237\"/>\n<polygon fill=\"#000000\" stroke=\"#000000\" points=\"391.7,-470.5222 397.3223,-461.5422 387.3271,-465.0561 391.7,-470.5222\"/>\n</g>\n<!-- 6 -->\n<g id=\"node7\" class=\"node\">\n<title>6</title>\n<path fill=\"#ea975c\" stroke=\"#000000\" d=\"M282,-365C282,-365 199,-365 199,-365 193,-365 187,-359 187,-353 187,-353 187,-309 187,-309 187,-303 193,-297 199,-297 199,-297 282,-297 282,-297 288,-297 294,-303 294,-309 294,-309 294,-353 294,-353 294,-359 288,-365 282,-365\"/>\n<text text-anchor=\"middle\" x=\"240.5\" y=\"-349.8\" font-family=\"Helvetica,sans-Serif\" font-size=\"14.00\" fill=\"#000000\">X[0] &lt;= 0.67</text>\n<text text-anchor=\"middle\" x=\"240.5\" y=\"-334.8\" font-family=\"Helvetica,sans-Serif\" font-size=\"14.00\" fill=\"#000000\">gini = 0.26</text>\n<text text-anchor=\"middle\" x=\"240.5\" y=\"-319.8\" font-family=\"Helvetica,sans-Serif\" font-size=\"14.00\" fill=\"#000000\">samples = 14</text>\n<text text-anchor=\"middle\" x=\"240.5\" y=\"-304.8\" font-family=\"Helvetica,sans-Serif\" font-size=\"14.00\" fill=\"#000000\">value = [17, 3]</text>\n</g>\n<!-- 5&#45;&gt;6 -->\n<g id=\"edge6\" class=\"edge\">\n<title>5&#45;&gt;6</title>\n<path fill=\"none\" stroke=\"#000000\" d=\"M280.8538,-400.9465C275.881,-392.3271 270.4757,-382.9579 265.2852,-373.9611\"/>\n<polygon fill=\"#000000\" stroke=\"#000000\" points=\"268.2193,-372.0428 260.1904,-365.13 262.156,-375.5409 268.2193,-372.0428\"/>\n</g>\n<!-- 13 -->\n<g id=\"node14\" class=\"node\">\n<title>13</title>\n<path fill=\"#399de5\" stroke=\"#000000\" d=\"M399,-357.5C399,-357.5 324,-357.5 324,-357.5 318,-357.5 312,-351.5 312,-345.5 312,-345.5 312,-316.5 312,-316.5 312,-310.5 318,-304.5 324,-304.5 324,-304.5 399,-304.5 399,-304.5 405,-304.5 411,-310.5 411,-316.5 411,-316.5 411,-345.5 411,-345.5 411,-351.5 405,-357.5 399,-357.5\"/>\n<text text-anchor=\"middle\" x=\"361.5\" y=\"-342.3\" font-family=\"Helvetica,sans-Serif\" font-size=\"14.00\" fill=\"#000000\">gini = 0.0</text>\n<text text-anchor=\"middle\" x=\"361.5\" y=\"-327.3\" font-family=\"Helvetica,sans-Serif\" font-size=\"14.00\" fill=\"#000000\">samples = 7</text>\n<text text-anchor=\"middle\" x=\"361.5\" y=\"-312.3\" font-family=\"Helvetica,sans-Serif\" font-size=\"14.00\" fill=\"#000000\">value = [0, 8]</text>\n</g>\n<!-- 5&#45;&gt;13 -->\n<g id=\"edge13\" class=\"edge\">\n<title>5&#45;&gt;13</title>\n<path fill=\"none\" stroke=\"#000000\" d=\"M320.4737,-400.9465C326.999,-389.8215 334.2569,-377.4473 340.8322,-366.237\"/>\n<polygon fill=\"#000000\" stroke=\"#000000\" points=\"343.8916,-367.9387 345.932,-357.5422 337.8536,-364.3971 343.8916,-367.9387\"/>\n</g>\n<!-- 7 -->\n<g id=\"node8\" class=\"node\">\n<title>7</title>\n<path fill=\"#efb083\" stroke=\"#000000\" d=\"M220,-261C220,-261 145,-261 145,-261 139,-261 133,-255 133,-249 133,-249 133,-205 133,-205 133,-199 139,-193 145,-193 145,-193 220,-193 220,-193 226,-193 232,-199 232,-205 232,-205 232,-249 232,-249 232,-255 226,-261 220,-261\"/>\n<text text-anchor=\"middle\" x=\"182.5\" y=\"-245.8\" font-family=\"Helvetica,sans-Serif\" font-size=\"14.00\" fill=\"#000000\">X[1] &lt;= 0.21</text>\n<text text-anchor=\"middle\" x=\"182.5\" y=\"-230.8\" font-family=\"Helvetica,sans-Serif\" font-size=\"14.00\" fill=\"#000000\">gini = 0.4</text>\n<text text-anchor=\"middle\" x=\"182.5\" y=\"-215.8\" font-family=\"Helvetica,sans-Serif\" font-size=\"14.00\" fill=\"#000000\">samples = 9</text>\n<text text-anchor=\"middle\" x=\"182.5\" y=\"-200.8\" font-family=\"Helvetica,sans-Serif\" font-size=\"14.00\" fill=\"#000000\">value = [8, 3]</text>\n</g>\n<!-- 6&#45;&gt;7 -->\n<g id=\"edge7\" class=\"edge\">\n<title>6&#45;&gt;7</title>\n<path fill=\"none\" stroke=\"#000000\" d=\"M221.5086,-296.9465C216.7017,-288.3271 211.4765,-278.9579 206.4591,-269.9611\"/>\n<polygon fill=\"#000000\" stroke=\"#000000\" points=\"209.4615,-268.1589 201.534,-261.13 203.348,-271.5684 209.4615,-268.1589\"/>\n</g>\n<!-- 12 -->\n<g id=\"node13\" class=\"node\">\n<title>12</title>\n<path fill=\"#e58139\" stroke=\"#000000\" d=\"M337,-253.5C337,-253.5 262,-253.5 262,-253.5 256,-253.5 250,-247.5 250,-241.5 250,-241.5 250,-212.5 250,-212.5 250,-206.5 256,-200.5 262,-200.5 262,-200.5 337,-200.5 337,-200.5 343,-200.5 349,-206.5 349,-212.5 349,-212.5 349,-241.5 349,-241.5 349,-247.5 343,-253.5 337,-253.5\"/>\n<text text-anchor=\"middle\" x=\"299.5\" y=\"-238.3\" font-family=\"Helvetica,sans-Serif\" font-size=\"14.00\" fill=\"#000000\">gini = 0.0</text>\n<text text-anchor=\"middle\" x=\"299.5\" y=\"-223.3\" font-family=\"Helvetica,sans-Serif\" font-size=\"14.00\" fill=\"#000000\">samples = 5</text>\n<text text-anchor=\"middle\" x=\"299.5\" y=\"-208.3\" font-family=\"Helvetica,sans-Serif\" font-size=\"14.00\" fill=\"#000000\">value = [9, 0]</text>\n</g>\n<!-- 6&#45;&gt;12 -->\n<g id=\"edge12\" class=\"edge\">\n<title>6&#45;&gt;12</title>\n<path fill=\"none\" stroke=\"#000000\" d=\"M259.8188,-296.9465C266.0676,-285.9316 273.0112,-273.6922 279.3207,-262.5703\"/>\n<polygon fill=\"#000000\" stroke=\"#000000\" points=\"282.5523,-263.967 284.4424,-253.5422 276.4638,-260.513 282.5523,-263.967\"/>\n</g>\n<!-- 8 -->\n<g id=\"node9\" class=\"node\">\n<title>8</title>\n<path fill=\"#399de5\" stroke=\"#000000\" d=\"M162,-149.5C162,-149.5 87,-149.5 87,-149.5 81,-149.5 75,-143.5 75,-137.5 75,-137.5 75,-108.5 75,-108.5 75,-102.5 81,-96.5 87,-96.5 87,-96.5 162,-96.5 162,-96.5 168,-96.5 174,-102.5 174,-108.5 174,-108.5 174,-137.5 174,-137.5 174,-143.5 168,-149.5 162,-149.5\"/>\n<text text-anchor=\"middle\" x=\"124.5\" y=\"-134.3\" font-family=\"Helvetica,sans-Serif\" font-size=\"14.00\" fill=\"#000000\">gini = 0.0</text>\n<text text-anchor=\"middle\" x=\"124.5\" y=\"-119.3\" font-family=\"Helvetica,sans-Serif\" font-size=\"14.00\" fill=\"#000000\">samples = 1</text>\n<text text-anchor=\"middle\" x=\"124.5\" y=\"-104.3\" font-family=\"Helvetica,sans-Serif\" font-size=\"14.00\" fill=\"#000000\">value = [0, 1]</text>\n</g>\n<!-- 7&#45;&gt;8 -->\n<g id=\"edge8\" class=\"edge\">\n<title>7&#45;&gt;8</title>\n<path fill=\"none\" stroke=\"#000000\" d=\"M163.5086,-192.9465C157.3657,-181.9316 150.5399,-169.6922 144.3373,-158.5703\"/>\n<polygon fill=\"#000000\" stroke=\"#000000\" points=\"147.2299,-156.5711 139.3024,-149.5422 141.1163,-159.9806 147.2299,-156.5711\"/>\n</g>\n<!-- 9 -->\n<g id=\"node10\" class=\"node\">\n<title>9</title>\n<path fill=\"#eca06a\" stroke=\"#000000\" d=\"M279,-157C279,-157 204,-157 204,-157 198,-157 192,-151 192,-145 192,-145 192,-101 192,-101 192,-95 198,-89 204,-89 204,-89 279,-89 279,-89 285,-89 291,-95 291,-101 291,-101 291,-145 291,-145 291,-151 285,-157 279,-157\"/>\n<text text-anchor=\"middle\" x=\"241.5\" y=\"-141.8\" font-family=\"Helvetica,sans-Serif\" font-size=\"14.00\" fill=\"#000000\">X[0] &lt;= &#45;0.22</text>\n<text text-anchor=\"middle\" x=\"241.5\" y=\"-126.8\" font-family=\"Helvetica,sans-Serif\" font-size=\"14.00\" fill=\"#000000\">gini = 0.32</text>\n<text text-anchor=\"middle\" x=\"241.5\" y=\"-111.8\" font-family=\"Helvetica,sans-Serif\" font-size=\"14.00\" fill=\"#000000\">samples = 8</text>\n<text text-anchor=\"middle\" x=\"241.5\" y=\"-96.8\" font-family=\"Helvetica,sans-Serif\" font-size=\"14.00\" fill=\"#000000\">value = [8, 2]</text>\n</g>\n<!-- 7&#45;&gt;9 -->\n<g id=\"edge9\" class=\"edge\">\n<title>7&#45;&gt;9</title>\n<path fill=\"none\" stroke=\"#000000\" d=\"M201.8188,-192.9465C206.7087,-184.3271 212.0239,-174.9579 217.1278,-165.9611\"/>\n<polygon fill=\"#000000\" stroke=\"#000000\" points=\"220.2476,-167.5549 222.1378,-157.13 214.1592,-164.1008 220.2476,-167.5549\"/>\n</g>\n<!-- 10 -->\n<g id=\"node11\" class=\"node\">\n<title>10</title>\n<path fill=\"#e58139\" stroke=\"#000000\" d=\"M220,-53C220,-53 145,-53 145,-53 139,-53 133,-47 133,-41 133,-41 133,-12 133,-12 133,-6 139,0 145,0 145,0 220,0 220,0 226,0 232,-6 232,-12 232,-12 232,-41 232,-41 232,-47 226,-53 220,-53\"/>\n<text text-anchor=\"middle\" x=\"182.5\" y=\"-37.8\" font-family=\"Helvetica,sans-Serif\" font-size=\"14.00\" fill=\"#000000\">gini = 0.0</text>\n<text text-anchor=\"middle\" x=\"182.5\" y=\"-22.8\" font-family=\"Helvetica,sans-Serif\" font-size=\"14.00\" fill=\"#000000\">samples = 6</text>\n<text text-anchor=\"middle\" x=\"182.5\" y=\"-7.8\" font-family=\"Helvetica,sans-Serif\" font-size=\"14.00\" fill=\"#000000\">value = [8, 0]</text>\n</g>\n<!-- 9&#45;&gt;10 -->\n<g id=\"edge10\" class=\"edge\">\n<title>9&#45;&gt;10</title>\n<path fill=\"none\" stroke=\"#000000\" d=\"M220.6988,-88.9777C215.3242,-80.187 209.5265,-70.7044 204.1115,-61.8477\"/>\n<polygon fill=\"#000000\" stroke=\"#000000\" points=\"207.0564,-59.9545 198.854,-53.2485 201.0842,-63.6059 207.0564,-59.9545\"/>\n</g>\n<!-- 11 -->\n<g id=\"node12\" class=\"node\">\n<title>11</title>\n<path fill=\"#399de5\" stroke=\"#000000\" d=\"M337,-53C337,-53 262,-53 262,-53 256,-53 250,-47 250,-41 250,-41 250,-12 250,-12 250,-6 256,0 262,0 262,0 337,0 337,0 343,0 349,-6 349,-12 349,-12 349,-41 349,-41 349,-47 343,-53 337,-53\"/>\n<text text-anchor=\"middle\" x=\"299.5\" y=\"-37.8\" font-family=\"Helvetica,sans-Serif\" font-size=\"14.00\" fill=\"#000000\">gini = 0.0</text>\n<text text-anchor=\"middle\" x=\"299.5\" y=\"-22.8\" font-family=\"Helvetica,sans-Serif\" font-size=\"14.00\" fill=\"#000000\">samples = 2</text>\n<text text-anchor=\"middle\" x=\"299.5\" y=\"-7.8\" font-family=\"Helvetica,sans-Serif\" font-size=\"14.00\" fill=\"#000000\">value = [0, 2]</text>\n</g>\n<!-- 9&#45;&gt;11 -->\n<g id=\"edge11\" class=\"edge\">\n<title>9&#45;&gt;11</title>\n<path fill=\"none\" stroke=\"#000000\" d=\"M261.9486,-88.9777C267.2322,-80.187 272.9316,-70.7044 278.2548,-61.8477\"/>\n<polygon fill=\"#000000\" stroke=\"#000000\" points=\"281.2715,-63.6225 283.4232,-53.2485 275.2718,-60.0165 281.2715,-63.6225\"/>\n</g>\n</g>\n</svg>\n"
          },
          "metadata": {
            "tags": []
          },
          "execution_count": 55
        }
      ]
    },
    {
      "cell_type": "markdown",
      "metadata": {
        "id": "m1gGlJ9y0o1D"
      },
      "source": [
        "여기서 estimators값을 0에서 5까지 변경시켜보면서 확인할 수 있습니다\n"
      ]
    },
    {
      "cell_type": "code",
      "metadata": {
        "id": "Cp8MbAryy-TE",
        "outputId": "bbd0e62a-0180-44f6-8215-86e83a2f050e",
        "colab": {
          "base_uri": "https://localhost:8080/",
          "height": 934
        }
      },
      "source": [
        "export_graphviz(forest.estimators_[0], out_file = \"rf{}.dot\".format(0),\n",
        "                rounded=True, proportion=False,\n",
        "                filled=True, precision=2)\n",
        "with open(\"rf{}.dot\".format(0)) as f1:\n",
        "    dot_graph1 = f1.read()\n",
        "graphviz.Source(dot_graph1)"
      ],
      "execution_count": 56,
      "outputs": [
        {
          "output_type": "execute_result",
          "data": {
            "text/plain": [
              "<graphviz.files.Source at 0x7f85fc71cba8>"
            ],
            "image/svg+xml": "<?xml version=\"1.0\" encoding=\"UTF-8\" standalone=\"no\"?>\n<!DOCTYPE svg PUBLIC \"-//W3C//DTD SVG 1.1//EN\"\n \"http://www.w3.org/Graphics/SVG/1.1/DTD/svg11.dtd\">\n<!-- Generated by graphviz version 2.40.1 (20161225.0304)\n -->\n<!-- Title: Tree Pages: 1 -->\n<svg width=\"492pt\" height=\"685pt\"\n viewBox=\"0.00 0.00 492.00 685.00\" xmlns=\"http://www.w3.org/2000/svg\" xmlns:xlink=\"http://www.w3.org/1999/xlink\">\n<g id=\"graph0\" class=\"graph\" transform=\"scale(1 1) rotate(0) translate(4 681)\">\n<title>Tree</title>\n<polygon fill=\"#ffffff\" stroke=\"transparent\" points=\"-4,4 -4,-681 488,-681 488,4 -4,4\"/>\n<!-- 0 -->\n<g id=\"node1\" class=\"node\">\n<title>0</title>\n<path fill=\"#f7d9c4\" stroke=\"#000000\" d=\"M281.5,-677C281.5,-677 189.5,-677 189.5,-677 183.5,-677 177.5,-671 177.5,-665 177.5,-665 177.5,-621 177.5,-621 177.5,-615 183.5,-609 189.5,-609 189.5,-609 281.5,-609 281.5,-609 287.5,-609 293.5,-615 293.5,-621 293.5,-621 293.5,-665 293.5,-665 293.5,-671 287.5,-677 281.5,-677\"/>\n<text text-anchor=\"middle\" x=\"235.5\" y=\"-661.8\" font-family=\"Helvetica,sans-Serif\" font-size=\"14.00\" fill=\"#000000\">X[1] &lt;= 0.05</text>\n<text text-anchor=\"middle\" x=\"235.5\" y=\"-646.8\" font-family=\"Helvetica,sans-Serif\" font-size=\"14.00\" fill=\"#000000\">gini = 0.48</text>\n<text text-anchor=\"middle\" x=\"235.5\" y=\"-631.8\" font-family=\"Helvetica,sans-Serif\" font-size=\"14.00\" fill=\"#000000\">samples = 52</text>\n<text text-anchor=\"middle\" x=\"235.5\" y=\"-616.8\" font-family=\"Helvetica,sans-Serif\" font-size=\"14.00\" fill=\"#000000\">value = [47, 33]</text>\n</g>\n<!-- 1 -->\n<g id=\"node2\" class=\"node\">\n<title>1</title>\n<path fill=\"#42a1e6\" stroke=\"#000000\" d=\"M212,-573C212,-573 129,-573 129,-573 123,-573 117,-567 117,-561 117,-561 117,-517 117,-517 117,-511 123,-505 129,-505 129,-505 212,-505 212,-505 218,-505 224,-511 224,-517 224,-517 224,-561 224,-561 224,-567 218,-573 212,-573\"/>\n<text text-anchor=\"middle\" x=\"170.5\" y=\"-557.8\" font-family=\"Helvetica,sans-Serif\" font-size=\"14.00\" fill=\"#000000\">X[0] &lt;= &#45;0.42</text>\n<text text-anchor=\"middle\" x=\"170.5\" y=\"-542.8\" font-family=\"Helvetica,sans-Serif\" font-size=\"14.00\" fill=\"#000000\">gini = 0.08</text>\n<text text-anchor=\"middle\" x=\"170.5\" y=\"-527.8\" font-family=\"Helvetica,sans-Serif\" font-size=\"14.00\" fill=\"#000000\">samples = 16</text>\n<text text-anchor=\"middle\" x=\"170.5\" y=\"-512.8\" font-family=\"Helvetica,sans-Serif\" font-size=\"14.00\" fill=\"#000000\">value = [1, 22]</text>\n</g>\n<!-- 0&#45;&gt;1 -->\n<g id=\"edge1\" class=\"edge\">\n<title>0&#45;&gt;1</title>\n<path fill=\"none\" stroke=\"#000000\" d=\"M214.2166,-608.9465C208.7733,-600.2373 202.8516,-590.7626 197.175,-581.6801\"/>\n<polygon fill=\"#000000\" stroke=\"#000000\" points=\"200.0993,-579.755 191.8312,-573.13 194.1633,-583.465 200.0993,-579.755\"/>\n<text text-anchor=\"middle\" x=\"186.2098\" y=\"-593.7898\" font-family=\"Helvetica,sans-Serif\" font-size=\"14.00\" fill=\"#000000\">True</text>\n</g>\n<!-- 4 -->\n<g id=\"node5\" class=\"node\">\n<title>4</title>\n<path fill=\"#eb9f68\" stroke=\"#000000\" d=\"M346.5,-573C346.5,-573 254.5,-573 254.5,-573 248.5,-573 242.5,-567 242.5,-561 242.5,-561 242.5,-517 242.5,-517 242.5,-511 248.5,-505 254.5,-505 254.5,-505 346.5,-505 346.5,-505 352.5,-505 358.5,-511 358.5,-517 358.5,-517 358.5,-561 358.5,-561 358.5,-567 352.5,-573 346.5,-573\"/>\n<text text-anchor=\"middle\" x=\"300.5\" y=\"-557.8\" font-family=\"Helvetica,sans-Serif\" font-size=\"14.00\" fill=\"#000000\">X[1] &lt;= 0.67</text>\n<text text-anchor=\"middle\" x=\"300.5\" y=\"-542.8\" font-family=\"Helvetica,sans-Serif\" font-size=\"14.00\" fill=\"#000000\">gini = 0.31</text>\n<text text-anchor=\"middle\" x=\"300.5\" y=\"-527.8\" font-family=\"Helvetica,sans-Serif\" font-size=\"14.00\" fill=\"#000000\">samples = 36</text>\n<text text-anchor=\"middle\" x=\"300.5\" y=\"-512.8\" font-family=\"Helvetica,sans-Serif\" font-size=\"14.00\" fill=\"#000000\">value = [46, 11]</text>\n</g>\n<!-- 0&#45;&gt;4 -->\n<g id=\"edge4\" class=\"edge\">\n<title>0&#45;&gt;4</title>\n<path fill=\"none\" stroke=\"#000000\" d=\"M256.7834,-608.9465C262.2267,-600.2373 268.1484,-590.7626 273.825,-581.6801\"/>\n<polygon fill=\"#000000\" stroke=\"#000000\" points=\"276.8367,-583.465 279.1688,-573.13 270.9007,-579.755 276.8367,-583.465\"/>\n<text text-anchor=\"middle\" x=\"284.7902\" y=\"-593.7898\" font-family=\"Helvetica,sans-Serif\" font-size=\"14.00\" fill=\"#000000\">False</text>\n</g>\n<!-- 2 -->\n<g id=\"node3\" class=\"node\">\n<title>2</title>\n<path fill=\"#e58139\" stroke=\"#000000\" d=\"M87,-461.5C87,-461.5 12,-461.5 12,-461.5 6,-461.5 0,-455.5 0,-449.5 0,-449.5 0,-420.5 0,-420.5 0,-414.5 6,-408.5 12,-408.5 12,-408.5 87,-408.5 87,-408.5 93,-408.5 99,-414.5 99,-420.5 99,-420.5 99,-449.5 99,-449.5 99,-455.5 93,-461.5 87,-461.5\"/>\n<text text-anchor=\"middle\" x=\"49.5\" y=\"-446.3\" font-family=\"Helvetica,sans-Serif\" font-size=\"14.00\" fill=\"#000000\">gini = 0.0</text>\n<text text-anchor=\"middle\" x=\"49.5\" y=\"-431.3\" font-family=\"Helvetica,sans-Serif\" font-size=\"14.00\" fill=\"#000000\">samples = 1</text>\n<text text-anchor=\"middle\" x=\"49.5\" y=\"-416.3\" font-family=\"Helvetica,sans-Serif\" font-size=\"14.00\" fill=\"#000000\">value = [1, 0]</text>\n</g>\n<!-- 1&#45;&gt;2 -->\n<g id=\"edge2\" class=\"edge\">\n<title>1&#45;&gt;2</title>\n<path fill=\"none\" stroke=\"#000000\" d=\"M130.8801,-504.9465C117.1676,-493.1606 101.8239,-479.9726 88.1873,-468.2519\"/>\n<polygon fill=\"#000000\" stroke=\"#000000\" points=\"90.2459,-465.4061 80.3808,-461.5422 85.6831,-470.7147 90.2459,-465.4061\"/>\n</g>\n<!-- 3 -->\n<g id=\"node4\" class=\"node\">\n<title>3</title>\n<path fill=\"#399de5\" stroke=\"#000000\" d=\"M212,-461.5C212,-461.5 129,-461.5 129,-461.5 123,-461.5 117,-455.5 117,-449.5 117,-449.5 117,-420.5 117,-420.5 117,-414.5 123,-408.5 129,-408.5 129,-408.5 212,-408.5 212,-408.5 218,-408.5 224,-414.5 224,-420.5 224,-420.5 224,-449.5 224,-449.5 224,-455.5 218,-461.5 212,-461.5\"/>\n<text text-anchor=\"middle\" x=\"170.5\" y=\"-446.3\" font-family=\"Helvetica,sans-Serif\" font-size=\"14.00\" fill=\"#000000\">gini = 0.0</text>\n<text text-anchor=\"middle\" x=\"170.5\" y=\"-431.3\" font-family=\"Helvetica,sans-Serif\" font-size=\"14.00\" fill=\"#000000\">samples = 15</text>\n<text text-anchor=\"middle\" x=\"170.5\" y=\"-416.3\" font-family=\"Helvetica,sans-Serif\" font-size=\"14.00\" fill=\"#000000\">value = [0, 22]</text>\n</g>\n<!-- 1&#45;&gt;3 -->\n<g id=\"edge3\" class=\"edge\">\n<title>1&#45;&gt;3</title>\n<path fill=\"none\" stroke=\"#000000\" d=\"M170.5,-504.9465C170.5,-494.2621 170.5,-482.4254 170.5,-471.5742\"/>\n<polygon fill=\"#000000\" stroke=\"#000000\" points=\"174.0001,-471.5421 170.5,-461.5422 167.0001,-471.5422 174.0001,-471.5421\"/>\n</g>\n<!-- 5 -->\n<g id=\"node6\" class=\"node\">\n<title>5</title>\n<path fill=\"#f6d3b9\" stroke=\"#000000\" d=\"M346.5,-469C346.5,-469 254.5,-469 254.5,-469 248.5,-469 242.5,-463 242.5,-457 242.5,-457 242.5,-413 242.5,-413 242.5,-407 248.5,-401 254.5,-401 254.5,-401 346.5,-401 346.5,-401 352.5,-401 358.5,-407 358.5,-413 358.5,-413 358.5,-457 358.5,-457 358.5,-463 352.5,-469 346.5,-469\"/>\n<text text-anchor=\"middle\" x=\"300.5\" y=\"-453.8\" font-family=\"Helvetica,sans-Serif\" font-size=\"14.00\" fill=\"#000000\">X[0] &lt;= 1.13</text>\n<text text-anchor=\"middle\" x=\"300.5\" y=\"-438.8\" font-family=\"Helvetica,sans-Serif\" font-size=\"14.00\" fill=\"#000000\">gini = 0.48</text>\n<text text-anchor=\"middle\" x=\"300.5\" y=\"-423.8\" font-family=\"Helvetica,sans-Serif\" font-size=\"14.00\" fill=\"#000000\">samples = 21</text>\n<text text-anchor=\"middle\" x=\"300.5\" y=\"-408.8\" font-family=\"Helvetica,sans-Serif\" font-size=\"14.00\" fill=\"#000000\">value = [17, 11]</text>\n</g>\n<!-- 4&#45;&gt;5 -->\n<g id=\"edge5\" class=\"edge\">\n<title>4&#45;&gt;5</title>\n<path fill=\"none\" stroke=\"#000000\" d=\"M300.5,-504.9465C300.5,-496.776 300.5,-487.9318 300.5,-479.3697\"/>\n<polygon fill=\"#000000\" stroke=\"#000000\" points=\"304.0001,-479.13 300.5,-469.13 297.0001,-479.13 304.0001,-479.13\"/>\n</g>\n<!-- 14 -->\n<g id=\"node15\" class=\"node\">\n<title>14</title>\n<path fill=\"#e58139\" stroke=\"#000000\" d=\"M472,-461.5C472,-461.5 389,-461.5 389,-461.5 383,-461.5 377,-455.5 377,-449.5 377,-449.5 377,-420.5 377,-420.5 377,-414.5 383,-408.5 389,-408.5 389,-408.5 472,-408.5 472,-408.5 478,-408.5 484,-414.5 484,-420.5 484,-420.5 484,-449.5 484,-449.5 484,-455.5 478,-461.5 472,-461.5\"/>\n<text text-anchor=\"middle\" x=\"430.5\" y=\"-446.3\" font-family=\"Helvetica,sans-Serif\" font-size=\"14.00\" fill=\"#000000\">gini = 0.0</text>\n<text text-anchor=\"middle\" x=\"430.5\" y=\"-431.3\" font-family=\"Helvetica,sans-Serif\" font-size=\"14.00\" fill=\"#000000\">samples = 15</text>\n<text text-anchor=\"middle\" x=\"430.5\" y=\"-416.3\" font-family=\"Helvetica,sans-Serif\" font-size=\"14.00\" fill=\"#000000\">value = [29, 0]</text>\n</g>\n<!-- 4&#45;&gt;14 -->\n<g id=\"edge14\" class=\"edge\">\n<title>4&#45;&gt;14</title>\n<path fill=\"none\" stroke=\"#000000\" d=\"M343.0669,-504.9465C357.937,-493.0504 374.5925,-479.726 389.3454,-467.9237\"/>\n<polygon fill=\"#000000\" stroke=\"#000000\" points=\"391.7,-470.5222 397.3223,-461.5422 387.3271,-465.0561 391.7,-470.5222\"/>\n</g>\n<!-- 6 -->\n<g id=\"node7\" class=\"node\">\n<title>6</title>\n<path fill=\"#ea975c\" stroke=\"#000000\" d=\"M282,-365C282,-365 199,-365 199,-365 193,-365 187,-359 187,-353 187,-353 187,-309 187,-309 187,-303 193,-297 199,-297 199,-297 282,-297 282,-297 288,-297 294,-303 294,-309 294,-309 294,-353 294,-353 294,-359 288,-365 282,-365\"/>\n<text text-anchor=\"middle\" x=\"240.5\" y=\"-349.8\" font-family=\"Helvetica,sans-Serif\" font-size=\"14.00\" fill=\"#000000\">X[0] &lt;= 0.67</text>\n<text text-anchor=\"middle\" x=\"240.5\" y=\"-334.8\" font-family=\"Helvetica,sans-Serif\" font-size=\"14.00\" fill=\"#000000\">gini = 0.26</text>\n<text text-anchor=\"middle\" x=\"240.5\" y=\"-319.8\" font-family=\"Helvetica,sans-Serif\" font-size=\"14.00\" fill=\"#000000\">samples = 14</text>\n<text text-anchor=\"middle\" x=\"240.5\" y=\"-304.8\" font-family=\"Helvetica,sans-Serif\" font-size=\"14.00\" fill=\"#000000\">value = [17, 3]</text>\n</g>\n<!-- 5&#45;&gt;6 -->\n<g id=\"edge6\" class=\"edge\">\n<title>5&#45;&gt;6</title>\n<path fill=\"none\" stroke=\"#000000\" d=\"M280.8538,-400.9465C275.881,-392.3271 270.4757,-382.9579 265.2852,-373.9611\"/>\n<polygon fill=\"#000000\" stroke=\"#000000\" points=\"268.2193,-372.0428 260.1904,-365.13 262.156,-375.5409 268.2193,-372.0428\"/>\n</g>\n<!-- 13 -->\n<g id=\"node14\" class=\"node\">\n<title>13</title>\n<path fill=\"#399de5\" stroke=\"#000000\" d=\"M399,-357.5C399,-357.5 324,-357.5 324,-357.5 318,-357.5 312,-351.5 312,-345.5 312,-345.5 312,-316.5 312,-316.5 312,-310.5 318,-304.5 324,-304.5 324,-304.5 399,-304.5 399,-304.5 405,-304.5 411,-310.5 411,-316.5 411,-316.5 411,-345.5 411,-345.5 411,-351.5 405,-357.5 399,-357.5\"/>\n<text text-anchor=\"middle\" x=\"361.5\" y=\"-342.3\" font-family=\"Helvetica,sans-Serif\" font-size=\"14.00\" fill=\"#000000\">gini = 0.0</text>\n<text text-anchor=\"middle\" x=\"361.5\" y=\"-327.3\" font-family=\"Helvetica,sans-Serif\" font-size=\"14.00\" fill=\"#000000\">samples = 7</text>\n<text text-anchor=\"middle\" x=\"361.5\" y=\"-312.3\" font-family=\"Helvetica,sans-Serif\" font-size=\"14.00\" fill=\"#000000\">value = [0, 8]</text>\n</g>\n<!-- 5&#45;&gt;13 -->\n<g id=\"edge13\" class=\"edge\">\n<title>5&#45;&gt;13</title>\n<path fill=\"none\" stroke=\"#000000\" d=\"M320.4737,-400.9465C326.999,-389.8215 334.2569,-377.4473 340.8322,-366.237\"/>\n<polygon fill=\"#000000\" stroke=\"#000000\" points=\"343.8916,-367.9387 345.932,-357.5422 337.8536,-364.3971 343.8916,-367.9387\"/>\n</g>\n<!-- 7 -->\n<g id=\"node8\" class=\"node\">\n<title>7</title>\n<path fill=\"#efb083\" stroke=\"#000000\" d=\"M220,-261C220,-261 145,-261 145,-261 139,-261 133,-255 133,-249 133,-249 133,-205 133,-205 133,-199 139,-193 145,-193 145,-193 220,-193 220,-193 226,-193 232,-199 232,-205 232,-205 232,-249 232,-249 232,-255 226,-261 220,-261\"/>\n<text text-anchor=\"middle\" x=\"182.5\" y=\"-245.8\" font-family=\"Helvetica,sans-Serif\" font-size=\"14.00\" fill=\"#000000\">X[1] &lt;= 0.21</text>\n<text text-anchor=\"middle\" x=\"182.5\" y=\"-230.8\" font-family=\"Helvetica,sans-Serif\" font-size=\"14.00\" fill=\"#000000\">gini = 0.4</text>\n<text text-anchor=\"middle\" x=\"182.5\" y=\"-215.8\" font-family=\"Helvetica,sans-Serif\" font-size=\"14.00\" fill=\"#000000\">samples = 9</text>\n<text text-anchor=\"middle\" x=\"182.5\" y=\"-200.8\" font-family=\"Helvetica,sans-Serif\" font-size=\"14.00\" fill=\"#000000\">value = [8, 3]</text>\n</g>\n<!-- 6&#45;&gt;7 -->\n<g id=\"edge7\" class=\"edge\">\n<title>6&#45;&gt;7</title>\n<path fill=\"none\" stroke=\"#000000\" d=\"M221.5086,-296.9465C216.7017,-288.3271 211.4765,-278.9579 206.4591,-269.9611\"/>\n<polygon fill=\"#000000\" stroke=\"#000000\" points=\"209.4615,-268.1589 201.534,-261.13 203.348,-271.5684 209.4615,-268.1589\"/>\n</g>\n<!-- 12 -->\n<g id=\"node13\" class=\"node\">\n<title>12</title>\n<path fill=\"#e58139\" stroke=\"#000000\" d=\"M337,-253.5C337,-253.5 262,-253.5 262,-253.5 256,-253.5 250,-247.5 250,-241.5 250,-241.5 250,-212.5 250,-212.5 250,-206.5 256,-200.5 262,-200.5 262,-200.5 337,-200.5 337,-200.5 343,-200.5 349,-206.5 349,-212.5 349,-212.5 349,-241.5 349,-241.5 349,-247.5 343,-253.5 337,-253.5\"/>\n<text text-anchor=\"middle\" x=\"299.5\" y=\"-238.3\" font-family=\"Helvetica,sans-Serif\" font-size=\"14.00\" fill=\"#000000\">gini = 0.0</text>\n<text text-anchor=\"middle\" x=\"299.5\" y=\"-223.3\" font-family=\"Helvetica,sans-Serif\" font-size=\"14.00\" fill=\"#000000\">samples = 5</text>\n<text text-anchor=\"middle\" x=\"299.5\" y=\"-208.3\" font-family=\"Helvetica,sans-Serif\" font-size=\"14.00\" fill=\"#000000\">value = [9, 0]</text>\n</g>\n<!-- 6&#45;&gt;12 -->\n<g id=\"edge12\" class=\"edge\">\n<title>6&#45;&gt;12</title>\n<path fill=\"none\" stroke=\"#000000\" d=\"M259.8188,-296.9465C266.0676,-285.9316 273.0112,-273.6922 279.3207,-262.5703\"/>\n<polygon fill=\"#000000\" stroke=\"#000000\" points=\"282.5523,-263.967 284.4424,-253.5422 276.4638,-260.513 282.5523,-263.967\"/>\n</g>\n<!-- 8 -->\n<g id=\"node9\" class=\"node\">\n<title>8</title>\n<path fill=\"#399de5\" stroke=\"#000000\" d=\"M162,-149.5C162,-149.5 87,-149.5 87,-149.5 81,-149.5 75,-143.5 75,-137.5 75,-137.5 75,-108.5 75,-108.5 75,-102.5 81,-96.5 87,-96.5 87,-96.5 162,-96.5 162,-96.5 168,-96.5 174,-102.5 174,-108.5 174,-108.5 174,-137.5 174,-137.5 174,-143.5 168,-149.5 162,-149.5\"/>\n<text text-anchor=\"middle\" x=\"124.5\" y=\"-134.3\" font-family=\"Helvetica,sans-Serif\" font-size=\"14.00\" fill=\"#000000\">gini = 0.0</text>\n<text text-anchor=\"middle\" x=\"124.5\" y=\"-119.3\" font-family=\"Helvetica,sans-Serif\" font-size=\"14.00\" fill=\"#000000\">samples = 1</text>\n<text text-anchor=\"middle\" x=\"124.5\" y=\"-104.3\" font-family=\"Helvetica,sans-Serif\" font-size=\"14.00\" fill=\"#000000\">value = [0, 1]</text>\n</g>\n<!-- 7&#45;&gt;8 -->\n<g id=\"edge8\" class=\"edge\">\n<title>7&#45;&gt;8</title>\n<path fill=\"none\" stroke=\"#000000\" d=\"M163.5086,-192.9465C157.3657,-181.9316 150.5399,-169.6922 144.3373,-158.5703\"/>\n<polygon fill=\"#000000\" stroke=\"#000000\" points=\"147.2299,-156.5711 139.3024,-149.5422 141.1163,-159.9806 147.2299,-156.5711\"/>\n</g>\n<!-- 9 -->\n<g id=\"node10\" class=\"node\">\n<title>9</title>\n<path fill=\"#eca06a\" stroke=\"#000000\" d=\"M279,-157C279,-157 204,-157 204,-157 198,-157 192,-151 192,-145 192,-145 192,-101 192,-101 192,-95 198,-89 204,-89 204,-89 279,-89 279,-89 285,-89 291,-95 291,-101 291,-101 291,-145 291,-145 291,-151 285,-157 279,-157\"/>\n<text text-anchor=\"middle\" x=\"241.5\" y=\"-141.8\" font-family=\"Helvetica,sans-Serif\" font-size=\"14.00\" fill=\"#000000\">X[0] &lt;= &#45;0.22</text>\n<text text-anchor=\"middle\" x=\"241.5\" y=\"-126.8\" font-family=\"Helvetica,sans-Serif\" font-size=\"14.00\" fill=\"#000000\">gini = 0.32</text>\n<text text-anchor=\"middle\" x=\"241.5\" y=\"-111.8\" font-family=\"Helvetica,sans-Serif\" font-size=\"14.00\" fill=\"#000000\">samples = 8</text>\n<text text-anchor=\"middle\" x=\"241.5\" y=\"-96.8\" font-family=\"Helvetica,sans-Serif\" font-size=\"14.00\" fill=\"#000000\">value = [8, 2]</text>\n</g>\n<!-- 7&#45;&gt;9 -->\n<g id=\"edge9\" class=\"edge\">\n<title>7&#45;&gt;9</title>\n<path fill=\"none\" stroke=\"#000000\" d=\"M201.8188,-192.9465C206.7087,-184.3271 212.0239,-174.9579 217.1278,-165.9611\"/>\n<polygon fill=\"#000000\" stroke=\"#000000\" points=\"220.2476,-167.5549 222.1378,-157.13 214.1592,-164.1008 220.2476,-167.5549\"/>\n</g>\n<!-- 10 -->\n<g id=\"node11\" class=\"node\">\n<title>10</title>\n<path fill=\"#e58139\" stroke=\"#000000\" d=\"M220,-53C220,-53 145,-53 145,-53 139,-53 133,-47 133,-41 133,-41 133,-12 133,-12 133,-6 139,0 145,0 145,0 220,0 220,0 226,0 232,-6 232,-12 232,-12 232,-41 232,-41 232,-47 226,-53 220,-53\"/>\n<text text-anchor=\"middle\" x=\"182.5\" y=\"-37.8\" font-family=\"Helvetica,sans-Serif\" font-size=\"14.00\" fill=\"#000000\">gini = 0.0</text>\n<text text-anchor=\"middle\" x=\"182.5\" y=\"-22.8\" font-family=\"Helvetica,sans-Serif\" font-size=\"14.00\" fill=\"#000000\">samples = 6</text>\n<text text-anchor=\"middle\" x=\"182.5\" y=\"-7.8\" font-family=\"Helvetica,sans-Serif\" font-size=\"14.00\" fill=\"#000000\">value = [8, 0]</text>\n</g>\n<!-- 9&#45;&gt;10 -->\n<g id=\"edge10\" class=\"edge\">\n<title>9&#45;&gt;10</title>\n<path fill=\"none\" stroke=\"#000000\" d=\"M220.6988,-88.9777C215.3242,-80.187 209.5265,-70.7044 204.1115,-61.8477\"/>\n<polygon fill=\"#000000\" stroke=\"#000000\" points=\"207.0564,-59.9545 198.854,-53.2485 201.0842,-63.6059 207.0564,-59.9545\"/>\n</g>\n<!-- 11 -->\n<g id=\"node12\" class=\"node\">\n<title>11</title>\n<path fill=\"#399de5\" stroke=\"#000000\" d=\"M337,-53C337,-53 262,-53 262,-53 256,-53 250,-47 250,-41 250,-41 250,-12 250,-12 250,-6 256,0 262,0 262,0 337,0 337,0 343,0 349,-6 349,-12 349,-12 349,-41 349,-41 349,-47 343,-53 337,-53\"/>\n<text text-anchor=\"middle\" x=\"299.5\" y=\"-37.8\" font-family=\"Helvetica,sans-Serif\" font-size=\"14.00\" fill=\"#000000\">gini = 0.0</text>\n<text text-anchor=\"middle\" x=\"299.5\" y=\"-22.8\" font-family=\"Helvetica,sans-Serif\" font-size=\"14.00\" fill=\"#000000\">samples = 2</text>\n<text text-anchor=\"middle\" x=\"299.5\" y=\"-7.8\" font-family=\"Helvetica,sans-Serif\" font-size=\"14.00\" fill=\"#000000\">value = [0, 2]</text>\n</g>\n<!-- 9&#45;&gt;11 -->\n<g id=\"edge11\" class=\"edge\">\n<title>9&#45;&gt;11</title>\n<path fill=\"none\" stroke=\"#000000\" d=\"M261.9486,-88.9777C267.2322,-80.187 272.9316,-70.7044 278.2548,-61.8477\"/>\n<polygon fill=\"#000000\" stroke=\"#000000\" points=\"281.2715,-63.6225 283.4232,-53.2485 275.2718,-60.0165 281.2715,-63.6225\"/>\n</g>\n</g>\n</svg>\n"
          },
          "metadata": {
            "tags": []
          },
          "execution_count": 56
        }
      ]
    },
    {
      "cell_type": "markdown",
      "metadata": {
        "id": "hH9riNYn1P9l"
      },
      "source": [
        "RandomForest 예제"
      ]
    },
    {
      "cell_type": "code",
      "metadata": {
        "id": "rbNhV26B0YdN"
      },
      "source": [
        "# 1 데이터 호출\n",
        "from sklearn.datasets import load_breast_cancer\n",
        "breast_cancer_dataset = load_breast_cancer()"
      ],
      "execution_count": 57,
      "outputs": []
    },
    {
      "cell_type": "code",
      "metadata": {
        "id": "s0URtYfE1THc"
      },
      "source": [
        "# 1-1 데이터 분류\n",
        "X_train,X_test,y_train,y_test = train_test_split(X,y, test_size = 0.3, random_state = 10)"
      ],
      "execution_count": 58,
      "outputs": []
    },
    {
      "cell_type": "code",
      "metadata": {
        "id": "vB3E0NbA5HJ9"
      },
      "source": [
        "# 2 n_estimators\n",
        "depths=range(5,201,5)\n",
        "forest_train,forest_test = [],[]"
      ],
      "execution_count": 59,
      "outputs": []
    },
    {
      "cell_type": "code",
      "metadata": {
        "id": "kPg3dG0L5MuV"
      },
      "source": [
        "for i in depths:    \n",
        "    forest = RandomForestClassifier(n_estimators=i, random_state=i)\n",
        "    forest.fit(X_train,y_train)\n",
        "    \n",
        "    forest_train.append(forest.score(X_train,y_train))\n",
        "    forest_test.append(forest.score(X_test,y_test))"
      ],
      "execution_count": 60,
      "outputs": []
    },
    {
      "cell_type": "code",
      "metadata": {
        "id": "lP9csYAe5Pbb",
        "outputId": "b6ede7f9-f2b3-4e91-c595-5d9a45ca2812",
        "colab": {
          "base_uri": "https://localhost:8080/",
          "height": 835
        }
      },
      "source": [
        "plt.plot(depths,forest_train,label='훈련 정확도',marker='o')\n",
        "plt.plot(depths,forest_test,label='테스트 정확도',marker='o')\n",
        "plt.ylabel('accuracy')\n",
        "plt.xlabel('number of n_estimators')\n",
        "plt.legend()"
      ],
      "execution_count": 61,
      "outputs": [
        {
          "output_type": "execute_result",
          "data": {
            "text/plain": [
              "<matplotlib.legend.Legend at 0x7f85fc4825f8>"
            ]
          },
          "metadata": {
            "tags": []
          },
          "execution_count": 61
        },
        {
          "output_type": "stream",
          "text": [
            "/usr/local/lib/python3.6/dist-packages/matplotlib/backends/backend_agg.py:214: RuntimeWarning: Glyph 54984 missing from current font.\n",
            "  font.set_text(s, 0.0, flags=flags)\n",
            "/usr/local/lib/python3.6/dist-packages/matplotlib/backends/backend_agg.py:214: RuntimeWarning: Glyph 47144 missing from current font.\n",
            "  font.set_text(s, 0.0, flags=flags)\n",
            "/usr/local/lib/python3.6/dist-packages/matplotlib/backends/backend_agg.py:214: RuntimeWarning: Glyph 51221 missing from current font.\n",
            "  font.set_text(s, 0.0, flags=flags)\n",
            "/usr/local/lib/python3.6/dist-packages/matplotlib/backends/backend_agg.py:214: RuntimeWarning: Glyph 54869 missing from current font.\n",
            "  font.set_text(s, 0.0, flags=flags)\n",
            "/usr/local/lib/python3.6/dist-packages/matplotlib/backends/backend_agg.py:214: RuntimeWarning: Glyph 46020 missing from current font.\n",
            "  font.set_text(s, 0.0, flags=flags)\n",
            "/usr/local/lib/python3.6/dist-packages/matplotlib/backends/backend_agg.py:214: RuntimeWarning: Glyph 53580 missing from current font.\n",
            "  font.set_text(s, 0.0, flags=flags)\n",
            "/usr/local/lib/python3.6/dist-packages/matplotlib/backends/backend_agg.py:214: RuntimeWarning: Glyph 49828 missing from current font.\n",
            "  font.set_text(s, 0.0, flags=flags)\n",
            "/usr/local/lib/python3.6/dist-packages/matplotlib/backends/backend_agg.py:214: RuntimeWarning: Glyph 53944 missing from current font.\n",
            "  font.set_text(s, 0.0, flags=flags)\n",
            "/usr/local/lib/python3.6/dist-packages/matplotlib/backends/backend_agg.py:183: RuntimeWarning: Glyph 54984 missing from current font.\n",
            "  font.set_text(s, 0, flags=flags)\n",
            "/usr/local/lib/python3.6/dist-packages/matplotlib/backends/backend_agg.py:183: RuntimeWarning: Glyph 47144 missing from current font.\n",
            "  font.set_text(s, 0, flags=flags)\n",
            "/usr/local/lib/python3.6/dist-packages/matplotlib/backends/backend_agg.py:183: RuntimeWarning: Glyph 51221 missing from current font.\n",
            "  font.set_text(s, 0, flags=flags)\n",
            "/usr/local/lib/python3.6/dist-packages/matplotlib/backends/backend_agg.py:183: RuntimeWarning: Glyph 54869 missing from current font.\n",
            "  font.set_text(s, 0, flags=flags)\n",
            "/usr/local/lib/python3.6/dist-packages/matplotlib/backends/backend_agg.py:183: RuntimeWarning: Glyph 46020 missing from current font.\n",
            "  font.set_text(s, 0, flags=flags)\n",
            "/usr/local/lib/python3.6/dist-packages/matplotlib/backends/backend_agg.py:183: RuntimeWarning: Glyph 53580 missing from current font.\n",
            "  font.set_text(s, 0, flags=flags)\n",
            "/usr/local/lib/python3.6/dist-packages/matplotlib/backends/backend_agg.py:183: RuntimeWarning: Glyph 49828 missing from current font.\n",
            "  font.set_text(s, 0, flags=flags)\n",
            "/usr/local/lib/python3.6/dist-packages/matplotlib/backends/backend_agg.py:183: RuntimeWarning: Glyph 53944 missing from current font.\n",
            "  font.set_text(s, 0, flags=flags)\n"
          ],
          "name": "stderr"
        },
        {
          "output_type": "display_data",
          "data": {
            "image/png": "[encoded data removed]",
            "text/plain": [
              "<Figure size 432x288 with 1 Axes>"
            ]
          },
          "metadata": {
            "tags": [],
            "needs_background": "light"
          }
        }
      ]
    },
    {
      "cell_type": "code",
      "metadata": {
        "id": "YWEOrV575SQO"
      },
      "source": [
        ""
      ],
      "execution_count": 61,
      "outputs": []
    },
    {
      "cell_type": "code",
      "metadata": {
        "id": "7J2MbRrP5iNw"
      },
      "source": [
        ""
      ],
      "execution_count": 61,
      "outputs": []
    },
    {
      "cell_type": "code",
      "metadata": {
        "id": "myc0nGgV5l7U"
      },
      "source": [
        ""
      ],
      "execution_count": 61,
      "outputs": []
    },
    {
      "cell_type": "code",
      "metadata": {
        "id": "wx-DXD605pZb"
      },
      "source": [
        ""
      ],
      "execution_count": 61,
      "outputs": []
    },
    {
      "cell_type": "code",
      "metadata": {
        "id": "m6GA6FJm6Pj8"
      },
      "source": [
        ""
      ],
      "execution_count": 61,
      "outputs": []
    }
  ]
}
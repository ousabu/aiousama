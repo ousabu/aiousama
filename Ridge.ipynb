{
  "nbformat": 4,
  "nbformat_minor": 0,
  "metadata": {
    "colab": {
      "name": "Ridge.ipynb",
      "provenance": [],
      "authorship_tag": "ABX9TyOZjyGp1H3I9/oNytHEoJ1V",
      "include_colab_link": true
    },
    "kernelspec": {
      "name": "python3",
      "display_name": "Python 3"
    }
  },
  "cells": [
    {
      "cell_type": "markdown",
      "metadata": {
        "id": "view-in-github",
        "colab_type": "text"
      },
      "source": [
        "<a href=\"https://colab.research.google.com/github/ousabu/aiousama/blob/master/Ridge.ipynb\" target=\"_parent\"><img src=\"https://colab.research.google.com/assets/colab-badge.svg\" alt=\"Open In Colab\"/></a>"
      ]
    },
    {
      "cell_type": "code",
      "metadata": {
        "id": "4Nt44nekEJBy"
      },
      "source": [
        "from sklearn.linear_model import Ridge\n",
        "from sklearn.datasets import load_diabetes"
      ],
      "execution_count": 4,
      "outputs": []
    },
    {
      "cell_type": "code",
      "metadata": {
        "id": "ud0i29KeGYHf"
      },
      "source": [
        "# 1. diabetes dataset loading 및 데이터 분할\n",
        "diab = load_diabetes()"
      ],
      "execution_count": 5,
      "outputs": []
    },
    {
      "cell_type": "code",
      "metadata": {
        "id": "c3AvsZIaGvIL"
      },
      "source": [
        "from sklearn.model_selection import train_test_split"
      ],
      "execution_count": 7,
      "outputs": []
    },
    {
      "cell_type": "code",
      "metadata": {
        "id": "YwO69QLuGfA5"
      },
      "source": [
        "X = diab.data\n",
        "y = diab.target\n",
        "X_train , X_test , y_train, y_test = train_test_split(X , y , test_size=0.2,random_state=0)"
      ],
      "execution_count": 8,
      "outputs": []
    },
    {
      "cell_type": "code",
      "metadata": {
        "id": "tdzWAvE0Gt8r",
        "outputId": "91eab8b8-26bc-415d-ece9-d6973cad101d",
        "colab": {
          "base_uri": "https://localhost:8080/"
        }
      },
      "source": [
        "# 2 object for modelling\n",
        "rdg = Ridge()\n",
        "rdg.fit(X_train, y_train)"
      ],
      "execution_count": 9,
      "outputs": [
        {
          "output_type": "execute_result",
          "data": {
            "text/plain": [
              "Ridge(alpha=1.0, copy_X=True, fit_intercept=True, max_iter=None,\n",
              "      normalize=False, random_state=None, solver='auto', tol=0.001)"
            ]
          },
          "metadata": {
            "tags": []
          },
          "execution_count": 9
        }
      ]
    },
    {
      "cell_type": "code",
      "metadata": {
        "id": "RENO-08tG3Zv",
        "outputId": "5bcb43a1-5bb3-4e60-b109-05bd29421b34",
        "colab": {
          "base_uri": "https://localhost:8080/"
        }
      },
      "source": [
        "# 3 훈련 결과 확인 \n",
        "print(\"훈련 세트 점수 : {:.3f}\".format(rdg.score(X_train,y_train)))\n",
        "print(\"테스트 세트 점수 : {:.3f}\".format(rdg.score(X_test,y_test)))\n",
        "# 결과 : 훈련 세트 점수 : 0.465 테스트 세트 점수 : 0.341"
      ],
      "execution_count": 10,
      "outputs": [
        {
          "output_type": "stream",
          "text": [
            "훈련 세트 점수 : 0.465\n",
            "테스트 세트 점수 : 0.341\n"
          ],
          "name": "stdout"
        }
      ]
    },
    {
      "cell_type": "code",
      "metadata": {
        "id": "_tYlgUqWG9b8",
        "outputId": "4c88b74e-b09b-4fa9-e993-d526bb856e27",
        "colab": {
          "base_uri": "https://localhost:8080/"
        }
      },
      "source": [
        "# 4 parameter tuning\n",
        "rdg01 = Ridge(alpha=0.1)  \n",
        "# alpha 낮게 -> 규제 약하게 한다 -> 데이터에 더 많은 피팅 시켜라 -> 과대적합 방향으로 진행해라 \n",
        "# alpha 높게 -> 규제 강하게 한다 -> 모든 계수 값  0에 가깝게 -> 과소적합\n",
        "rdg01.fit(X_train, y_train)"
      ],
      "execution_count": 11,
      "outputs": [
        {
          "output_type": "execute_result",
          "data": {
            "text/plain": [
              "Ridge(alpha=0.1, copy_X=True, fit_intercept=True, max_iter=None,\n",
              "      normalize=False, random_state=None, solver='auto', tol=0.001)"
            ]
          },
          "metadata": {
            "tags": []
          },
          "execution_count": 11
        }
      ]
    },
    {
      "cell_type": "code",
      "metadata": {
        "id": "6E8Y6U1oHBCY",
        "outputId": "3a52c70e-eb14-4ab7-b469-e26ee813a236",
        "colab": {
          "base_uri": "https://localhost:8080/"
        }
      },
      "source": [
        "# 4-1 훈련 결과 확인 \n",
        "print(\"훈련 세트 점수 : {:.3f}\".format(rdg01.score(X_train,y_train)))\n",
        "print(\"테스트 세트 점수 : {:.3f}\".format(rdg01.score(X_test,y_test)))\n",
        "# 결과 : 훈련 세트 점수 : 0.548 테스트 세트 점수 : 0.342"
      ],
      "execution_count": 12,
      "outputs": [
        {
          "output_type": "stream",
          "text": [
            "훈련 세트 점수 : 0.548\n",
            "테스트 세트 점수 : 0.342\n"
          ],
          "name": "stdout"
        }
      ]
    },
    {
      "cell_type": "code",
      "metadata": {
        "id": "8WZ8cC_MHD3t",
        "outputId": "05f15e25-fadf-4d2b-dd33-00d00a486b49",
        "colab": {
          "base_uri": "https://localhost:8080/"
        }
      },
      "source": [
        "# 5 parameter tuning\n",
        "rdg02 = Ridge(alpha=0.01)  \n",
        "rdg02.fit(X_train, y_train)"
      ],
      "execution_count": 13,
      "outputs": [
        {
          "output_type": "execute_result",
          "data": {
            "text/plain": [
              "Ridge(alpha=0.01, copy_X=True, fit_intercept=True, max_iter=None,\n",
              "      normalize=False, random_state=None, solver='auto', tol=0.001)"
            ]
          },
          "metadata": {
            "tags": []
          },
          "execution_count": 13
        }
      ]
    },
    {
      "cell_type": "code",
      "metadata": {
        "id": "nxdBM1FOHHjz",
        "outputId": "894695bc-eae6-451e-aa07-38a3d81a90dc",
        "colab": {
          "base_uri": "https://localhost:8080/"
        }
      },
      "source": [
        "# 5-1 훈련 결과 확인 \n",
        "print(\"훈련 세트 점수 : {:.3f}\".format(rdg02.score(X_train,y_train)))\n",
        "print(\"테스트 세트 점수 : {:.3f}\".format(rdg02.score(X_test,y_test)))\n",
        "# 결과 : 훈련 세트 점수 : 0.553 테스트 세트 점수 : 0.330"
      ],
      "execution_count": 14,
      "outputs": [
        {
          "output_type": "stream",
          "text": [
            "훈련 세트 점수 : 0.553\n",
            "테스트 세트 점수 : 0.330\n"
          ],
          "name": "stdout"
        }
      ]
    },
    {
      "cell_type": "code",
      "metadata": {
        "id": "J8YxJtfzHLzv",
        "outputId": "05eee414-c799-42f3-ac7d-e94d2d3c4823",
        "colab": {
          "base_uri": "https://localhost:8080/"
        }
      },
      "source": [
        "# 6 parameter tuning\n",
        "rdg03 = Ridge(alpha=10)  \n",
        "rdg03.fit(X_train, y_train)"
      ],
      "execution_count": 15,
      "outputs": [
        {
          "output_type": "execute_result",
          "data": {
            "text/plain": [
              "Ridge(alpha=10, copy_X=True, fit_intercept=True, max_iter=None, normalize=False,\n",
              "      random_state=None, solver='auto', tol=0.001)"
            ]
          },
          "metadata": {
            "tags": []
          },
          "execution_count": 15
        }
      ]
    },
    {
      "cell_type": "code",
      "metadata": {
        "id": "4HwXZLydHzXU",
        "outputId": "3f3d217c-2c4a-4ed8-ba78-c038ed922e9d",
        "colab": {
          "base_uri": "https://localhost:8080/"
        }
      },
      "source": [
        "# 6-1 훈련 결과 확인 \n",
        "print(\"훈련 세트 점수 : {:.3f}\".format(rdg03.score(X_train,y_train)))\n",
        "print(\"테스트 세트 점수 : {:.3f}\".format(rdg03.score(X_test,y_test)))\n",
        "# 결과 : 훈련 세트 점수 : 0.176 테스트 세트 점수 : 0.141"
      ],
      "execution_count": 20,
      "outputs": [
        {
          "output_type": "stream",
          "text": [
            "훈련 세트 점수 : 0.176\n",
            "테스트 세트 점수 : 0.141\n"
          ],
          "name": "stdout"
        }
      ]
    },
    {
      "cell_type": "code",
      "metadata": {
        "id": "WjfjDk6DHTKG"
      },
      "source": [
        "import matplotlib.pyplot as plt\n"
      ],
      "execution_count": 17,
      "outputs": []
    },
    {
      "cell_type": "code",
      "metadata": {
        "id": "Oh79j9fnHOl0",
        "outputId": "49cc7dd0-fc01-437b-eefa-2bf9daf4472e",
        "colab": {
          "base_uri": "https://localhost:8080/",
          "height": 279
        }
      },
      "source": [
        "# 그래프 확인\n",
        "plt.plot(rdg.coef_,\"^\", label=\"alpha=0\")\n",
        "plt.plot(rdg01.coef_,\"^\", label=\"alpha=0.1\")\n",
        "plt.plot(rdg02.coef_,\"^\", label=\"alpha=0.01\")\n",
        "plt.plot(rdg03.coef_,\"o\", label=\"alpha=10\")\n",
        "plt.xlabel(\"coef list\")\n",
        "plt.ylabel(\"coefficient\")\n",
        "plt.hlines(0,0,len(rdg.coef_))\n",
        "plt.ylim(-500,500)\n",
        "plt.legend()\n",
        "plt.show()"
      ],
      "execution_count": 19,
      "outputs": [
        {
          "output_type": "display_data",
          "data": {
            "image/png": "[encoded data removed]",
            "text/plain": [
              "<Figure size 432x288 with 1 Axes>"
            ]
          },
          "metadata": {
            "tags": [],
            "needs_background": "light"
          }
        }
      ]
    },
    {
      "cell_type": "markdown",
      "metadata": {
        "id": "AlB8S1FWISDc"
      },
      "source": [
        "그래프를 해석하면, 가중치를 조절하기 위해 alpha를 조정하게 된다.\n",
        "\n",
        "alpha는 클 수록 규제가 많이 들어가며, 복잡해진다. 또한,  커질수록 계수의 크기가 줄어들게 되며, 영향을 끼치는 변수가 줄어들게 됩니다.(alpha = 10을 보면 확인 가능)\n",
        "\n",
        "\n"
      ]
    },
    {
      "cell_type": "code",
      "metadata": {
        "id": "Xd9SdmxGHRmO"
      },
      "source": [
        ""
      ],
      "execution_count": 20,
      "outputs": []
    }
  ]
}
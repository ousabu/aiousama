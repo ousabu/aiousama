{
  "nbformat": 4,
  "nbformat_minor": 0,
  "metadata": {
    "colab": {
      "name": "tweet2.ipynb",
      "provenance": [],
      "authorship_tag": "ABX9TyPNKD5Mc+IIFkd1Vrg9IUhR",
      "include_colab_link": true
    },
    "kernelspec": {
      "name": "python3",
      "display_name": "Python 3"
    },
    "accelerator": "TPU"
  },
  "cells": [
    {
      "cell_type": "markdown",
      "metadata": {
        "id": "view-in-github",
        "colab_type": "text"
      },
      "source": [
        "<a href=\"https://colab.research.google.com/github/ousabu/aiousama/blob/master/tweet2.ipynb\" target=\"_parent\"><img src=\"https://colab.research.google.com/assets/colab-badge.svg\" alt=\"Open In Colab\"/></a>"
      ]
    },
    {
      "cell_type": "code",
      "metadata": {
        "id": "gX77zWUYj7UY"
      },
      "source": [
        "from tensorflow.keras.preprocessing.text import Tokenizer\n",
        "from tensorflow.keras.preprocessing.sequence import pad_sequences\n",
        "from tensorflow.keras.models import Sequential\n",
        "from tensorflow.keras.layers import Conv1D,MaxPool1D,GlobalMaxPooling1D,MaxPooling1D\n",
        "from tensorflow.keras.layers import Dense,Flatten,Embedding,Activation,Dropout\n"
      ],
      "execution_count": 56,
      "outputs": []
    },
    {
      "cell_type": "code",
      "metadata": {
        "id": "-12j_12ynOMK"
      },
      "source": [
        "import numpy as np\n",
        "import pandas as pd\n",
        "import numpy as array\n",
        "from sklearn.model_selection import train_test_split"
      ],
      "execution_count": 57,
      "outputs": []
    },
    {
      "cell_type": "code",
      "metadata": {
        "id": "NZCsesbonqfv"
      },
      "source": [
        "tweet=pd.read_csv('/content/twitter4000.csv')"
      ],
      "execution_count": 58,
      "outputs": []
    },
    {
      "cell_type": "code",
      "metadata": {
        "id": "E781l3cbn2xZ",
        "outputId": "d8c33234-ea84-4834-a86e-566793aed385",
        "colab": {
          "base_uri": "https://localhost:8080/",
          "height": 196
        }
      },
      "source": [
        "tweet.head()"
      ],
      "execution_count": 59,
      "outputs": [
        {
          "output_type": "execute_result",
          "data": {
            "text/html": [
              "<div>\n",
              "<style scoped>\n",
              "    .dataframe tbody tr th:only-of-type {\n",
              "        vertical-align: middle;\n",
              "    }\n",
              "\n",
              "    .dataframe tbody tr th {\n",
              "        vertical-align: top;\n",
              "    }\n",
              "\n",
              "    .dataframe thead th {\n",
              "        text-align: right;\n",
              "    }\n",
              "</style>\n",
              "<table border=\"1\" class=\"dataframe\">\n",
              "  <thead>\n",
              "    <tr style=\"text-align: right;\">\n",
              "      <th></th>\n",
              "      <th>twitts</th>\n",
              "      <th>sentiment</th>\n",
              "    </tr>\n",
              "  </thead>\n",
              "  <tbody>\n",
              "    <tr>\n",
              "      <th>0</th>\n",
              "      <td>is bored and wants to watch a movie  any sugge...</td>\n",
              "      <td>0</td>\n",
              "    </tr>\n",
              "    <tr>\n",
              "      <th>1</th>\n",
              "      <td>back in miami.  waiting to unboard ship</td>\n",
              "      <td>0</td>\n",
              "    </tr>\n",
              "    <tr>\n",
              "      <th>2</th>\n",
              "      <td>@misskpey awwww dnt dis brng bak memoriessss, ...</td>\n",
              "      <td>0</td>\n",
              "    </tr>\n",
              "    <tr>\n",
              "      <th>3</th>\n",
              "      <td>ughhh i am so tired  blahhhhhhhhh</td>\n",
              "      <td>0</td>\n",
              "    </tr>\n",
              "    <tr>\n",
              "      <th>4</th>\n",
              "      <td>@mandagoforth me bad! It's funny though. Zacha...</td>\n",
              "      <td>0</td>\n",
              "    </tr>\n",
              "  </tbody>\n",
              "</table>\n",
              "</div>"
            ],
            "text/plain": [
              "                                              twitts  sentiment\n",
              "0  is bored and wants to watch a movie  any sugge...          0\n",
              "1           back in miami.  waiting to unboard ship           0\n",
              "2  @misskpey awwww dnt dis brng bak memoriessss, ...          0\n",
              "3                  ughhh i am so tired  blahhhhhhhhh          0\n",
              "4  @mandagoforth me bad! It's funny though. Zacha...          0"
            ]
          },
          "metadata": {
            "tags": []
          },
          "execution_count": 59
        }
      ]
    },
    {
      "cell_type": "code",
      "metadata": {
        "id": "9uCPO3cWn6TQ",
        "outputId": "edef5b9d-8907-4e4b-a8df-bd53dd773e42",
        "colab": {
          "base_uri": "https://localhost:8080/",
          "height": 167
        }
      },
      "source": [
        "tweet.info()"
      ],
      "execution_count": 60,
      "outputs": [
        {
          "output_type": "stream",
          "text": [
            "<class 'pandas.core.frame.DataFrame'>\n",
            "RangeIndex: 4000 entries, 0 to 3999\n",
            "Data columns (total 2 columns):\n",
            " #   Column     Non-Null Count  Dtype \n",
            "---  ------     --------------  ----- \n",
            " 0   twitts     4000 non-null   object\n",
            " 1   sentiment  4000 non-null   int64 \n",
            "dtypes: int64(1), object(1)\n",
            "memory usage: 62.6+ KB\n"
          ],
          "name": "stdout"
        }
      ]
    },
    {
      "cell_type": "code",
      "metadata": {
        "id": "_yt7BguloZSF",
        "outputId": "3518aa28-6078-4c6a-86f0-94b6b6aa835b",
        "colab": {
          "base_uri": "https://localhost:8080/",
          "height": 67
        }
      },
      "source": [
        "tweet.sentiment.value_counts()"
      ],
      "execution_count": 61,
      "outputs": [
        {
          "output_type": "execute_result",
          "data": {
            "text/plain": [
              "1    2000\n",
              "0    2000\n",
              "Name: sentiment, dtype: int64"
            ]
          },
          "metadata": {
            "tags": []
          },
          "execution_count": 61
        }
      ]
    },
    {
      "cell_type": "code",
      "metadata": {
        "id": "6ueoAnM3oel6",
        "outputId": "4fa0d745-f53d-4e95-a34a-c4833204896c",
        "colab": {
          "base_uri": "https://localhost:8080/",
          "height": 67
        }
      },
      "source": [
        "tweet.isnull().sum()"
      ],
      "execution_count": 62,
      "outputs": [
        {
          "output_type": "execute_result",
          "data": {
            "text/plain": [
              "twitts       0\n",
              "sentiment    0\n",
              "dtype: int64"
            ]
          },
          "metadata": {
            "tags": []
          },
          "execution_count": 62
        }
      ]
    },
    {
      "cell_type": "code",
      "metadata": {
        "id": "0ZSwycuJoipP",
        "outputId": "f101d8e3-20e1-41ee-b7e2-0f223f444ec8",
        "colab": {
          "base_uri": "https://localhost:8080/",
          "height": 286
        }
      },
      "source": [
        "tweet.describe()"
      ],
      "execution_count": 63,
      "outputs": [
        {
          "output_type": "execute_result",
          "data": {
            "text/html": [
              "<div>\n",
              "<style scoped>\n",
              "    .dataframe tbody tr th:only-of-type {\n",
              "        vertical-align: middle;\n",
              "    }\n",
              "\n",
              "    .dataframe tbody tr th {\n",
              "        vertical-align: top;\n",
              "    }\n",
              "\n",
              "    .dataframe thead th {\n",
              "        text-align: right;\n",
              "    }\n",
              "</style>\n",
              "<table border=\"1\" class=\"dataframe\">\n",
              "  <thead>\n",
              "    <tr style=\"text-align: right;\">\n",
              "      <th></th>\n",
              "      <th>sentiment</th>\n",
              "    </tr>\n",
              "  </thead>\n",
              "  <tbody>\n",
              "    <tr>\n",
              "      <th>count</th>\n",
              "      <td>4000.000000</td>\n",
              "    </tr>\n",
              "    <tr>\n",
              "      <th>mean</th>\n",
              "      <td>0.500000</td>\n",
              "    </tr>\n",
              "    <tr>\n",
              "      <th>std</th>\n",
              "      <td>0.500063</td>\n",
              "    </tr>\n",
              "    <tr>\n",
              "      <th>min</th>\n",
              "      <td>0.000000</td>\n",
              "    </tr>\n",
              "    <tr>\n",
              "      <th>25%</th>\n",
              "      <td>0.000000</td>\n",
              "    </tr>\n",
              "    <tr>\n",
              "      <th>50%</th>\n",
              "      <td>0.500000</td>\n",
              "    </tr>\n",
              "    <tr>\n",
              "      <th>75%</th>\n",
              "      <td>1.000000</td>\n",
              "    </tr>\n",
              "    <tr>\n",
              "      <th>max</th>\n",
              "      <td>1.000000</td>\n",
              "    </tr>\n",
              "  </tbody>\n",
              "</table>\n",
              "</div>"
            ],
            "text/plain": [
              "         sentiment\n",
              "count  4000.000000\n",
              "mean      0.500000\n",
              "std       0.500063\n",
              "min       0.000000\n",
              "25%       0.000000\n",
              "50%       0.500000\n",
              "75%       1.000000\n",
              "max       1.000000"
            ]
          },
          "metadata": {
            "tags": []
          },
          "execution_count": 63
        }
      ]
    },
    {
      "cell_type": "code",
      "metadata": {
        "id": "kI7o_ctuxtBU",
        "outputId": "14c0cd3c-f3ff-423d-e28f-c9fbec58d1ef",
        "colab": {
          "base_uri": "https://localhost:8080/",
          "height": 33
        }
      },
      "source": [
        "type(tweet.twitts)"
      ],
      "execution_count": 64,
      "outputs": [
        {
          "output_type": "execute_result",
          "data": {
            "text/plain": [
              "pandas.core.series.Series"
            ]
          },
          "metadata": {
            "tags": []
          },
          "execution_count": 64
        }
      ]
    },
    {
      "cell_type": "code",
      "metadata": {
        "id": "y3qAIeml0tCt"
      },
      "source": [
        "\n",
        "  "
      ],
      "execution_count": 64,
      "outputs": []
    },
    {
      "cell_type": "code",
      "metadata": {
        "id": "C6hYFHLU0e83"
      },
      "source": [
        "tlist=tweet.twitts.tolist()"
      ],
      "execution_count": 65,
      "outputs": []
    },
    {
      "cell_type": "code",
      "metadata": {
        "id": "dopMUxxh0msU",
        "outputId": "a095a612-7dad-4006-99b3-831296ab7d91",
        "colab": {
          "base_uri": "https://localhost:8080/",
          "height": 120
        }
      },
      "source": [
        "tlist[:5]"
      ],
      "execution_count": 66,
      "outputs": [
        {
          "output_type": "execute_result",
          "data": {
            "text/plain": [
              "['is bored and wants to watch a movie  any suggestions?',\n",
              " 'back in miami.  waiting to unboard ship ',\n",
              " \"@misskpey awwww dnt dis brng bak memoriessss,  I thnk I'm sad. LoL\",\n",
              " 'ughhh i am so tired  blahhhhhhhhh',\n",
              " \"@mandagoforth me bad! It's funny though. Zachary Quinto is only there for a few though.  &amp; to reply just put the @ symbol before the name!\"]"
            ]
          },
          "metadata": {
            "tags": []
          },
          "execution_count": 66
        }
      ]
    },
    {
      "cell_type": "code",
      "metadata": {
        "id": "fs_af15S1LyV",
        "outputId": "d68cf68a-65d2-4e15-a1e8-53060ce7a588",
        "colab": {
          "base_uri": "https://localhost:8080/",
          "height": 33
        }
      },
      "source": [
        "token = Tokenizer()\n",
        "fit_text=token.fit_on_texts(tlist)\n",
        "token\n"
      ],
      "execution_count": 67,
      "outputs": [
        {
          "output_type": "execute_result",
          "data": {
            "text/plain": [
              "<keras_preprocessing.text.Tokenizer at 0x7f6900e20f60>"
            ]
          },
          "metadata": {
            "tags": []
          },
          "execution_count": 67
        }
      ]
    },
    {
      "cell_type": "code",
      "metadata": {
        "id": "hhe8209BRTh6",
        "outputId": "11a0e7bb-ac3e-400e-f57a-0401f2b49b6b",
        "colab": {
          "base_uri": "https://localhost:8080/",
          "height": 33
        }
      },
      "source": [
        "type(fit_text)"
      ],
      "execution_count": 68,
      "outputs": [
        {
          "output_type": "execute_result",
          "data": {
            "text/plain": [
              "NoneType"
            ]
          },
          "metadata": {
            "tags": []
          },
          "execution_count": 68
        }
      ]
    },
    {
      "cell_type": "code",
      "metadata": {
        "id": "hAupDz0hPwXD"
      },
      "source": [
        "y=tweet.sentiment"
      ],
      "execution_count": 69,
      "outputs": []
    },
    {
      "cell_type": "code",
      "metadata": {
        "id": "f0WQAg3_QAz_",
        "outputId": "f68eaed3-1b29-4b95-dea9-589a9be6667b",
        "colab": {
          "base_uri": "https://localhost:8080/",
          "height": 33
        }
      },
      "source": [
        "vocab_size = len(token.word_index) + 1\n",
        "vocab_size"
      ],
      "execution_count": 70,
      "outputs": [
        {
          "output_type": "execute_result",
          "data": {
            "text/plain": [
              "10135"
            ]
          },
          "metadata": {
            "tags": []
          },
          "execution_count": 70
        }
      ]
    },
    {
      "cell_type": "code",
      "metadata": {
        "id": "fRdqWykLQE8i",
        "outputId": "daf672e9-1bc4-4223-9094-58a6cf53bf25",
        "colab": {
          "base_uri": "https://localhost:8080/",
          "height": 53
        }
      },
      "source": [
        "import itertools \n",
        "print(dict(itertools.islice(token.index_word.items(), 100)))\n"
      ],
      "execution_count": 71,
      "outputs": [
        {
          "output_type": "stream",
          "text": [
            "{1: 'i', 2: 'to', 3: 'the', 4: 'a', 5: 'my', 6: 'and', 7: 'you', 8: 'is', 9: 'it', 10: 'in', 11: 'for', 12: 'of', 13: 'me', 14: 'on', 15: 'so', 16: 'that', 17: \"i'm\", 18: 'have', 19: 'at', 20: 'but', 21: 'just', 22: 'was', 23: 'with', 24: 'not', 25: 'be', 26: 'this', 27: 'day', 28: 'up', 29: 'now', 30: 'good', 31: 'all', 32: 'get', 33: 'out', 34: 'go', 35: 'no', 36: 'http', 37: 'today', 38: 'like', 39: 'are', 40: 'love', 41: 'your', 42: 'quot', 43: 'too', 44: 'lol', 45: 'work', 46: 'got', 47: \"it's\", 48: 'amp', 49: 'do', 50: 'com', 51: 'u', 52: 'back', 53: 'going', 54: 'what', 55: 'time', 56: 'from', 57: 'had', 58: 'will', 59: 'know', 60: 'about', 61: 'im', 62: 'am', 63: \"don't\", 64: 'can', 65: 'one', 66: 'really', 67: \"can't\", 68: 'we', 69: 'oh', 70: 'well', 71: 'still', 72: '2', 73: 'some', 74: 'its', 75: 'miss', 76: 'want', 77: 'see', 78: 'when', 79: 'home', 80: 'think', 81: 'an', 82: 'as', 83: 'if', 84: 'night', 85: 'need', 86: 'again', 87: 'new', 88: 'there', 89: 'morning', 90: 'here', 91: 'how', 92: 'her', 93: 'much', 94: 'thanks', 95: 'or', 96: 'they', 97: '3', 98: 'last', 99: 'off', 100: 'more'}\n"
          ],
          "name": "stdout"
        }
      ]
    },
    {
      "cell_type": "code",
      "metadata": {
        "id": "Txp36nVGQIfT",
        "outputId": "313db168-8185-41a1-ee5a-d095a5181bdb",
        "colab": {
          "base_uri": "https://localhost:8080/",
          "height": 33
        }
      },
      "source": [
        "x = ['he go home']\n",
        "token.texts_to_sequences(x)"
      ],
      "execution_count": 72,
      "outputs": [
        {
          "output_type": "execute_result",
          "data": {
            "text/plain": [
              "[[125, 34, 79]]"
            ]
          },
          "metadata": {
            "tags": []
          },
          "execution_count": 72
        }
      ]
    },
    {
      "cell_type": "code",
      "metadata": {
        "id": "wZGRqJoQRloE"
      },
      "source": [
        "encoded=token.texts_to_sequences(tlist)"
      ],
      "execution_count": 73,
      "outputs": []
    },
    {
      "cell_type": "code",
      "metadata": {
        "id": "EE6QWYJ0aA4l"
      },
      "source": [
        ""
      ],
      "execution_count": 73,
      "outputs": []
    },
    {
      "cell_type": "code",
      "metadata": {
        "id": "iGUWKYHhQODH",
        "outputId": "2cf7a3e0-4d70-4349-8771-4a7c90c8f898",
        "colab": {
          "base_uri": "https://localhost:8080/",
          "height": 134
        }
      },
      "source": [
        "max_length = 120\n",
        "X = pad_sequences(encoded, maxlen=max_length, padding='post')\n",
        "print(X)"
      ],
      "execution_count": 74,
      "outputs": [
        {
          "output_type": "stream",
          "text": [
            "[[    8   304     6 ...     0     0     0]\n",
            " [   52    10  1019 ...     0     0     0]\n",
            " [ 3082  1197   668 ...     0     0     0]\n",
            " ...\n",
            " [ 1033    21  1021 ...     0     0     0]\n",
            " [10134   134     7 ...     0     0     0]\n",
            " [   94    11   226 ...     0     0     0]]\n"
          ],
          "name": "stdout"
        }
      ]
    },
    {
      "cell_type": "code",
      "metadata": {
        "id": "63XDwWubRzMc",
        "outputId": "ae6a6e35-4558-4037-8536-8fa82d3cca47",
        "colab": {
          "base_uri": "https://localhost:8080/",
          "height": 67
        }
      },
      "source": [
        "encoded[:3]"
      ],
      "execution_count": 75,
      "outputs": [
        {
          "output_type": "execute_result",
          "data": {
            "text/plain": [
              "[[8, 304, 6, 345, 2, 191, 4, 236, 254, 3079],\n",
              " [52, 10, 1019, 206, 2, 3080, 3081],\n",
              " [3082, 1197, 668, 1955, 3083, 1956, 3084, 1, 3085, 17, 115, 44]]"
            ]
          },
          "metadata": {
            "tags": []
          },
          "execution_count": 75
        }
      ]
    },
    {
      "cell_type": "code",
      "metadata": {
        "id": "ypn8AJkQSMEK",
        "outputId": "8d701839-6cfe-4110-9d8b-99b061a9a779",
        "colab": {
          "base_uri": "https://localhost:8080/",
          "height": 134
        }
      },
      "source": [
        "max_length = 120\n",
        "x= pad_sequences(encoded, maxlen=max_length, padding='post')\n",
        "print(x)"
      ],
      "execution_count": 76,
      "outputs": [
        {
          "output_type": "stream",
          "text": [
            "[[    8   304     6 ...     0     0     0]\n",
            " [   52    10  1019 ...     0     0     0]\n",
            " [ 3082  1197   668 ...     0     0     0]\n",
            " ...\n",
            " [ 1033    21  1021 ...     0     0     0]\n",
            " [10134   134     7 ...     0     0     0]\n",
            " [   94    11   226 ...     0     0     0]]\n"
          ],
          "name": "stdout"
        }
      ]
    },
    {
      "cell_type": "code",
      "metadata": {
        "id": "SAHlJDozSduj",
        "outputId": "f159300c-bb76-4e30-bd7d-a9e4a13b7bb3",
        "colab": {
          "base_uri": "https://localhost:8080/",
          "height": 33
        }
      },
      "source": [
        "x.shape"
      ],
      "execution_count": 77,
      "outputs": [
        {
          "output_type": "execute_result",
          "data": {
            "text/plain": [
              "(4000, 120)"
            ]
          },
          "metadata": {
            "tags": []
          },
          "execution_count": 77
        }
      ]
    },
    {
      "cell_type": "code",
      "metadata": {
        "id": "Uo42TCFHTf2I"
      },
      "source": [
        "x_train, x_test, y_train, y_test = train_test_split(X, y, random_state = 42, test_size = 0.2, stratify = y)"
      ],
      "execution_count": 78,
      "outputs": []
    },
    {
      "cell_type": "code",
      "metadata": {
        "id": "rgtu9Da6TmcR"
      },
      "source": [
        "vec_size=300\n"
      ],
      "execution_count": 79,
      "outputs": []
    },
    {
      "cell_type": "code",
      "metadata": {
        "id": "da2rG7jRT4GM"
      },
      "source": [
        "model = Sequential()\n",
        "model.add(Embedding(vocab_size, vec_size, input_length=max_length))\n"
      ],
      "execution_count": 80,
      "outputs": []
    },
    {
      "cell_type": "code",
      "metadata": {
        "id": "KvXC8AHDT423"
      },
      "source": [
        "model.add(Conv1D(64, 8, activation = 'relu'))\n",
        "model.add(MaxPooling1D(2))\n",
        "model.add(Dropout(0.2))"
      ],
      "execution_count": 81,
      "outputs": []
    },
    {
      "cell_type": "code",
      "metadata": {
        "id": "2nKnDPmiUTdU"
      },
      "source": [
        "model.add(Dense(32,activation='relu'))\n",
        "model.add(Dropout(0.5))"
      ],
      "execution_count": 82,
      "outputs": []
    },
    {
      "cell_type": "code",
      "metadata": {
        "id": "ByK5h7vzVAQz"
      },
      "source": [
        "model.add(Dense(16, activation='relu'))\n",
        "\n",
        "model.add(GlobalMaxPooling1D())\n",
        "\n",
        "model.add(Dense(1, activation='sigmoid'))\n"
      ],
      "execution_count": 83,
      "outputs": []
    },
    {
      "cell_type": "code",
      "metadata": {
        "id": "QauFWy1FVT78"
      },
      "source": [
        "model.compile(optimizer='adam',loss='binary_crossentropy',metrics=['accuracy'])"
      ],
      "execution_count": 84,
      "outputs": []
    },
    {
      "cell_type": "code",
      "metadata": {
        "id": "sibYKyhxV5h_",
        "outputId": "38677175-8cbd-40fa-d690-8f5c22ef0b47",
        "colab": {
          "base_uri": "https://localhost:8080/",
          "height": 371
        }
      },
      "source": [
        "history=model.fit(x_train,y_train,batch_size=100,epochs=10,validation_data=(x_test,y_test))"
      ],
      "execution_count": 85,
      "outputs": [
        {
          "output_type": "stream",
          "text": [
            "Epoch 1/10\n",
            "32/32 [==============================] - 11s 339ms/step - loss: 0.6976 - accuracy: 0.4872 - val_loss: 0.6927 - val_accuracy: 0.5088\n",
            "Epoch 2/10\n",
            "32/32 [==============================] - 11s 334ms/step - loss: 0.6913 - accuracy: 0.5247 - val_loss: 0.6900 - val_accuracy: 0.5038\n",
            "Epoch 3/10\n",
            "32/32 [==============================] - 11s 333ms/step - loss: 0.6640 - accuracy: 0.5922 - val_loss: 0.6517 - val_accuracy: 0.6288\n",
            "Epoch 4/10\n",
            "32/32 [==============================] - 11s 334ms/step - loss: 0.5093 - accuracy: 0.7772 - val_loss: 0.5848 - val_accuracy: 0.7000\n",
            "Epoch 5/10\n",
            "32/32 [==============================] - 11s 333ms/step - loss: 0.2659 - accuracy: 0.9031 - val_loss: 0.6107 - val_accuracy: 0.7125\n",
            "Epoch 6/10\n",
            "32/32 [==============================] - 11s 333ms/step - loss: 0.1101 - accuracy: 0.9644 - val_loss: 0.7167 - val_accuracy: 0.7188\n",
            "Epoch 7/10\n",
            "32/32 [==============================] - 11s 335ms/step - loss: 0.0506 - accuracy: 0.9869 - val_loss: 0.8080 - val_accuracy: 0.7100\n",
            "Epoch 8/10\n",
            "32/32 [==============================] - 11s 335ms/step - loss: 0.0343 - accuracy: 0.9912 - val_loss: 0.9436 - val_accuracy: 0.6862\n",
            "Epoch 9/10\n",
            "32/32 [==============================] - 11s 332ms/step - loss: 0.0215 - accuracy: 0.9931 - val_loss: 1.0268 - val_accuracy: 0.6900\n",
            "Epoch 10/10\n",
            "32/32 [==============================] - 11s 335ms/step - loss: 0.0164 - accuracy: 0.9947 - val_loss: 1.1265 - val_accuracy: 0.6938\n"
          ],
          "name": "stdout"
        }
      ]
    },
    {
      "cell_type": "code",
      "metadata": {
        "id": "HZqJ9vgpWLsO"
      },
      "source": [
        "import matplotlib.pyplot as plt\n"
      ],
      "execution_count": 86,
      "outputs": []
    },
    {
      "cell_type": "code",
      "metadata": {
        "id": "FNN67_IJWpAh",
        "outputId": "8ef7d119-a756-467b-c349-812f6a493848",
        "colab": {
          "base_uri": "https://localhost:8080/",
          "height": 265
        }
      },
      "source": [
        "plt.plot(history.history['accuracy'])\n",
        "plt.plot(history.history['val_accuracy'])\n",
        "plt.show()"
      ],
      "execution_count": 87,
      "outputs": [
        {
          "output_type": "display_data",
          "data": {
            "image/png": "[encoded data removed]",
            "text/plain": [
              "<Figure size 432x288 with 1 Axes>"
            ]
          },
          "metadata": {
            "tags": [],
            "needs_background": "light"
          }
        }
      ]
    },
    {
      "cell_type": "code",
      "metadata": {
        "id": "cOytrVpsW-hb",
        "outputId": "6f87cc03-59d0-4152-b00d-a1f8de8023a4",
        "colab": {
          "base_uri": "https://localhost:8080/",
          "height": 281
        }
      },
      "source": [
        "plt.plot(history.history['loss'])\n",
        "plt.plot(history.history['val_loss'])"
      ],
      "execution_count": 88,
      "outputs": [
        {
          "output_type": "execute_result",
          "data": {
            "text/plain": [
              "[<matplotlib.lines.Line2D at 0x7f69005887f0>]"
            ]
          },
          "metadata": {
            "tags": []
          },
          "execution_count": 88
        },
        {
          "output_type": "display_data",
          "data": {
            "image/png": "[encoded data removed]",
            "text/plain": [
              "<Figure size 432x288 with 1 Axes>"
            ]
          },
          "metadata": {
            "tags": [],
            "needs_background": "light"
          }
        }
      ]
    },
    {
      "cell_type": "code",
      "metadata": {
        "id": "jQALW79SXIGf"
      },
      "source": [
        ""
      ],
      "execution_count": 88,
      "outputs": []
    }
  ]
}
{
  "nbformat": 4,
  "nbformat_minor": 0,
  "metadata": {
    "colab": {
      "name": "자동차가격.ipynb",
      "provenance": [],
      "authorship_tag": "ABX9TyMbPp8ySP+jffM3UEdN3QSq",
      "include_colab_link": true
    },
    "kernelspec": {
      "name": "python3",
      "display_name": "Python 3"
    }
  },
  "cells": [
    {
      "cell_type": "markdown",
      "metadata": {
        "id": "view-in-github",
        "colab_type": "text"
      },
      "source": [
        "<a href=\"https://colab.research.google.com/github/ousabu/aiousama/blob/master/%EC%9E%90%EB%8F%99%EC%B0%A8%EA%B0%80%EA%B2%A9.ipynb\" target=\"_parent\"><img src=\"https://colab.research.google.com/assets/colab-badge.svg\" alt=\"Open In Colab\"/></a>"
      ]
    },
    {
      "cell_type": "code",
      "metadata": {
        "id": "gTkcOQ14jAg5"
      },
      "source": [
        "import pandas as pd\n",
        "import matplotlib.pyplot as plt\n",
        "import seaborn as sns\n",
        "#matplotlib 패키지 한글 폰트 설정 시작\n",
        "import matplotlib as mpl\n",
        "mpl.rc('font', family='Malgun Gothic') #윈도우, 구글 콜랩\n",
        "#mpl.rc('font', family='AppleGothic') #맥\n",
        "#matplotlib 패키지 한글 폰트 설정 끝"
      ],
      "execution_count": null,
      "outputs": []
    },
    {
      "cell_type": "code",
      "metadata": {
        "id": "rROirbOMjHhH"
      },
      "source": [
        "train_df=pd.read_excel('/content/carprice_E1SUl6b (1).xlsx',sheet_name='train')"
      ],
      "execution_count": null,
      "outputs": []
    },
    {
      "cell_type": "code",
      "metadata": {
        "id": "4nI0CVcAjSos",
        "outputId": "8d5a7af8-b944-47e6-bff3-d3fc1554e080",
        "colab": {
          "base_uri": "https://localhost:8080/",
          "height": 196
        }
      },
      "source": [
        "train_df.head()"
      ],
      "execution_count": null,
      "outputs": [
        {
          "output_type": "execute_result",
          "data": {
            "text/html": [
              "<div>\n",
              "<style scoped>\n",
              "    .dataframe tbody tr th:only-of-type {\n",
              "        vertical-align: middle;\n",
              "    }\n",
              "\n",
              "    .dataframe tbody tr th {\n",
              "        vertical-align: top;\n",
              "    }\n",
              "\n",
              "    .dataframe thead th {\n",
              "        text-align: right;\n",
              "    }\n",
              "</style>\n",
              "<table border=\"1\" class=\"dataframe\">\n",
              "  <thead>\n",
              "    <tr style=\"text-align: right;\">\n",
              "      <th></th>\n",
              "      <th>가격</th>\n",
              "      <th>년식</th>\n",
              "      <th>종류</th>\n",
              "      <th>연비</th>\n",
              "      <th>마력</th>\n",
              "      <th>토크</th>\n",
              "      <th>연료</th>\n",
              "      <th>하이브리드</th>\n",
              "      <th>배기량</th>\n",
              "      <th>중량</th>\n",
              "      <th>변속기</th>\n",
              "    </tr>\n",
              "  </thead>\n",
              "  <tbody>\n",
              "    <tr>\n",
              "      <th>0</th>\n",
              "      <td>1885</td>\n",
              "      <td>2015</td>\n",
              "      <td>준중형</td>\n",
              "      <td>11.8</td>\n",
              "      <td>172</td>\n",
              "      <td>21.0</td>\n",
              "      <td>가솔린</td>\n",
              "      <td>0</td>\n",
              "      <td>1999</td>\n",
              "      <td>1300</td>\n",
              "      <td>자동</td>\n",
              "    </tr>\n",
              "    <tr>\n",
              "      <th>1</th>\n",
              "      <td>2190</td>\n",
              "      <td>2015</td>\n",
              "      <td>준중형</td>\n",
              "      <td>12.3</td>\n",
              "      <td>204</td>\n",
              "      <td>27.0</td>\n",
              "      <td>가솔린</td>\n",
              "      <td>0</td>\n",
              "      <td>1591</td>\n",
              "      <td>1300</td>\n",
              "      <td>자동</td>\n",
              "    </tr>\n",
              "    <tr>\n",
              "      <th>2</th>\n",
              "      <td>1135</td>\n",
              "      <td>2015</td>\n",
              "      <td>소형</td>\n",
              "      <td>15.0</td>\n",
              "      <td>100</td>\n",
              "      <td>13.6</td>\n",
              "      <td>가솔린</td>\n",
              "      <td>0</td>\n",
              "      <td>1368</td>\n",
              "      <td>1035</td>\n",
              "      <td>수동</td>\n",
              "    </tr>\n",
              "    <tr>\n",
              "      <th>3</th>\n",
              "      <td>1645</td>\n",
              "      <td>2014</td>\n",
              "      <td>소형</td>\n",
              "      <td>14.0</td>\n",
              "      <td>140</td>\n",
              "      <td>17.0</td>\n",
              "      <td>가솔린</td>\n",
              "      <td>0</td>\n",
              "      <td>1591</td>\n",
              "      <td>1090</td>\n",
              "      <td>자동</td>\n",
              "    </tr>\n",
              "    <tr>\n",
              "      <th>4</th>\n",
              "      <td>1960</td>\n",
              "      <td>2015</td>\n",
              "      <td>대형</td>\n",
              "      <td>9.6</td>\n",
              "      <td>175</td>\n",
              "      <td>46.0</td>\n",
              "      <td>디젤</td>\n",
              "      <td>0</td>\n",
              "      <td>2497</td>\n",
              "      <td>1990</td>\n",
              "      <td>자동</td>\n",
              "    </tr>\n",
              "  </tbody>\n",
              "</table>\n",
              "</div>"
            ],
            "text/plain": [
              "     가격    년식   종류    연비   마력    토크   연료  하이브리드   배기량    중량 변속기\n",
              "0  1885  2015  준중형  11.8  172  21.0  가솔린      0  1999  1300  자동\n",
              "1  2190  2015  준중형  12.3  204  27.0  가솔린      0  1591  1300  자동\n",
              "2  1135  2015   소형  15.0  100  13.6  가솔린      0  1368  1035  수동\n",
              "3  1645  2014   소형  14.0  140  17.0  가솔린      0  1591  1090  자동\n",
              "4  1960  2015   대형   9.6  175  46.0   디젤      0  2497  1990  자동"
            ]
          },
          "metadata": {
            "tags": []
          },
          "execution_count": 10
        }
      ]
    },
    {
      "cell_type": "code",
      "metadata": {
        "id": "mLh0XxByjYXF"
      },
      "source": [
        "test_df=pd.read_excel('/content/carprice_E1SUl6b (1).xlsx',sheet_name='test')"
      ],
      "execution_count": null,
      "outputs": []
    },
    {
      "cell_type": "code",
      "metadata": {
        "id": "juswexv_j_Ii",
        "outputId": "00b29e15-34d2-457a-9df0-78c2eda2ae54",
        "colab": {
          "base_uri": "https://localhost:8080/",
          "height": 196
        }
      },
      "source": [
        "test_df.head()"
      ],
      "execution_count": null,
      "outputs": [
        {
          "output_type": "execute_result",
          "data": {
            "text/html": [
              "<div>\n",
              "<style scoped>\n",
              "    .dataframe tbody tr th:only-of-type {\n",
              "        vertical-align: middle;\n",
              "    }\n",
              "\n",
              "    .dataframe tbody tr th {\n",
              "        vertical-align: top;\n",
              "    }\n",
              "\n",
              "    .dataframe thead th {\n",
              "        text-align: right;\n",
              "    }\n",
              "</style>\n",
              "<table border=\"1\" class=\"dataframe\">\n",
              "  <thead>\n",
              "    <tr style=\"text-align: right;\">\n",
              "      <th></th>\n",
              "      <th>가격</th>\n",
              "      <th>년식</th>\n",
              "      <th>종류</th>\n",
              "      <th>연비</th>\n",
              "      <th>마력</th>\n",
              "      <th>토크</th>\n",
              "      <th>연료</th>\n",
              "      <th>하이브리드</th>\n",
              "      <th>배기량</th>\n",
              "      <th>중량</th>\n",
              "      <th>변속기</th>\n",
              "    </tr>\n",
              "  </thead>\n",
              "  <tbody>\n",
              "    <tr>\n",
              "      <th>0</th>\n",
              "      <td>1915</td>\n",
              "      <td>2015</td>\n",
              "      <td>대형</td>\n",
              "      <td>6.8</td>\n",
              "      <td>159</td>\n",
              "      <td>23.0</td>\n",
              "      <td>LPG</td>\n",
              "      <td>0</td>\n",
              "      <td>2359</td>\n",
              "      <td>1935</td>\n",
              "      <td>수동</td>\n",
              "    </tr>\n",
              "    <tr>\n",
              "      <th>1</th>\n",
              "      <td>1164</td>\n",
              "      <td>2012</td>\n",
              "      <td>소형</td>\n",
              "      <td>13.3</td>\n",
              "      <td>108</td>\n",
              "      <td>13.9</td>\n",
              "      <td>가솔린</td>\n",
              "      <td>0</td>\n",
              "      <td>1396</td>\n",
              "      <td>1035</td>\n",
              "      <td>자동</td>\n",
              "    </tr>\n",
              "    <tr>\n",
              "      <th>2</th>\n",
              "      <td>2817</td>\n",
              "      <td>2015</td>\n",
              "      <td>중형</td>\n",
              "      <td>14.4</td>\n",
              "      <td>184</td>\n",
              "      <td>41.0</td>\n",
              "      <td>디젤</td>\n",
              "      <td>0</td>\n",
              "      <td>1995</td>\n",
              "      <td>1792</td>\n",
              "      <td>자동</td>\n",
              "    </tr>\n",
              "    <tr>\n",
              "      <th>3</th>\n",
              "      <td>2160</td>\n",
              "      <td>2015</td>\n",
              "      <td>대형</td>\n",
              "      <td>10.9</td>\n",
              "      <td>175</td>\n",
              "      <td>46.0</td>\n",
              "      <td>디젤</td>\n",
              "      <td>0</td>\n",
              "      <td>2497</td>\n",
              "      <td>2210</td>\n",
              "      <td>수동</td>\n",
              "    </tr>\n",
              "    <tr>\n",
              "      <th>4</th>\n",
              "      <td>1915</td>\n",
              "      <td>2015</td>\n",
              "      <td>대형</td>\n",
              "      <td>6.4</td>\n",
              "      <td>159</td>\n",
              "      <td>23.0</td>\n",
              "      <td>LPG</td>\n",
              "      <td>0</td>\n",
              "      <td>2359</td>\n",
              "      <td>1935</td>\n",
              "      <td>자동</td>\n",
              "    </tr>\n",
              "  </tbody>\n",
              "</table>\n",
              "</div>"
            ],
            "text/plain": [
              "     가격    년식  종류    연비   마력    토크   연료  하이브리드   배기량    중량 변속기\n",
              "0  1915  2015  대형   6.8  159  23.0  LPG      0  2359  1935  수동\n",
              "1  1164  2012  소형  13.3  108  13.9  가솔린      0  1396  1035  자동\n",
              "2  2817  2015  중형  14.4  184  41.0   디젤      0  1995  1792  자동\n",
              "3  2160  2015  대형  10.9  175  46.0   디젤      0  2497  2210  수동\n",
              "4  1915  2015  대형   6.4  159  23.0  LPG      0  2359  1935  자동"
            ]
          },
          "metadata": {
            "tags": []
          },
          "execution_count": 12
        }
      ]
    },
    {
      "cell_type": "code",
      "metadata": {
        "id": "1_fdNkxRkApS"
      },
      "source": [
        "x_train = train_df.drop(['가격'], axis=1)\n",
        "x_test = test_df.drop(['가격'], axis=1)\n",
        "y_train = train_df['가격']\n",
        "y_test = test_df['가격']"
      ],
      "execution_count": null,
      "outputs": []
    },
    {
      "cell_type": "code",
      "metadata": {
        "id": "nVI0eDs6koSE"
      },
      "source": [
        "import pandas as pd\n",
        "from sklearn.preprocessing import OneHotEncoder\n",
        "from sklearn.compose import make_column_transformer\n",
        "from sklearn.linear_model import LinearRegression\n",
        "import numpy as np"
      ],
      "execution_count": null,
      "outputs": []
    },
    {
      "cell_type": "code",
      "metadata": {
        "id": "jksXU4sMkG0p",
        "outputId": "175e74b5-639d-47a1-cffe-91665cb07b05",
        "colab": {
          "base_uri": "https://localhost:8080/",
          "height": 33
        }
      },
      "source": [
        "x_train.columns"
      ],
      "execution_count": null,
      "outputs": [
        {
          "output_type": "execute_result",
          "data": {
            "text/plain": [
              "Index(['년식', '종류', '연비', '마력', '토크', '연료', '하이브리드', '배기량', '중량', '변속기'], dtype='object')"
            ]
          },
          "metadata": {
            "tags": []
          },
          "execution_count": 17
        }
      ]
    },
    {
      "cell_type": "code",
      "metadata": {
        "id": "Au-6uyTikV6T"
      },
      "source": [
        "transformer = make_column_transformer(\n",
        "    (OneHotEncoder(), ['종류', '연료', '변속기']),\n",
        "    remainder='passthrough')\n",
        "transformer.fit(x_train)\n",
        "x_train = transformer.transform(x_train) \n",
        "x_test = transformer.transform(x_test)"
      ],
      "execution_count": null,
      "outputs": []
    },
    {
      "cell_type": "code",
      "metadata": {
        "id": "HVqggB4Skgee",
        "outputId": "7ac2bbb5-8a40-49c5-d7cd-7d93befe5d9d",
        "colab": {
          "base_uri": "https://localhost:8080/",
          "height": 67
        }
      },
      "source": [
        "x_train[0]"
      ],
      "execution_count": null,
      "outputs": [
        {
          "output_type": "execute_result",
          "data": {
            "text/plain": [
              "array([0.000e+00, 0.000e+00, 1.000e+00, 0.000e+00, 0.000e+00, 1.000e+00,\n",
              "       0.000e+00, 0.000e+00, 1.000e+00, 2.015e+03, 1.180e+01, 1.720e+02,\n",
              "       2.100e+01, 0.000e+00, 1.999e+03, 1.300e+03])"
            ]
          },
          "metadata": {
            "tags": []
          },
          "execution_count": 21
        }
      ]
    },
    {
      "cell_type": "code",
      "metadata": {
        "id": "4B_ECyi4ksWl"
      },
      "source": [
        "temp=pd.DataFrame(x_train)"
      ],
      "execution_count": null,
      "outputs": []
    },
    {
      "cell_type": "code",
      "metadata": {
        "id": "d4j0DaA9lVOY",
        "outputId": "f74eeab2-3ce0-4090-b52b-59d1962eef1d",
        "colab": {
          "base_uri": "https://localhost:8080/",
          "height": 196
        }
      },
      "source": [
        "temp.head()"
      ],
      "execution_count": null,
      "outputs": [
        {
          "output_type": "execute_result",
          "data": {
            "text/html": [
              "<div>\n",
              "<style scoped>\n",
              "    .dataframe tbody tr th:only-of-type {\n",
              "        vertical-align: middle;\n",
              "    }\n",
              "\n",
              "    .dataframe tbody tr th {\n",
              "        vertical-align: top;\n",
              "    }\n",
              "\n",
              "    .dataframe thead th {\n",
              "        text-align: right;\n",
              "    }\n",
              "</style>\n",
              "<table border=\"1\" class=\"dataframe\">\n",
              "  <thead>\n",
              "    <tr style=\"text-align: right;\">\n",
              "      <th></th>\n",
              "      <th>0</th>\n",
              "      <th>1</th>\n",
              "      <th>2</th>\n",
              "      <th>3</th>\n",
              "      <th>4</th>\n",
              "      <th>5</th>\n",
              "      <th>6</th>\n",
              "      <th>7</th>\n",
              "      <th>8</th>\n",
              "      <th>9</th>\n",
              "      <th>10</th>\n",
              "      <th>11</th>\n",
              "      <th>12</th>\n",
              "      <th>13</th>\n",
              "      <th>14</th>\n",
              "      <th>15</th>\n",
              "    </tr>\n",
              "  </thead>\n",
              "  <tbody>\n",
              "    <tr>\n",
              "      <th>0</th>\n",
              "      <td>0.0</td>\n",
              "      <td>0.0</td>\n",
              "      <td>1.0</td>\n",
              "      <td>0.0</td>\n",
              "      <td>0.0</td>\n",
              "      <td>1.0</td>\n",
              "      <td>0.0</td>\n",
              "      <td>0.0</td>\n",
              "      <td>1.0</td>\n",
              "      <td>2015.0</td>\n",
              "      <td>11.8</td>\n",
              "      <td>172.0</td>\n",
              "      <td>21.0</td>\n",
              "      <td>0.0</td>\n",
              "      <td>1999.0</td>\n",
              "      <td>1300.0</td>\n",
              "    </tr>\n",
              "    <tr>\n",
              "      <th>1</th>\n",
              "      <td>0.0</td>\n",
              "      <td>0.0</td>\n",
              "      <td>1.0</td>\n",
              "      <td>0.0</td>\n",
              "      <td>0.0</td>\n",
              "      <td>1.0</td>\n",
              "      <td>0.0</td>\n",
              "      <td>0.0</td>\n",
              "      <td>1.0</td>\n",
              "      <td>2015.0</td>\n",
              "      <td>12.3</td>\n",
              "      <td>204.0</td>\n",
              "      <td>27.0</td>\n",
              "      <td>0.0</td>\n",
              "      <td>1591.0</td>\n",
              "      <td>1300.0</td>\n",
              "    </tr>\n",
              "    <tr>\n",
              "      <th>2</th>\n",
              "      <td>0.0</td>\n",
              "      <td>1.0</td>\n",
              "      <td>0.0</td>\n",
              "      <td>0.0</td>\n",
              "      <td>0.0</td>\n",
              "      <td>1.0</td>\n",
              "      <td>0.0</td>\n",
              "      <td>1.0</td>\n",
              "      <td>0.0</td>\n",
              "      <td>2015.0</td>\n",
              "      <td>15.0</td>\n",
              "      <td>100.0</td>\n",
              "      <td>13.6</td>\n",
              "      <td>0.0</td>\n",
              "      <td>1368.0</td>\n",
              "      <td>1035.0</td>\n",
              "    </tr>\n",
              "    <tr>\n",
              "      <th>3</th>\n",
              "      <td>0.0</td>\n",
              "      <td>1.0</td>\n",
              "      <td>0.0</td>\n",
              "      <td>0.0</td>\n",
              "      <td>0.0</td>\n",
              "      <td>1.0</td>\n",
              "      <td>0.0</td>\n",
              "      <td>0.0</td>\n",
              "      <td>1.0</td>\n",
              "      <td>2014.0</td>\n",
              "      <td>14.0</td>\n",
              "      <td>140.0</td>\n",
              "      <td>17.0</td>\n",
              "      <td>0.0</td>\n",
              "      <td>1591.0</td>\n",
              "      <td>1090.0</td>\n",
              "    </tr>\n",
              "    <tr>\n",
              "      <th>4</th>\n",
              "      <td>1.0</td>\n",
              "      <td>0.0</td>\n",
              "      <td>0.0</td>\n",
              "      <td>0.0</td>\n",
              "      <td>0.0</td>\n",
              "      <td>0.0</td>\n",
              "      <td>1.0</td>\n",
              "      <td>0.0</td>\n",
              "      <td>1.0</td>\n",
              "      <td>2015.0</td>\n",
              "      <td>9.6</td>\n",
              "      <td>175.0</td>\n",
              "      <td>46.0</td>\n",
              "      <td>0.0</td>\n",
              "      <td>2497.0</td>\n",
              "      <td>1990.0</td>\n",
              "    </tr>\n",
              "  </tbody>\n",
              "</table>\n",
              "</div>"
            ],
            "text/plain": [
              "    0    1    2    3    4    5   ...    10     11    12   13      14      15\n",
              "0  0.0  0.0  1.0  0.0  0.0  1.0  ...  11.8  172.0  21.0  0.0  1999.0  1300.0\n",
              "1  0.0  0.0  1.0  0.0  0.0  1.0  ...  12.3  204.0  27.0  0.0  1591.0  1300.0\n",
              "2  0.0  1.0  0.0  0.0  0.0  1.0  ...  15.0  100.0  13.6  0.0  1368.0  1035.0\n",
              "3  0.0  1.0  0.0  0.0  0.0  1.0  ...  14.0  140.0  17.0  0.0  1591.0  1090.0\n",
              "4  1.0  0.0  0.0  0.0  0.0  0.0  ...   9.6  175.0  46.0  0.0  2497.0  1990.0\n",
              "\n",
              "[5 rows x 16 columns]"
            ]
          },
          "metadata": {
            "tags": []
          },
          "execution_count": 27
        }
      ]
    },
    {
      "cell_type": "code",
      "metadata": {
        "id": "rlmm3f_amZR-",
        "outputId": "2adab7f3-94ff-4290-ad9c-c348f3369e3b",
        "colab": {
          "base_uri": "https://localhost:8080/",
          "height": 33
        }
      },
      "source": [
        "model=LinearRegression()\n",
        "model.fit(x_train,y_train)"
      ],
      "execution_count": 28,
      "outputs": [
        {
          "output_type": "execute_result",
          "data": {
            "text/plain": [
              "LinearRegression(copy_X=True, fit_intercept=True, n_jobs=None, normalize=False)"
            ]
          },
          "metadata": {
            "tags": []
          },
          "execution_count": 28
        }
      ]
    },
    {
      "cell_type": "code",
      "metadata": {
        "id": "HNv8WzxJmayK",
        "outputId": "bf673868-2652-43cc-f9e0-3218c05c8dbe",
        "colab": {
          "base_uri": "https://localhost:8080/",
          "height": 33
        }
      },
      "source": [
        "model.score(x_train,y_train)"
      ],
      "execution_count": 29,
      "outputs": [
        {
          "output_type": "execute_result",
          "data": {
            "text/plain": [
              "0.88451316734856"
            ]
          },
          "metadata": {
            "tags": []
          },
          "execution_count": 29
        }
      ]
    },
    {
      "cell_type": "code",
      "metadata": {
        "id": "c-yQioiQmi8v",
        "outputId": "a99a0f8f-a7d3-4432-afe2-faf0198f2d73",
        "colab": {
          "base_uri": "https://localhost:8080/",
          "height": 33
        }
      },
      "source": [
        "model.score(x_test,y_test)"
      ],
      "execution_count": 30,
      "outputs": [
        {
          "output_type": "execute_result",
          "data": {
            "text/plain": [
              "0.7739730315244897"
            ]
          },
          "metadata": {
            "tags": []
          },
          "execution_count": 30
        }
      ]
    },
    {
      "cell_type": "code",
      "metadata": {
        "id": "n5cFLqLlmjBy"
      },
      "source": [
        "x_test = np.array([\n",
        "    [2016, '대형', 6.8, 159, 25, 'LPG', 0, 2359, 1935, '수동']\n",
        "])\n",
        "\n",
        "x_test = pd.DataFrame(x_test, columns=['년식', '종류', '연비', '마력', '토크', '연료', '하이브리드', '배기량', '중량', '변속기'])\n",
        "x_test = transformer.transform(x_test)\n",
        "\n",
        "y_predict = model.predict(x_test)"
      ],
      "execution_count": 31,
      "outputs": []
    },
    {
      "cell_type": "code",
      "metadata": {
        "id": "cIdOwfozmjIB",
        "outputId": "95da58d8-9d0a-459e-a72a-7ab2c832fe35",
        "colab": {
          "base_uri": "https://localhost:8080/",
          "height": 33
        }
      },
      "source": [
        "y_predict"
      ],
      "execution_count": 32,
      "outputs": [
        {
          "output_type": "execute_result",
          "data": {
            "text/plain": [
              "array([1802.16030209])"
            ]
          },
          "metadata": {
            "tags": []
          },
          "execution_count": 32
        }
      ]
    },
    {
      "cell_type": "code",
      "metadata": {
        "id": "V9jXpNmYmjO0"
      },
      "source": [
        ""
      ],
      "execution_count": null,
      "outputs": []
    },
    {
      "cell_type": "code",
      "metadata": {
        "id": "hlARbnrfmjOD"
      },
      "source": [
        ""
      ],
      "execution_count": null,
      "outputs": []
    },
    {
      "cell_type": "code",
      "metadata": {
        "id": "o3SE4RRGmjK4"
      },
      "source": [
        ""
      ],
      "execution_count": null,
      "outputs": []
    },
    {
      "cell_type": "code",
      "metadata": {
        "id": "zuwgDaF-mjHF"
      },
      "source": [
        ""
      ],
      "execution_count": null,
      "outputs": []
    },
    {
      "cell_type": "code",
      "metadata": {
        "id": "wo0T6a0-mjEI"
      },
      "source": [
        ""
      ],
      "execution_count": null,
      "outputs": []
    },
    {
      "cell_type": "code",
      "metadata": {
        "id": "6fJi54U4mjAC"
      },
      "source": [
        ""
      ],
      "execution_count": null,
      "outputs": []
    }
  ]
}
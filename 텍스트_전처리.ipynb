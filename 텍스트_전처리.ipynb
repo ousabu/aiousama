{
  "nbformat": 4,
  "nbformat_minor": 0,
  "metadata": {
    "colab": {
      "name": "Untitled93.ipynb",
      "provenance": [],
      "authorship_tag": "ABX9TyOaEE40HPaTzichAzYf9nOZ",
      "include_colab_link": true
    },
    "kernelspec": {
      "name": "python3",
      "display_name": "Python 3"
    }
  },
  "cells": [
    {
      "cell_type": "markdown",
      "metadata": {
        "id": "view-in-github",
        "colab_type": "text"
      },
      "source": [
        "<a href=\"https://colab.research.google.com/github/ousabu/aiousama/blob/master/%ED%85%8D%EC%8A%A4%ED%8A%B8_%EC%A0%84%EC%B2%98%EB%A6%AC.ipynb\" target=\"_parent\"><img src=\"https://colab.research.google.com/assets/colab-badge.svg\" alt=\"Open In Colab\"/></a>"
      ]
    },
    {
      "cell_type": "code",
      "metadata": {
        "id": "saVTrFoNHXIi"
      },
      "source": [
        "import numpy as np\n",
        "import pandas as pd\n"
      ],
      "execution_count": 1,
      "outputs": []
    },
    {
      "cell_type": "code",
      "metadata": {
        "id": "sI8smLsrHf4L"
      },
      "source": [
        "x = [0, 1, 2, 3, 4, 5]\n",
        "y = [0, 1, 2, 3, 4, 5]\n",
        "\n",
        "xx, yy = np.meshgrid(x, y)"
      ],
      "execution_count": 3,
      "outputs": []
    },
    {
      "cell_type": "code",
      "metadata": {
        "id": "fDFb-HpCHjgB",
        "outputId": "ef420365-4933-4e1b-ad22-604445a8c5c9",
        "colab": {
          "base_uri": "https://localhost:8080/"
        }
      },
      "source": [
        "xx"
      ],
      "execution_count": 4,
      "outputs": [
        {
          "output_type": "execute_result",
          "data": {
            "text/plain": [
              "array([[0, 1, 2, 3, 4, 5],\n",
              "       [0, 1, 2, 3, 4, 5],\n",
              "       [0, 1, 2, 3, 4, 5],\n",
              "       [0, 1, 2, 3, 4, 5],\n",
              "       [0, 1, 2, 3, 4, 5],\n",
              "       [0, 1, 2, 3, 4, 5]])"
            ]
          },
          "metadata": {
            "tags": []
          },
          "execution_count": 4
        }
      ]
    },
    {
      "cell_type": "code",
      "metadata": {
        "id": "k8lAhO4zHtlm",
        "outputId": "2983be74-4bd6-432f-ab36-12855f2e6266",
        "colab": {
          "base_uri": "https://localhost:8080/"
        }
      },
      "source": [
        "yy.ravel().T.shape"
      ],
      "execution_count": 10,
      "outputs": [
        {
          "output_type": "execute_result",
          "data": {
            "text/plain": [
              "(36,)"
            ]
          },
          "metadata": {
            "tags": []
          },
          "execution_count": 10
        }
      ]
    },
    {
      "cell_type": "code",
      "metadata": {
        "id": "8pa9wkS_h9IE",
        "outputId": "59e7a9e3-8c16-46f9-b555-246dade5b859",
        "colab": {
          "base_uri": "https://localhost:8080/"
        }
      },
      "source": [
        "!pip install nltk"
      ],
      "execution_count": 15,
      "outputs": [
        {
          "output_type": "stream",
          "text": [
            "Requirement already satisfied: nltk in /usr/local/lib/python3.6/dist-packages (3.2.5)\n",
            "Requirement already satisfied: six in /usr/local/lib/python3.6/dist-packages (from nltk) (1.15.0)\n"
          ],
          "name": "stdout"
        }
      ]
    },
    {
      "cell_type": "code",
      "metadata": {
        "id": "EoqxCrPkHuq7"
      },
      "source": [
        "from nltk import word_tokenize"
      ],
      "execution_count": 16,
      "outputs": []
    },
    {
      "cell_type": "code",
      "metadata": {
        "id": "F3VN_GKJhcKT",
        "outputId": "21339e10-5c56-4e1f-de59-46b00fc50371",
        "colab": {
          "base_uri": "https://localhost:8080/"
        }
      },
      "source": [
        "import nltk\n",
        "from nltk import word_tokenize\n",
        "nltk.download('punkt')\n",
        "sentence = \"The Matrix is everywhere its all around us, here even in this room.\"\n",
        "words = word_tokenize(sentence)\n",
        "print(type(words), len(words))\n",
        "print(words)"
      ],
      "execution_count": 19,
      "outputs": [
        {
          "output_type": "stream",
          "text": [
            "[nltk_data] Downloading package punkt to /root/nltk_data...\n",
            "[nltk_data]   Unzipping tokenizers/punkt.zip.\n",
            "<class 'list'> 15\n",
            "['The', 'Matrix', 'is', 'everywhere', 'its', 'all', 'around', 'us', ',', 'here', 'even', 'in', 'this', 'room', '.']\n"
          ],
          "name": "stdout"
        }
      ]
    },
    {
      "cell_type": "code",
      "metadata": {
        "id": "Y-rjBTAajZOl",
        "outputId": "f31bd796-2f2d-4e09-f477-6a68dfcb3bd7",
        "colab": {
          "base_uri": "https://localhost:8080/"
        }
      },
      "source": [
        "from nltk import sent_tokenize\n",
        "text_sample = 'The Matrix is everywhere its all around us, here even in this room. \\\n",
        "               You can see it out your window or on your television. \\\n",
        "               You feel it when you go to work, or go to church or pay your taxes.'\n",
        "sentences = sent_tokenize(text=text_sample)\n",
        "print(type(sentences),len(sentences))\n",
        "print(sentences)"
      ],
      "execution_count": 21,
      "outputs": [
        {
          "output_type": "stream",
          "text": [
            "<class 'list'> 3\n",
            "['The Matrix is everywhere its all around us, here even in this room.', 'You can see it out your window or on your television.', 'You feel it when you go to work, or go to church or pay your taxes.']\n"
          ],
          "name": "stdout"
        }
      ]
    },
    {
      "cell_type": "code",
      "metadata": {
        "id": "T7OCehsFjGb3",
        "outputId": "681e4f50-8c7c-4ec0-dbed-07d69e4d6229",
        "colab": {
          "base_uri": "https://localhost:8080/"
        }
      },
      "source": [
        "from nltk import word_tokenize, sent_tokenize\n",
        "\n",
        "#여러개의 문장으로 된 입력 데이터를 문장별로 단어 토큰화 만드는 함수 생성\n",
        "def tokenize_text(text):\n",
        "    \n",
        "    # 문장별로 분리 토큰\n",
        "    sentences = sent_tokenize(text)\n",
        "    # 분리된 문장별 단어 토큰화\n",
        "    word_tokens = [word_tokenize(sentence) for sentence in sentences]\n",
        "    return word_tokens\n",
        "\n",
        "#여러 문장들에 대해 문장별 단어 토큰화 수행. \n",
        "word_tokens = tokenize_text(text_sample)\n",
        "print(word_tokens)"
      ],
      "execution_count": 22,
      "outputs": [
        {
          "output_type": "stream",
          "text": [
            "[['The', 'Matrix', 'is', 'everywhere', 'its', 'all', 'around', 'us', ',', 'here', 'even', 'in', 'this', 'room', '.'], ['You', 'can', 'see', 'it', 'out', 'your', 'window', 'or', 'on', 'your', 'television', '.'], ['You', 'feel', 'it', 'when', 'you', 'go', 'to', 'work', ',', 'or', 'go', 'to', 'church', 'or', 'pay', 'your', 'taxes', '.']]\n"
          ],
          "name": "stdout"
        }
      ]
    },
    {
      "cell_type": "code",
      "metadata": {
        "id": "7ofoi3fJhfC3",
        "outputId": "5257d91a-804c-43d7-ca49-d343208a9130",
        "colab": {
          "base_uri": "https://localhost:8080/",
          "height": 52
        }
      },
      "source": [
        "#문장으로 다시 연결\n",
        "pharases=[\" \".join(sentense) for sentense in word_tokens]#단어와 단어를 \" \"(띄워쓰기)로 연결해준다. \n",
        "#문단으로 연결\n",
        "doc = '\\n'.join(pharases)\n",
        "#문장간의 연결을 보드랍게 하기\n",
        "doc=doc.replace(' ,',\",\").replace(' .','.').replace('\\n', '')\n",
        "doc"
      ],
      "execution_count": 23,
      "outputs": [
        {
          "output_type": "execute_result",
          "data": {
            "application/vnd.google.colaboratory.intrinsic+json": {
              "type": "string"
            },
            "text/plain": [
              "'The Matrix is everywhere its all around us, here even in this room.You can see it out your window or on your television.You feel it when you go to work, or go to church or pay your taxes.'"
            ]
          },
          "metadata": {
            "tags": []
          },
          "execution_count": 23
        }
      ]
    },
    {
      "cell_type": "code",
      "metadata": {
        "id": "FGF0H4a8jkUr",
        "outputId": "e6f28472-05f5-4002-a0df-c23e091985ec",
        "colab": {
          "base_uri": "https://localhost:8080/",
          "height": 52
        }
      },
      "source": [
        "#정규 표현식을 이용하여 문장으로 연결하기\n",
        "import re\n",
        "pharases=[\" \".join(sentense) for sentense in word_tokens]#단어와 단어를 \" \"(띄워쓰기)로 연결해준다. \n",
        "Doc=\"\\n\".join(pharases)\n",
        "semiotic = re.compile('\\s(\\W)', re.M) #\\s ( 스페이스 , 텝 , /n)이 있고 (\\W)(숫자 문자 언더바를 제외한 모든 문자) 의 그룹\n",
        "def findGroup(m): \n",
        "    return m.group(1) #위에 표현식에 일치하는 애들을 proup(1)으로 리턴해주는 함수\n",
        "Doc = semiotic.sub(findGroup, Doc) \n",
        "Doc"
      ],
      "execution_count": 25,
      "outputs": [
        {
          "output_type": "execute_result",
          "data": {
            "application/vnd.google.colaboratory.intrinsic+json": {
              "type": "string"
            },
            "text/plain": [
              "'The Matrix is everywhere its all around us, here even in this room.\\nYou can see it out your window or on your television.\\nYou feel it when you go to work, or go to church or pay your taxes.'"
            ]
          },
          "metadata": {
            "tags": []
          },
          "execution_count": 25
        }
      ]
    },
    {
      "cell_type": "code",
      "metadata": {
        "id": "nu6c9rZ8jrnl"
      },
      "source": [
        ""
      ],
      "execution_count": null,
      "outputs": []
    }
  ]
}
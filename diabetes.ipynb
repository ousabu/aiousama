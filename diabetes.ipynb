{
  "nbformat": 4,
  "nbformat_minor": 0,
  "metadata": {
    "colab": {
      "name": "diabetes",
      "provenance": [],
      "authorship_tag": "ABX9TyONoJ7Lhv3sO/94yI8S8VB9",
      "include_colab_link": true
    },
    "kernelspec": {
      "name": "python3",
      "display_name": "Python 3"
    }
  },
  "cells": [
    {
      "cell_type": "markdown",
      "metadata": {
        "id": "view-in-github",
        "colab_type": "text"
      },
      "source": [
        "<a href=\"https://colab.research.google.com/github/ousabu/aiousama/blob/master/diabetes.ipynb\" target=\"_parent\"><img src=\"https://colab.research.google.com/assets/colab-badge.svg\" alt=\"Open In Colab\"/></a>"
      ]
    },
    {
      "cell_type": "code",
      "metadata": {
        "id": "2NehfaKZbP9P",
        "colab_type": "code",
        "colab": {}
      },
      "source": [
        "from sklearn.datasets import load_diabetes\n",
        "import pandas as pd\n",
        "\n",
        "import numpy as np\n",
        "\n"
      ],
      "execution_count": 81,
      "outputs": []
    },
    {
      "cell_type": "code",
      "metadata": {
        "id": "ThbvXS_kbRVI",
        "colab_type": "code",
        "colab": {}
      },
      "source": [
        "# model = LinearRegression()\n",
        "diabetes = load_diabetes()\n"
      ],
      "execution_count": 82,
      "outputs": []
    },
    {
      "cell_type": "code",
      "metadata": {
        "id": "96EhqfF3bYCX",
        "colab_type": "code",
        "colab": {
          "base_uri": "https://localhost:8080/",
          "height": 197
        },
        "outputId": "747c8557-8439-4f0b-ecb4-e92f85089289"
      },
      "source": [
        "df_x = pd.DataFrame(diabetes.data, columns=diabetes.feature_names)\n",
        "df_y = diabetes.target\n",
        "df_x.head()"
      ],
      "execution_count": 83,
      "outputs": [
        {
          "output_type": "execute_result",
          "data": {
            "text/html": [
              "<div>\n",
              "<style scoped>\n",
              "    .dataframe tbody tr th:only-of-type {\n",
              "        vertical-align: middle;\n",
              "    }\n",
              "\n",
              "    .dataframe tbody tr th {\n",
              "        vertical-align: top;\n",
              "    }\n",
              "\n",
              "    .dataframe thead th {\n",
              "        text-align: right;\n",
              "    }\n",
              "</style>\n",
              "<table border=\"1\" class=\"dataframe\">\n",
              "  <thead>\n",
              "    <tr style=\"text-align: right;\">\n",
              "      <th></th>\n",
              "      <th>age</th>\n",
              "      <th>sex</th>\n",
              "      <th>bmi</th>\n",
              "      <th>bp</th>\n",
              "      <th>s1</th>\n",
              "      <th>s2</th>\n",
              "      <th>s3</th>\n",
              "      <th>s4</th>\n",
              "      <th>s5</th>\n",
              "      <th>s6</th>\n",
              "    </tr>\n",
              "  </thead>\n",
              "  <tbody>\n",
              "    <tr>\n",
              "      <th>0</th>\n",
              "      <td>0.038076</td>\n",
              "      <td>0.050680</td>\n",
              "      <td>0.061696</td>\n",
              "      <td>0.021872</td>\n",
              "      <td>-0.044223</td>\n",
              "      <td>-0.034821</td>\n",
              "      <td>-0.043401</td>\n",
              "      <td>-0.002592</td>\n",
              "      <td>0.019908</td>\n",
              "      <td>-0.017646</td>\n",
              "    </tr>\n",
              "    <tr>\n",
              "      <th>1</th>\n",
              "      <td>-0.001882</td>\n",
              "      <td>-0.044642</td>\n",
              "      <td>-0.051474</td>\n",
              "      <td>-0.026328</td>\n",
              "      <td>-0.008449</td>\n",
              "      <td>-0.019163</td>\n",
              "      <td>0.074412</td>\n",
              "      <td>-0.039493</td>\n",
              "      <td>-0.068330</td>\n",
              "      <td>-0.092204</td>\n",
              "    </tr>\n",
              "    <tr>\n",
              "      <th>2</th>\n",
              "      <td>0.085299</td>\n",
              "      <td>0.050680</td>\n",
              "      <td>0.044451</td>\n",
              "      <td>-0.005671</td>\n",
              "      <td>-0.045599</td>\n",
              "      <td>-0.034194</td>\n",
              "      <td>-0.032356</td>\n",
              "      <td>-0.002592</td>\n",
              "      <td>0.002864</td>\n",
              "      <td>-0.025930</td>\n",
              "    </tr>\n",
              "    <tr>\n",
              "      <th>3</th>\n",
              "      <td>-0.089063</td>\n",
              "      <td>-0.044642</td>\n",
              "      <td>-0.011595</td>\n",
              "      <td>-0.036656</td>\n",
              "      <td>0.012191</td>\n",
              "      <td>0.024991</td>\n",
              "      <td>-0.036038</td>\n",
              "      <td>0.034309</td>\n",
              "      <td>0.022692</td>\n",
              "      <td>-0.009362</td>\n",
              "    </tr>\n",
              "    <tr>\n",
              "      <th>4</th>\n",
              "      <td>0.005383</td>\n",
              "      <td>-0.044642</td>\n",
              "      <td>-0.036385</td>\n",
              "      <td>0.021872</td>\n",
              "      <td>0.003935</td>\n",
              "      <td>0.015596</td>\n",
              "      <td>0.008142</td>\n",
              "      <td>-0.002592</td>\n",
              "      <td>-0.031991</td>\n",
              "      <td>-0.046641</td>\n",
              "    </tr>\n",
              "  </tbody>\n",
              "</table>\n",
              "</div>"
            ],
            "text/plain": [
              "        age       sex       bmi  ...        s4        s5        s6\n",
              "0  0.038076  0.050680  0.061696  ... -0.002592  0.019908 -0.017646\n",
              "1 -0.001882 -0.044642 -0.051474  ... -0.039493 -0.068330 -0.092204\n",
              "2  0.085299  0.050680  0.044451  ... -0.002592  0.002864 -0.025930\n",
              "3 -0.089063 -0.044642 -0.011595  ...  0.034309  0.022692 -0.009362\n",
              "4  0.005383 -0.044642 -0.036385  ... -0.002592 -0.031991 -0.046641\n",
              "\n",
              "[5 rows x 10 columns]"
            ]
          },
          "metadata": {
            "tags": []
          },
          "execution_count": 83
        }
      ]
    },
    {
      "cell_type": "code",
      "metadata": {
        "id": "BFW4s-P4bjU8",
        "colab_type": "code",
        "colab": {}
      },
      "source": [
        "\n",
        "\n",
        "#age, sex, bmi, bp, s1, s2, s3, s4, s5, s6 ,2867기준\n",
        "# df_x.drop('age', axis=1, inplace=True) #2828 but 가시성을 위해 끼워 넣음\n",
        "df_x.drop('sex', axis=1, inplace=True) #2973 높아짐\n",
        "df_x.drop('bmi', axis=1, inplace=True) #3194 높아짐\n",
        "# df_x.drop('bp', axis=1, inplace=True) #2879\n",
        "# df_x.drop('s1', axis=1, inplace=True) #2838\n",
        "# df_x.drop('s2', axis=1, inplace=True) #2858\n",
        "# df_x.drop('s3', axis=1, inplace=True) #2858\n",
        "# df_x.drop('s4', axis=1, inplace=True) #2843\n",
        "df_x.drop('s5', axis=1, inplace=True) #3271 높아짐\n",
        "# df_x.drop('s6', axis=1, inplace=True) #2886"
      ],
      "execution_count": 84,
      "outputs": []
    },
    {
      "cell_type": "code",
      "metadata": {
        "id": "ixu05MoOdMSL",
        "colab_type": "code",
        "colab": {}
      },
      "source": [
        "\n",
        "from sklearn.metrics import mean_squared_error"
      ],
      "execution_count": 85,
      "outputs": []
    },
    {
      "cell_type": "code",
      "metadata": {
        "id": "945mVpoMdQOa",
        "colab_type": "code",
        "colab": {}
      },
      "source": [
        "# predictions=model.predict(x_test)\n",
        "\n",
        "# mse = mean_squared_error(y_test, predictions)\n",
        "\n",
        "# mse"
      ],
      "execution_count": 86,
      "outputs": []
    },
    {
      "cell_type": "code",
      "metadata": {
        "id": "lxyLyIlAdZSu",
        "colab_type": "code",
        "colab": {}
      },
      "source": [
        "X=np.array(df_x)\n",
        "y=np.array(df_y)"
      ],
      "execution_count": 87,
      "outputs": []
    },
    {
      "cell_type": "code",
      "metadata": {
        "id": "_7Erg6KkeAPR",
        "colab_type": "code",
        "colab": {}
      },
      "source": [
        "from sklearn.model_selection import train_test_split"
      ],
      "execution_count": 88,
      "outputs": []
    },
    {
      "cell_type": "code",
      "metadata": {
        "id": "jVbgUTchMliH",
        "colab_type": "code",
        "colab": {}
      },
      "source": [
        ""
      ],
      "execution_count": 88,
      "outputs": []
    },
    {
      "cell_type": "code",
      "metadata": {
        "id": "DNBtJ8VLeZuy",
        "colab_type": "code",
        "colab": {}
      },
      "source": [
        "X_train, X_test, y_train, y_test = train_test_split(X, y, test_size=0.2, random_state=42)"
      ],
      "execution_count": 89,
      "outputs": []
    },
    {
      "cell_type": "code",
      "metadata": {
        "id": "coudVD3qXGlJ",
        "colab_type": "code",
        "colab": {
          "base_uri": "https://localhost:8080/",
          "height": 33
        },
        "outputId": "a786be06-3547-4297-edac-2441becb3e84"
      },
      "source": [
        "type(df_x)"
      ],
      "execution_count": 90,
      "outputs": [
        {
          "output_type": "execute_result",
          "data": {
            "text/plain": [
              "pandas.core.frame.DataFrame"
            ]
          },
          "metadata": {
            "tags": []
          },
          "execution_count": 90
        }
      ]
    },
    {
      "cell_type": "code",
      "metadata": {
        "id": "Xa3wKm-_ei5f",
        "colab_type": "code",
        "colab": {
          "base_uri": "https://localhost:8080/",
          "height": 50
        },
        "outputId": "cd700915-156e-40f0-dc90-46b77b7e673d"
      },
      "source": [
        "\n",
        "print(X_train.shape, y_train.shape)\n",
        "print(X_test.shape, y_test.shape)"
      ],
      "execution_count": 91,
      "outputs": [
        {
          "output_type": "stream",
          "text": [
            "(353, 7) (353,)\n",
            "(89, 7) (89,)\n"
          ],
          "name": "stdout"
        }
      ]
    },
    {
      "cell_type": "code",
      "metadata": {
        "id": "6VUABaHzNP-6",
        "colab_type": "code",
        "colab": {}
      },
      "source": [
        ""
      ],
      "execution_count": 91,
      "outputs": []
    },
    {
      "cell_type": "code",
      "metadata": {
        "id": "cvahkDMGepKJ",
        "colab_type": "code",
        "colab": {}
      },
      "source": [
        ""
      ],
      "execution_count": 91,
      "outputs": []
    },
    {
      "cell_type": "code",
      "metadata": {
        "id": "1HWvfaZqSoxE",
        "colab_type": "code",
        "colab": {
          "base_uri": "https://localhost:8080/",
          "height": 50
        },
        "outputId": "0cd867a3-3f8e-4d5f-ff7d-eea1cdb226a9"
      },
      "source": [
        "\n",
        "W = np.random.rand(7) #랜덤값을 가진 변수 생성\n",
        "b = np.random.rand()\n",
        "print(W)\n",
        "\n",
        "def model(X, W, b):   #모델 함수 생성\n",
        "    predictions = 0\n",
        "    for i in range(0, 7):\n",
        "        predictions += X[:, i] * W[i]\n",
        "    predictions += b\n",
        "    return predictions"
      ],
      "execution_count": 92,
      "outputs": [
        {
          "output_type": "stream",
          "text": [
            "[0.63847586 0.3745554  0.46029604 0.11171665 0.92753494 0.0697007\n",
            " 0.19873925]\n"
          ],
          "name": "stdout"
        }
      ]
    },
    {
      "cell_type": "code",
      "metadata": {
        "id": "NYrE8MQNflxD",
        "colab_type": "code",
        "colab": {}
      },
      "source": [
        "def MSE(a, b):\n",
        "    mse = ((a - b) ** 2).mean()  # 두 값의 차이의 제곱의 평균\n",
        "    return mse\n"
      ],
      "execution_count": 93,
      "outputs": []
    },
    {
      "cell_type": "code",
      "metadata": {
        "id": "nHZd8fDGgd1K",
        "colab_type": "code",
        "colab": {}
      },
      "source": [
        "def loss(X, W, b, y): \n",
        "    predictions = model(X, W, b)\n",
        "    L = MSE(predictions, y)\n",
        "    return L    \n"
      ],
      "execution_count": 94,
      "outputs": []
    },
    {
      "cell_type": "code",
      "metadata": {
        "id": "68kC0ug-hJ8p",
        "colab_type": "code",
        "colab": {}
      },
      "source": [
        "def gradient(X, W, b, y):\n",
        "    N = len(W) \n",
        "    y_pred = model(X_train, W, b)\n",
        "    dW = 1/N * 2 * X.T.dot(y_pred - y)\n",
        "    db = 2 * (y_pred - y).mean()\n",
        "    return dW,db\n"
      ],
      "execution_count": 95,
      "outputs": []
    },
    {
      "cell_type": "code",
      "metadata": {
        "id": "eKHKKaxpiRrc",
        "colab_type": "code",
        "colab": {}
      },
      "source": [
        ""
      ],
      "execution_count": 95,
      "outputs": []
    },
    {
      "cell_type": "code",
      "metadata": {
        "id": "msv56fn6oExo",
        "colab_type": "code",
        "colab": {
          "base_uri": "https://localhost:8080/",
          "height": 183
        },
        "outputId": "bcfde2a4-e0cb-4153-ebab-4cc7693e9cc1"
      },
      "source": [
        "LEARNING_RATE = 0.01 #learning rate 지정\n",
        "\n",
        "losses = []\n",
        "\n",
        "for i in range(1, 1001):  #정의된 손실함수와 기울기 함수로 모델을 학습\n",
        "    dW, db = gradient(X_train, W, b, y_train)\n",
        "    W -= LEARNING_RATE * dW\n",
        "    b -= LEARNING_RATE * db\n",
        "    L = loss(X, W, b, y)\n",
        "    losses.append(L)\n",
        "    if i % 100 == 0:\n",
        "        print('Iteration %d : Loss %0.4f' % (i, L))"
      ],
      "execution_count": 96,
      "outputs": [
        {
          "output_type": "stream",
          "text": [
            "Iteration 100 : Loss 4995.6339\n",
            "Iteration 200 : Loss 4238.2067\n",
            "Iteration 300 : Loss 4081.4117\n",
            "Iteration 400 : Loss 4008.8134\n",
            "Iteration 500 : Loss 3968.7906\n",
            "Iteration 600 : Loss 3944.2415\n",
            "Iteration 700 : Loss 3927.7937\n",
            "Iteration 800 : Loss 3915.8404\n",
            "Iteration 900 : Loss 3906.4783\n",
            "Iteration 1000 : Loss 3898.6623\n"
          ],
          "name": "stdout"
        }
      ]
    },
    {
      "cell_type": "code",
      "metadata": {
        "id": "Fu2pCr2UoFl5",
        "colab_type": "code",
        "colab": {}
      },
      "source": [
        "# learning_rate=1e-2 #꽤 작은 수인데, 발산하는 경우엔, 1e-3 등으로 바꾸어서 실행하면 됩니다.\n",
        "# f = lambda x : loss_func(x_train, y_train)\n",
        "# print(\"initial error value=\", loss_func(x_train, y_train),\", initial w=\", W, \"\\nb=\",b)\n",
        "\n",
        "# for step in range(1001): # 8001이라는 것은 최대 몇번 학습을 반복하는가에 대한 것입니다. 참고로 학습 한번 실행시마다 1 에폭이라 부릅니다.\n",
        "#     W -= learning_rate*numerical_derivative(f, W)\n",
        "#     b -= learning_rate*numerical_derivative(f, b)\n",
        "    \n",
        "#     if(step % 100 == 0): #400에폭마다 로깅\n",
        "#         print(\"step=\", step, \", error value=\", loss_func(x_train, y_train), \", w=\", W, \", b=\",b)"
      ],
      "execution_count": 97,
      "outputs": []
    },
    {
      "cell_type": "code",
      "metadata": {
        "id": "qq0G-BOpK6BG",
        "colab_type": "code",
        "colab": {}
      },
      "source": [
        ""
      ],
      "execution_count": 97,
      "outputs": []
    },
    {
      "cell_type": "code",
      "metadata": {
        "id": "an9RRhkYoNLJ",
        "colab_type": "code",
        "colab": {}
      },
      "source": [
        "from sklearn.metrics import mean_squared_error"
      ],
      "execution_count": 98,
      "outputs": []
    },
    {
      "cell_type": "code",
      "metadata": {
        "id": "KDlW0NMP9RMH",
        "colab_type": "code",
        "colab": {
          "base_uri": "https://localhost:8080/",
          "height": 264
        },
        "outputId": "709a1d85-db45-4c03-a24c-dbaaea7fdd85"
      },
      "source": [
        "from matplotlib import pyplot as plt\n",
        "\n",
        "plt.plot(losses)\n",
        "plt.show()"
      ],
      "execution_count": 99,
      "outputs": [
        {
          "output_type": "display_data",
          "data": {
            "image/png": "[encoded data removed]",
            "text/plain": [
              "<Figure size 432x288 with 1 Axes>"
            ]
          },
          "metadata": {
            "tags": [],
            "needs_background": "light"
          }
        }
      ]
    },
    {
      "cell_type": "code",
      "metadata": {
        "id": "AkNGbMCl-6EK",
        "colab_type": "code",
        "colab": {
          "base_uri": "https://localhost:8080/",
          "height": 33
        },
        "outputId": "a86a2144-5312-4f10-b771-615af12ea2dc"
      },
      "source": [
        "prediction = model(X_test, W, b)  #test 데이터에 대한 성능 평가\n",
        "mse = loss(X_test, W, b, y_test)\n",
        "mse"
      ],
      "execution_count": 100,
      "outputs": [
        {
          "output_type": "execute_result",
          "data": {
            "text/plain": [
              "3810.581839282148"
            ]
          },
          "metadata": {
            "tags": []
          },
          "execution_count": 100
        }
      ]
    },
    {
      "cell_type": "code",
      "metadata": {
        "id": "tY34HHZCYEaH",
        "colab_type": "code",
        "colab": {
          "base_uri": "https://localhost:8080/",
          "height": 264
        },
        "outputId": "43bd4725-aa83-4c6a-b940-9c418543aac7"
      },
      "source": [
        "plt.scatter(X[:,0], y) #예측 데이터 시각화\n",
        "plt.scatter(X_test[:, 0], prediction)\n",
        "plt.show()"
      ],
      "execution_count": 101,
      "outputs": [
        {
          "output_type": "display_data",
          "data": {
            "image/png": "[encoded data removed]",
            "text/plain": [
              "<Figure size 432x288 with 1 Axes>"
            ]
          },
          "metadata": {
            "tags": [],
            "needs_background": "light"
          }
        }
      ]
    },
    {
      "cell_type": "code",
      "metadata": {
        "id": "QyLdP-FIYHG7",
        "colab_type": "code",
        "colab": {}
      },
      "source": [
        ""
      ],
      "execution_count": 101,
      "outputs": []
    }
  ]
}
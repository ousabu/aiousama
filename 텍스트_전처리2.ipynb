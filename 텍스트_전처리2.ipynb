{
  "nbformat": 4,
  "nbformat_minor": 0,
  "metadata": {
    "colab": {
      "name": "텍스트_전처리2.ipynb",
      "provenance": [],
      "authorship_tag": "ABX9TyOOQdl3I0QTl0eBWTRVELpR",
      "include_colab_link": true
    },
    "kernelspec": {
      "name": "python3",
      "display_name": "Python 3"
    }
  },
  "cells": [
    {
      "cell_type": "markdown",
      "metadata": {
        "id": "view-in-github",
        "colab_type": "text"
      },
      "source": [
        "<a href=\"https://colab.research.google.com/github/ousabu/aiousama/blob/master/%ED%85%8D%EC%8A%A4%ED%8A%B8_%EC%A0%84%EC%B2%98%EB%A6%AC2.ipynb\" target=\"_parent\"><img src=\"https://colab.research.google.com/assets/colab-badge.svg\" alt=\"Open In Colab\"/></a>"
      ]
    },
    {
      "cell_type": "code",
      "metadata": {
        "id": "O3s3T1FDkPFM"
      },
      "source": [
        "import nltk"
      ],
      "execution_count": 1,
      "outputs": []
    },
    {
      "cell_type": "code",
      "metadata": {
        "id": "c9e52pvFkW6I",
        "outputId": "9759263b-2838-41af-edbc-60ba091ec52a",
        "colab": {
          "base_uri": "https://localhost:8080/"
        }
      },
      "source": [
        "nltk.download('stopwords')\n",
        "\n",
        "print('영어 stop words 갯수:',len(nltk.corpus.stopwords.words('english')))\n",
        "print(nltk.corpus.stopwords.words('english')[:20])"
      ],
      "execution_count": 2,
      "outputs": [
        {
          "output_type": "stream",
          "text": [
            "[nltk_data] Downloading package stopwords to /root/nltk_data...\n",
            "[nltk_data]   Unzipping corpora/stopwords.zip.\n",
            "영어 stop words 갯수: 179\n",
            "['i', 'me', 'my', 'myself', 'we', 'our', 'ours', 'ourselves', 'you', \"you're\", \"you've\", \"you'll\", \"you'd\", 'your', 'yours', 'yourself', 'yourselves', 'he', 'him', 'his']\n"
          ],
          "name": "stdout"
        }
      ]
    },
    {
      "cell_type": "code",
      "metadata": {
        "id": "oATvyrMnkZj5",
        "outputId": "956ddb01-c1e5-4bf9-fb67-abfea4403b17",
        "colab": {
          "base_uri": "https://localhost:8080/"
        }
      },
      "source": [
        "import nltk\n",
        "\n",
        "word_tokens = 'The Matrix is everywhere its all around us, here even in this room. \\\n",
        "              You can see it out your window or on your television. \\\n",
        "              You feel it when you go to work, or go to church or pay your taxes.'\n",
        "\n",
        "stopwords = nltk.corpus.stopwords.words('english')\n",
        "all_tokens = []\n",
        "\n",
        "for sentence in word_tokens:\n",
        "    filtered_words=[]\n",
        "    \n",
        "    for word in sentence:\n",
        "        word = word.lower()\n",
        "        if word not in stopwords:\n",
        "            filtered_words.append(word)\n",
        "    all_tokens.append(filtered_words)\n",
        "    \n",
        "print(all_tokens)"
      ],
      "execution_count": 3,
      "outputs": [
        {
          "output_type": "stream",
          "text": [
            "[[], ['h'], ['e'], [' '], [], [], [], ['r'], [], ['x'], [' '], [], [], [' '], ['e'], ['v'], ['e'], ['r'], [], ['w'], ['h'], ['e'], ['r'], ['e'], [' '], [], [], [], [' '], [], ['l'], ['l'], [' '], [], ['r'], [], ['u'], ['n'], [], [' '], ['u'], [], [','], [' '], ['h'], ['e'], ['r'], ['e'], [' '], ['e'], ['v'], ['e'], ['n'], [' '], [], ['n'], [' '], [], ['h'], [], [], [' '], ['r'], [], [], [], ['.'], [' '], [' '], [' '], [' '], [' '], [' '], [' '], [' '], [' '], [' '], [' '], [' '], [' '], [' '], [' '], [], [], ['u'], [' '], ['c'], [], ['n'], [' '], [], ['e'], ['e'], [' '], [], [], [' '], [], ['u'], [], [' '], [], [], ['u'], ['r'], [' '], ['w'], [], ['n'], [], [], ['w'], [' '], [], ['r'], [' '], [], ['n'], [' '], [], [], ['u'], ['r'], [' '], [], ['e'], ['l'], ['e'], ['v'], [], [], [], [], ['n'], ['.'], [' '], [' '], [' '], [' '], [' '], [' '], [' '], [' '], [' '], [' '], [' '], [' '], [' '], [' '], [' '], [], [], ['u'], [' '], ['f'], ['e'], ['e'], ['l'], [' '], [], [], [' '], ['w'], ['h'], ['e'], ['n'], [' '], [], [], ['u'], [' '], ['g'], [], [' '], [], [], [' '], ['w'], [], ['r'], ['k'], [','], [' '], [], ['r'], [' '], ['g'], [], [' '], [], [], [' '], ['c'], ['h'], ['u'], ['r'], ['c'], ['h'], [' '], [], ['r'], [' '], ['p'], [], [], [' '], [], [], ['u'], ['r'], [' '], [], [], ['x'], ['e'], [], ['.']]\n"
          ],
          "name": "stdout"
        }
      ]
    },
    {
      "cell_type": "code",
      "metadata": {
        "id": "GYid5MMRk0ZL",
        "outputId": "0cd22317-7146-471d-d99e-ab2f4171d560",
        "colab": {
          "base_uri": "https://localhost:8080/"
        }
      },
      "source": [
        "stopwords[:10]"
      ],
      "execution_count": 5,
      "outputs": [
        {
          "output_type": "execute_result",
          "data": {
            "text/plain": [
              "['i', 'me', 'my', 'myself', 'we', 'our', 'ours', 'ourselves', 'you', \"you're\"]"
            ]
          },
          "metadata": {
            "tags": []
          },
          "execution_count": 5
        }
      ]
    },
    {
      "cell_type": "code",
      "metadata": {
        "id": "eZoalY_Jk8ra",
        "outputId": "73203997-f59e-4325-f9a2-05aab46a0ac4",
        "colab": {
          "base_uri": "https://localhost:8080/"
        }
      },
      "source": [
        "from nltk.stem import WordNetLemmatizer\n",
        "nltk.download('wordnet')\n",
        "\n",
        "lemma = WordNetLemmatizer()\n",
        "print(lemma.lemmatize('amusing','v'),lemma.lemmatize('amuses','v'),lemma.lemmatize('amused','v'))"
      ],
      "execution_count": 7,
      "outputs": [
        {
          "output_type": "stream",
          "text": [
            "[nltk_data] Downloading package wordnet to /root/nltk_data...\n",
            "[nltk_data]   Unzipping corpora/wordnet.zip.\n",
            "amuse amuse amuse\n"
          ],
          "name": "stdout"
        }
      ]
    },
    {
      "cell_type": "code",
      "metadata": {
        "id": "Jh7jWUwHlnQv"
      },
      "source": [
        ""
      ],
      "execution_count": null,
      "outputs": []
    }
  ]
}
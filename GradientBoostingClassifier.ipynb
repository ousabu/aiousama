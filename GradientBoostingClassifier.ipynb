{
  "nbformat": 4,
  "nbformat_minor": 0,
  "metadata": {
    "colab": {
      "name": "GradientBoostingClassifier.ipynb",
      "provenance": [],
      "authorship_tag": "ABX9TyNBQ7EYUFdLINgvXEqTfKTA",
      "include_colab_link": true
    },
    "kernelspec": {
      "name": "python3",
      "display_name": "Python 3"
    }
  },
  "cells": [
    {
      "cell_type": "markdown",
      "metadata": {
        "id": "view-in-github",
        "colab_type": "text"
      },
      "source": [
        "<a href=\"https://colab.research.google.com/github/ousabu/aiousama/blob/master/GradientBoostingClassifier.ipynb\" target=\"_parent\"><img src=\"https://colab.research.google.com/assets/colab-badge.svg\" alt=\"Open In Colab\"/></a>"
      ]
    },
    {
      "cell_type": "code",
      "metadata": {
        "id": "lZrKzV-R65ng"
      },
      "source": [
        "# 필요한 라이브러리 추가\n",
        "from sklearn.ensemble import GradientBoostingClassifier\n",
        "from sklearn.model_selection import train_test_split\n",
        "from sklearn import datasets"
      ],
      "execution_count": 1,
      "outputs": []
    },
    {
      "cell_type": "code",
      "metadata": {
        "id": "meTiltPP6_mz"
      },
      "source": [
        "# 1 데이터 로딩\n",
        "iris = datasets.load_iris()"
      ],
      "execution_count": 2,
      "outputs": []
    },
    {
      "cell_type": "code",
      "metadata": {
        "id": "L2RhpgvC7CZp"
      },
      "source": [
        "# 2 데이터 분할\n",
        "X = iris.data\n",
        "y = iris.target\n",
        "\n",
        "X_train, X_test, y_train, y_test= train_test_split(X,y,test_size=0.3,random_state = 10)"
      ],
      "execution_count": 4,
      "outputs": []
    },
    {
      "cell_type": "code",
      "metadata": {
        "id": "lggqr_zM7FRi"
      },
      "source": [
        "gtb = GradientBoostingClassifier()  # default 값 max_depth = 3"
      ],
      "execution_count": 5,
      "outputs": []
    },
    {
      "cell_type": "code",
      "metadata": {
        "id": "aK4VP1SZ7OjE",
        "outputId": "d16c41ff-5d1d-48ab-b300-2475463fc321",
        "colab": {
          "base_uri": "https://localhost:8080/"
        }
      },
      "source": [
        "# 4 fitting model\n",
        "gtb.fit(X_train, y_train)"
      ],
      "execution_count": 6,
      "outputs": [
        {
          "output_type": "execute_result",
          "data": {
            "text/plain": [
              "GradientBoostingClassifier(ccp_alpha=0.0, criterion='friedman_mse', init=None,\n",
              "                           learning_rate=0.1, loss='deviance', max_depth=3,\n",
              "                           max_features=None, max_leaf_nodes=None,\n",
              "                           min_impurity_decrease=0.0, min_impurity_split=None,\n",
              "                           min_samples_leaf=1, min_samples_split=2,\n",
              "                           min_weight_fraction_leaf=0.0, n_estimators=100,\n",
              "                           n_iter_no_change=None, presort='deprecated',\n",
              "                           random_state=None, subsample=1.0, tol=0.0001,\n",
              "                           validation_fraction=0.1, verbose=0,\n",
              "                           warm_start=False)"
            ]
          },
          "metadata": {
            "tags": []
          },
          "execution_count": 6
        }
      ]
    },
    {
      "cell_type": "code",
      "metadata": {
        "id": "zKP7N5uT7RgF",
        "outputId": "7708c68a-618e-4d33-fde5-2a805241ca58",
        "colab": {
          "base_uri": "https://localhost:8080/"
        }
      },
      "source": [
        "# 5 훈련 데이터 \n",
        "print(\"훈련 세트 점수 : {:.3f}\".format(gtb.score(X_train,y_train)))\n",
        "print( \"테스트 세트 점수 : {:.3f}\".format(gtb.score(X_test,y_test)))"
      ],
      "execution_count": 7,
      "outputs": [
        {
          "output_type": "stream",
          "text": [
            "훈련 세트 점수 : 1.000\n",
            "테스트 세트 점수 : 0.978\n"
          ],
          "name": "stdout"
        }
      ]
    },
    {
      "cell_type": "code",
      "metadata": {
        "id": "A6L1lN0w7VVg"
      },
      "source": [
        "# 1. 데이터 불러오기\n",
        "from sklearn.datasets import load_breast_cancer\n",
        "breast = load_breast_cancer()\n"
      ],
      "execution_count": 8,
      "outputs": []
    },
    {
      "cell_type": "code",
      "metadata": {
        "id": "41CN3GM77bFB"
      },
      "source": [
        "# 2. 데이터 분류\n",
        "Xb = breast.data\n",
        "yb = breast.target\n",
        "Xb_train, Xb_test, yb_train, yb_test = train_test_split(Xb, yb, test_size=0.3, random_state = 43)\n"
      ],
      "execution_count": 9,
      "outputs": []
    },
    {
      "cell_type": "code",
      "metadata": {
        "id": "JQM9FQYQ7dfh",
        "outputId": "d6d9cfc3-489a-49d7-cf6d-18c5a32f9389",
        "colab": {
          "base_uri": "https://localhost:8080/"
        }
      },
      "source": [
        "# 3. modelling\n",
        "\n",
        "## 3.1 max_depth = 1\n",
        "gtb1 = GradientBoostingClassifier(max_depth=1).fit(Xb_train, yb_train)\n",
        "print(\"훈련 세트 점수 : {:.3f}\".format(gtb1.score(Xb_train,yb_train)))\n",
        "print( \"테스트 세트 점수 : {:.3f}\".format(gtb1.score(Xb_test,yb_test)))\n",
        "# 결과 : 훈련 세트 점수 : 0.990  테스트 세트 점수 : 0.977"
      ],
      "execution_count": 10,
      "outputs": [
        {
          "output_type": "stream",
          "text": [
            "훈련 세트 점수 : 0.990\n",
            "테스트 세트 점수 : 0.977\n"
          ],
          "name": "stdout"
        }
      ]
    },
    {
      "cell_type": "code",
      "metadata": {
        "id": "E3oorTJM7gvp",
        "outputId": "a35ab971-7226-4830-e070-eebfffb9bec5",
        "colab": {
          "base_uri": "https://localhost:8080/"
        }
      },
      "source": [
        "## 3.2 max_depth = 2\n",
        "gtb2 = GradientBoostingClassifier(max_depth=2).fit(Xb_train, yb_train)\n",
        "print(\"훈련 세트 점수 : {:.3f}\".format(gtb2.score(Xb_train,yb_train)))\n",
        "print( \"테스트 세트 점수 : {:.3f}\".format(gtb2.score(Xb_test,yb_test)))\n",
        "# 결과 : 훈련 세트 점수 : 1.000 테스트 세트 점수 : 0.977"
      ],
      "execution_count": 11,
      "outputs": [
        {
          "output_type": "stream",
          "text": [
            "훈련 세트 점수 : 1.000\n",
            "테스트 세트 점수 : 0.977\n"
          ],
          "name": "stdout"
        }
      ]
    },
    {
      "cell_type": "code",
      "metadata": {
        "id": "eVQ7HnpE7mZ-",
        "outputId": "6562e03a-0590-4e42-b666-512549e6fa91",
        "colab": {
          "base_uri": "https://localhost:8080/"
        }
      },
      "source": [
        "## 3.3 max_depth = 3\n",
        "gtb3 = GradientBoostingClassifier(max_depth=3).fit(Xb_train, yb_train)\n",
        "print(\"훈련 세트 점수 : {:.3f}\".format(gtb3.score(Xb_train,yb_train)))\n",
        "print( \"테스트 세트 점수 : {:.3f}\".format(gtb3.score(Xb_test,yb_test)))\n",
        "# 결과 : 훈련 세트 점수 : 1.000 테스트 세트 점수 : 0.977"
      ],
      "execution_count": 12,
      "outputs": [
        {
          "output_type": "stream",
          "text": [
            "훈련 세트 점수 : 1.000\n",
            "테스트 세트 점수 : 0.977\n"
          ],
          "name": "stdout"
        }
      ]
    },
    {
      "cell_type": "code",
      "metadata": {
        "id": "0kfS24ps72W8"
      },
      "source": [
        "# 4. 모델링 반복(max_depth = 2를 이용하여)\n",
        "train_acc, test_acc = [],[]\n",
        "n_estimators = range(5,201,5)"
      ],
      "execution_count": 14,
      "outputs": []
    },
    {
      "cell_type": "code",
      "metadata": {
        "id": "vDyiwypX7pc6"
      },
      "source": [
        "for n_estimator in n_estimators:\n",
        "    # 모델 생성\n",
        "    gtb3_depth_n = GradientBoostingClassifier(n_estimators=n_estimator, random_state=n_estimator, max_depth=2)\n",
        "    \n",
        "    gtb3_depth_n.fit(Xb_train, yb_train)\n",
        "    \n",
        "    train_acc.append(gtb3_depth_n.score(Xb_train, yb_train))\n",
        "    test_acc.append(gtb3_depth_n.score(Xb_test, yb_test))"
      ],
      "execution_count": 15,
      "outputs": []
    },
    {
      "cell_type": "code",
      "metadata": {
        "id": "nj-eDv517xQf",
        "outputId": "5cc0fc7c-c348-42c3-bf2d-aba10b4321ac",
        "colab": {
          "base_uri": "https://localhost:8080/",
          "height": 568
        }
      },
      "source": [
        "# 5. estimator 변화에 따른 결과 그래프로 확인\n",
        "import matplotlib.pyplot as plt\n",
        "\n",
        "plt.figure(figsize = (20,10))\n",
        "plt.plot(n_estimators, train_acc, label=\"train\",marker='o')\n",
        "plt.plot(n_estimators, test_acc, label=\"test\",marker='o')\n",
        "plt.ylabel('accuracy')\n",
        "plt.xlabel('number of n_estimators')\n",
        "plt.legend(fontsize=15)"
      ],
      "execution_count": 16,
      "outputs": [
        {
          "output_type": "execute_result",
          "data": {
            "text/plain": [
              "<matplotlib.legend.Legend at 0x7fd86a3c64a8>"
            ]
          },
          "metadata": {
            "tags": []
          },
          "execution_count": 16
        },
        {
          "output_type": "display_data",
          "data": {
            "image/png": "[encoded data removed]",
            "text/plain": [
              "<Figure size 1440x720 with 1 Axes>"
            ]
          },
          "metadata": {
            "tags": [],
            "needs_background": "light"
          }
        }
      ]
    },
    {
      "cell_type": "code",
      "metadata": {
        "id": "r62rcZ7779fT",
        "outputId": "50b35cd0-32c8-4c45-cbec-5d7b2c594eb1",
        "colab": {
          "base_uri": "https://localhost:8080/"
        }
      },
      "source": [
        "# 6. 최종 모델 확인\n",
        "gtb3_depth_n = GradientBoostingClassifier(n_estimators=155, random_state=155, max_depth=2, learning_rate=0.1)\n",
        "gtb3_depth_n.fit(Xb_train, yb_train)\n",
        "    \n",
        "# 훈련 정확도 출력\n",
        "print(\"훈련 세트 점수 : {:.3f}\".format(gtb3_depth_n.score(Xb_train,yb_train)))\n",
        "print( \"테스트 세트 점수 : {:.3f}\".format(gtb3_depth_n.score(Xb_test,yb_test)))\n",
        "\n",
        "# learning_rate를 높이면 보정을 강하게 하기 때문에 복잡한 모델을 만듭니다.(default = 0.1)\n",
        "# n_estimator 값을 키우면 ensemble에 트리가 더 많이 추가되어 모델의 복잡도가 커지고 train 세트를 더 정확하게 fitting합니다."
      ],
      "execution_count": 17,
      "outputs": [
        {
          "output_type": "stream",
          "text": [
            "훈련 세트 점수 : 1.000\n",
            "테스트 세트 점수 : 0.982\n"
          ],
          "name": "stdout"
        }
      ]
    },
    {
      "cell_type": "code",
      "metadata": {
        "id": "8wi4hx0B8Jl9"
      },
      "source": [
        ""
      ],
      "execution_count": null,
      "outputs": []
    }
  ]
}
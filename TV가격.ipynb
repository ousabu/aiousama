{
  "nbformat": 4,
  "nbformat_minor": 0,
  "metadata": {
    "colab": {
      "name": "TV가격.ipynb",
      "provenance": [],
      "authorship_tag": "ABX9TyPgGYv2TqO3ZoJguwvfoWEG",
      "include_colab_link": true
    },
    "kernelspec": {
      "name": "python3",
      "display_name": "Python 3"
    }
  },
  "cells": [
    {
      "cell_type": "markdown",
      "metadata": {
        "id": "view-in-github",
        "colab_type": "text"
      },
      "source": [
        "<a href=\"https://colab.research.google.com/github/ousabu/aiousama/blob/master/TV%EA%B0%80%EA%B2%A9.ipynb\" target=\"_parent\"><img src=\"https://colab.research.google.com/assets/colab-badge.svg\" alt=\"Open In Colab\"/></a>"
      ]
    },
    {
      "cell_type": "code",
      "metadata": {
        "id": "VbTqesm7oOkq"
      },
      "source": [
        "import pandas as pd\n",
        "import matplotlib.pyplot as plt\n",
        "import seaborn as sns\n",
        "#matplotlib 패키지 한글 폰트 설정 시작\n",
        "from matplotlib import rc\n",
        "rc('font', family='Malgun Gothic') #윈도우, 구글 콜랩\n",
        "#rc('font', family='AppleGothic') #맥\n",
        "#matplotlib 패키지 한글 폰트 설정 끝"
      ],
      "execution_count": 1,
      "outputs": []
    },
    {
      "cell_type": "code",
      "metadata": {
        "id": "1najK2ZYo2CT"
      },
      "source": [
        "train_df=pd.read_excel('/content/네이버TV가격_최종.xlsx',sheet_name='train')"
      ],
      "execution_count": 2,
      "outputs": []
    },
    {
      "cell_type": "code",
      "metadata": {
        "id": "LEepnn68pAZq",
        "outputId": "356ae81f-80c5-4968-dbfd-6f6dceb2508f",
        "colab": {
          "base_uri": "https://localhost:8080/",
          "height": 137
        }
      },
      "source": [
        "train_df.head(3)"
      ],
      "execution_count": 3,
      "outputs": [
        {
          "output_type": "execute_result",
          "data": {
            "text/html": [
              "<div>\n",
              "<style scoped>\n",
              "    .dataframe tbody tr th:only-of-type {\n",
              "        vertical-align: middle;\n",
              "    }\n",
              "\n",
              "    .dataframe tbody tr th {\n",
              "        vertical-align: top;\n",
              "    }\n",
              "\n",
              "    .dataframe thead th {\n",
              "        text-align: right;\n",
              "    }\n",
              "</style>\n",
              "<table border=\"1\" class=\"dataframe\">\n",
              "  <thead>\n",
              "    <tr style=\"text-align: right;\">\n",
              "      <th></th>\n",
              "      <th>ID</th>\n",
              "      <th>판매가</th>\n",
              "      <th>화면크기</th>\n",
              "      <th>형태</th>\n",
              "      <th>해상도</th>\n",
              "      <th>화면비율</th>\n",
              "      <th>LCD</th>\n",
              "      <th>LED</th>\n",
              "      <th>OLED</th>\n",
              "      <th>QLED</th>\n",
              "      <th>단자</th>\n",
              "      <th>부가기능</th>\n",
              "    </tr>\n",
              "  </thead>\n",
              "  <tbody>\n",
              "    <tr>\n",
              "      <th>0</th>\n",
              "      <td>8</td>\n",
              "      <td>396240</td>\n",
              "      <td>55</td>\n",
              "      <td>0</td>\n",
              "      <td>2160</td>\n",
              "      <td>1</td>\n",
              "      <td>0</td>\n",
              "      <td>1</td>\n",
              "      <td>0</td>\n",
              "      <td>0</td>\n",
              "      <td>3</td>\n",
              "      <td>1</td>\n",
              "    </tr>\n",
              "    <tr>\n",
              "      <th>1</th>\n",
              "      <td>9</td>\n",
              "      <td>412870</td>\n",
              "      <td>55</td>\n",
              "      <td>0</td>\n",
              "      <td>2160</td>\n",
              "      <td>1</td>\n",
              "      <td>0</td>\n",
              "      <td>1</td>\n",
              "      <td>0</td>\n",
              "      <td>0</td>\n",
              "      <td>3</td>\n",
              "      <td>1</td>\n",
              "    </tr>\n",
              "    <tr>\n",
              "      <th>2</th>\n",
              "      <td>10</td>\n",
              "      <td>414590</td>\n",
              "      <td>55</td>\n",
              "      <td>0</td>\n",
              "      <td>2160</td>\n",
              "      <td>1</td>\n",
              "      <td>0</td>\n",
              "      <td>1</td>\n",
              "      <td>0</td>\n",
              "      <td>0</td>\n",
              "      <td>3</td>\n",
              "      <td>1</td>\n",
              "    </tr>\n",
              "  </tbody>\n",
              "</table>\n",
              "</div>"
            ],
            "text/plain": [
              "   ID     판매가  화면크기  형태   해상도  화면비율  LCD  LED  OLED  QLED  단자  부가기능\n",
              "0   8  396240    55   0  2160     1    0    1     0     0   3     1\n",
              "1   9  412870    55   0  2160     1    0    1     0     0   3     1\n",
              "2  10  414590    55   0  2160     1    0    1     0     0   3     1"
            ]
          },
          "metadata": {
            "tags": []
          },
          "execution_count": 3
        }
      ]
    },
    {
      "cell_type": "code",
      "metadata": {
        "id": "KuL2nl_ppD91"
      },
      "source": [
        "test_df=pd.read_excel('/content/네이버TV가격_최종.xlsx',sheet_name='test')"
      ],
      "execution_count": 4,
      "outputs": []
    },
    {
      "cell_type": "code",
      "metadata": {
        "id": "JTj6R_vIpOvg",
        "outputId": "7bc714d2-ca68-446c-ae05-b57203425b56",
        "colab": {
          "base_uri": "https://localhost:8080/",
          "height": 137
        }
      },
      "source": [
        "test_df.head(3)"
      ],
      "execution_count": 6,
      "outputs": [
        {
          "output_type": "execute_result",
          "data": {
            "text/html": [
              "<div>\n",
              "<style scoped>\n",
              "    .dataframe tbody tr th:only-of-type {\n",
              "        vertical-align: middle;\n",
              "    }\n",
              "\n",
              "    .dataframe tbody tr th {\n",
              "        vertical-align: top;\n",
              "    }\n",
              "\n",
              "    .dataframe thead th {\n",
              "        text-align: right;\n",
              "    }\n",
              "</style>\n",
              "<table border=\"1\" class=\"dataframe\">\n",
              "  <thead>\n",
              "    <tr style=\"text-align: right;\">\n",
              "      <th></th>\n",
              "      <th>ID</th>\n",
              "      <th>판매가</th>\n",
              "      <th>화면크기</th>\n",
              "      <th>형태</th>\n",
              "      <th>해상도</th>\n",
              "      <th>화면비율</th>\n",
              "      <th>LCD</th>\n",
              "      <th>LED</th>\n",
              "      <th>OLED</th>\n",
              "      <th>QLED</th>\n",
              "      <th>단자</th>\n",
              "      <th>부가기능</th>\n",
              "    </tr>\n",
              "  </thead>\n",
              "  <tbody>\n",
              "    <tr>\n",
              "      <th>0</th>\n",
              "      <td>11</td>\n",
              "      <td>416240</td>\n",
              "      <td>55</td>\n",
              "      <td>0</td>\n",
              "      <td>2160</td>\n",
              "      <td>1</td>\n",
              "      <td>0</td>\n",
              "      <td>1</td>\n",
              "      <td>0</td>\n",
              "      <td>0</td>\n",
              "      <td>3</td>\n",
              "      <td>1</td>\n",
              "    </tr>\n",
              "    <tr>\n",
              "      <th>1</th>\n",
              "      <td>25</td>\n",
              "      <td>431040</td>\n",
              "      <td>55</td>\n",
              "      <td>0</td>\n",
              "      <td>2160</td>\n",
              "      <td>1</td>\n",
              "      <td>0</td>\n",
              "      <td>1</td>\n",
              "      <td>0</td>\n",
              "      <td>0</td>\n",
              "      <td>3</td>\n",
              "      <td>1</td>\n",
              "    </tr>\n",
              "    <tr>\n",
              "      <th>2</th>\n",
              "      <td>31</td>\n",
              "      <td>454000</td>\n",
              "      <td>55</td>\n",
              "      <td>0</td>\n",
              "      <td>2160</td>\n",
              "      <td>1</td>\n",
              "      <td>0</td>\n",
              "      <td>1</td>\n",
              "      <td>0</td>\n",
              "      <td>0</td>\n",
              "      <td>3</td>\n",
              "      <td>1</td>\n",
              "    </tr>\n",
              "  </tbody>\n",
              "</table>\n",
              "</div>"
            ],
            "text/plain": [
              "   ID     판매가  화면크기  형태   해상도  화면비율  LCD  LED  OLED  QLED  단자  부가기능\n",
              "0  11  416240    55   0  2160     1    0    1     0     0   3     1\n",
              "1  25  431040    55   0  2160     1    0    1     0     0   3     1\n",
              "2  31  454000    55   0  2160     1    0    1     0     0   3     1"
            ]
          },
          "metadata": {
            "tags": []
          },
          "execution_count": 6
        }
      ]
    },
    {
      "cell_type": "code",
      "metadata": {
        "id": "gEHFWKaepgh5",
        "outputId": "7ef3ad26-a043-4f4d-84c1-d1f758fffbb3",
        "colab": {
          "base_uri": "https://localhost:8080/",
          "height": 33
        }
      },
      "source": [
        "train_df.shape,test_df.shape"
      ],
      "execution_count": 8,
      "outputs": [
        {
          "output_type": "execute_result",
          "data": {
            "text/plain": [
              "((7000, 12), (3000, 12))"
            ]
          },
          "metadata": {
            "tags": []
          },
          "execution_count": 8
        }
      ]
    },
    {
      "cell_type": "code",
      "metadata": {
        "id": "_hUvUz61pS_s"
      },
      "source": [
        "search_df = train_df[(train_df['LCD']==0) & (train_df['LED']==0) & (train_df['OLED']==0) & (train_df['QLED']==0)]"
      ],
      "execution_count": 9,
      "outputs": []
    },
    {
      "cell_type": "code",
      "metadata": {
        "id": "VDcAwI-Vpx3F",
        "outputId": "56a2bf42-bf26-422e-fea1-4071bd4aefc6",
        "colab": {
          "base_uri": "https://localhost:8080/",
          "height": 137
        }
      },
      "source": [
        "search_df[:3]"
      ],
      "execution_count": 11,
      "outputs": [
        {
          "output_type": "execute_result",
          "data": {
            "text/html": [
              "<div>\n",
              "<style scoped>\n",
              "    .dataframe tbody tr th:only-of-type {\n",
              "        vertical-align: middle;\n",
              "    }\n",
              "\n",
              "    .dataframe tbody tr th {\n",
              "        vertical-align: top;\n",
              "    }\n",
              "\n",
              "    .dataframe thead th {\n",
              "        text-align: right;\n",
              "    }\n",
              "</style>\n",
              "<table border=\"1\" class=\"dataframe\">\n",
              "  <thead>\n",
              "    <tr style=\"text-align: right;\">\n",
              "      <th></th>\n",
              "      <th>ID</th>\n",
              "      <th>판매가</th>\n",
              "      <th>화면크기</th>\n",
              "      <th>형태</th>\n",
              "      <th>해상도</th>\n",
              "      <th>화면비율</th>\n",
              "      <th>LCD</th>\n",
              "      <th>LED</th>\n",
              "      <th>OLED</th>\n",
              "      <th>QLED</th>\n",
              "      <th>단자</th>\n",
              "      <th>부가기능</th>\n",
              "    </tr>\n",
              "  </thead>\n",
              "  <tbody>\n",
              "    <tr>\n",
              "      <th>763</th>\n",
              "      <td>2258</td>\n",
              "      <td>1450730</td>\n",
              "      <td>65</td>\n",
              "      <td>0</td>\n",
              "      <td>2160</td>\n",
              "      <td>1</td>\n",
              "      <td>0</td>\n",
              "      <td>0</td>\n",
              "      <td>0</td>\n",
              "      <td>0</td>\n",
              "      <td>2</td>\n",
              "      <td>2</td>\n",
              "    </tr>\n",
              "    <tr>\n",
              "      <th>764</th>\n",
              "      <td>2260</td>\n",
              "      <td>1450720</td>\n",
              "      <td>65</td>\n",
              "      <td>0</td>\n",
              "      <td>2160</td>\n",
              "      <td>1</td>\n",
              "      <td>0</td>\n",
              "      <td>0</td>\n",
              "      <td>0</td>\n",
              "      <td>0</td>\n",
              "      <td>2</td>\n",
              "      <td>2</td>\n",
              "    </tr>\n",
              "    <tr>\n",
              "      <th>765</th>\n",
              "      <td>2262</td>\n",
              "      <td>1457990</td>\n",
              "      <td>65</td>\n",
              "      <td>0</td>\n",
              "      <td>2160</td>\n",
              "      <td>1</td>\n",
              "      <td>0</td>\n",
              "      <td>0</td>\n",
              "      <td>0</td>\n",
              "      <td>0</td>\n",
              "      <td>2</td>\n",
              "      <td>2</td>\n",
              "    </tr>\n",
              "  </tbody>\n",
              "</table>\n",
              "</div>"
            ],
            "text/plain": [
              "       ID      판매가  화면크기  형태   해상도  화면비율  LCD  LED  OLED  QLED  단자  부가기능\n",
              "763  2258  1450730    65   0  2160     1    0    0     0     0   2     2\n",
              "764  2260  1450720    65   0  2160     1    0    0     0     0   2     2\n",
              "765  2262  1457990    65   0  2160     1    0    0     0     0   2     2"
            ]
          },
          "metadata": {
            "tags": []
          },
          "execution_count": 11
        }
      ]
    },
    {
      "cell_type": "code",
      "metadata": {
        "id": "-SlCyf4Opy_P"
      },
      "source": [
        "# sns.barplot(x='값', y='개수', data=pd.DataFrame({'값': ['결측값', '정상값'], '개수':[len(search_df), len(train_df) - len(search_df)]}))"
      ],
      "execution_count": 16,
      "outputs": []
    },
    {
      "cell_type": "code",
      "metadata": {
        "id": "E6BqQQrcqUdr"
      },
      "source": [
        "train_df.isnull().sum()"
      ],
      "execution_count": null,
      "outputs": []
    },
    {
      "cell_type": "code",
      "metadata": {
        "id": "UT4OhATzqhwr"
      },
      "source": [
        "# sns.boxplot(data=train_df)\n"
      ],
      "execution_count": 18,
      "outputs": []
    },
    {
      "cell_type": "code",
      "metadata": {
        "id": "LibNi18cqxvI"
      },
      "source": [
        "x_train = train_df.drop(['ID', '판매가'], axis=1)\n",
        "x_test = test_df.drop(['ID', '판매가'], axis=1)\n",
        "y_train = train_df['판매가']\n",
        "y_test = test_df['판매가']"
      ],
      "execution_count": 19,
      "outputs": []
    },
    {
      "cell_type": "code",
      "metadata": {
        "id": "QXU4tFkArLve"
      },
      "source": [
        "import pandas as pd\n",
        "from sklearn.linear_model import LinearRegression\n",
        "import numpy as np"
      ],
      "execution_count": 20,
      "outputs": []
    },
    {
      "cell_type": "code",
      "metadata": {
        "id": "TctDAS8BrVF6",
        "outputId": "b1cefd25-e314-45f9-b533-8c1fd10a129b",
        "colab": {
          "base_uri": "https://localhost:8080/",
          "height": 33
        }
      },
      "source": [
        "model=LinearRegression()\n",
        "model.fit(x_train,y_train)"
      ],
      "execution_count": 21,
      "outputs": [
        {
          "output_type": "execute_result",
          "data": {
            "text/plain": [
              "LinearRegression(copy_X=True, fit_intercept=True, n_jobs=None, normalize=False)"
            ]
          },
          "metadata": {
            "tags": []
          },
          "execution_count": 21
        }
      ]
    },
    {
      "cell_type": "code",
      "metadata": {
        "id": "5lMLYmuSrbFH",
        "outputId": "35782301-560b-47b6-a3e6-f4caecf0d6fe",
        "colab": {
          "base_uri": "https://localhost:8080/",
          "height": 33
        }
      },
      "source": [
        "model.score(x_train,y_train)"
      ],
      "execution_count": 22,
      "outputs": [
        {
          "output_type": "execute_result",
          "data": {
            "text/plain": [
              "0.5765630396547294"
            ]
          },
          "metadata": {
            "tags": []
          },
          "execution_count": 22
        }
      ]
    },
    {
      "cell_type": "code",
      "metadata": {
        "id": "uv2iZij2re6X",
        "outputId": "6dd60f8f-f729-4ce7-8d5a-54dd544b8325",
        "colab": {
          "base_uri": "https://localhost:8080/",
          "height": 33
        }
      },
      "source": [
        "model.score(x_test,y_test)"
      ],
      "execution_count": 23,
      "outputs": [
        {
          "output_type": "execute_result",
          "data": {
            "text/plain": [
              "0.5462414358589349"
            ]
          },
          "metadata": {
            "tags": []
          },
          "execution_count": 23
        }
      ]
    },
    {
      "cell_type": "code",
      "metadata": {
        "id": "5vRc3skKrirL"
      },
      "source": [
        "x_test = np.array([\n",
        "    [55, 0, 2160, 1, 0, 1, 0, 0, 3, 1]\n",
        "])\n",
        "\n",
        "y_predict = model.predict(x_test)"
      ],
      "execution_count": 24,
      "outputs": []
    },
    {
      "cell_type": "code",
      "metadata": {
        "id": "TV_6oQ7Uro9g",
        "outputId": "506f61a7-5679-42cb-b7b9-cf285e359ab2",
        "colab": {
          "base_uri": "https://localhost:8080/",
          "height": 33
        }
      },
      "source": [
        "y_predict"
      ],
      "execution_count": 25,
      "outputs": [
        {
          "output_type": "execute_result",
          "data": {
            "text/plain": [
              "array([694212.0204505])"
            ]
          },
          "metadata": {
            "tags": []
          },
          "execution_count": 25
        }
      ]
    },
    {
      "cell_type": "code",
      "metadata": {
        "id": "S3NwrgqrrqVe"
      },
      "source": [
        ""
      ],
      "execution_count": null,
      "outputs": []
    }
  ]
}
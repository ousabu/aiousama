{
  "nbformat": 4,
  "nbformat_minor": 0,
  "metadata": {
    "colab": {
      "name": "Rasso.ipynb",
      "provenance": [],
      "authorship_tag": "ABX9TyN3ZrV61GlowFRSkwGAvr4b",
      "include_colab_link": true
    },
    "kernelspec": {
      "name": "python3",
      "display_name": "Python 3"
    }
  },
  "cells": [
    {
      "cell_type": "markdown",
      "metadata": {
        "id": "view-in-github",
        "colab_type": "text"
      },
      "source": [
        "<a href=\"https://colab.research.google.com/github/ousabu/aiousama/blob/master/Rasso.ipynb\" target=\"_parent\"><img src=\"https://colab.research.google.com/assets/colab-badge.svg\" alt=\"Open In Colab\"/></a>"
      ]
    },
    {
      "cell_type": "code",
      "metadata": {
        "id": "1y3nHD5OIfRk"
      },
      "source": [
        "# 0. 라이브러리 추가\n",
        "from sklearn.datasets import load_boston\n",
        "boston = load_boston()"
      ],
      "execution_count": 1,
      "outputs": []
    },
    {
      "cell_type": "code",
      "metadata": {
        "id": "1NBxDRPrQWjr"
      },
      "source": [
        "from sklearn.model_selection import train_test_split\n",
        "from sklearn.linear_model import Lasso\n",
        "import numpy as np\n"
      ],
      "execution_count": 8,
      "outputs": []
    },
    {
      "cell_type": "code",
      "metadata": {
        "id": "jEE2zguyQdts"
      },
      "source": [
        "# 1. 데이터 분리\n",
        "X = boston.data\n",
        "y = boston.target\n",
        "X_train, X_test, y_train, y_test = train_test_split(X,y,test_size=0.3,random_state = 12)"
      ],
      "execution_count": 9,
      "outputs": []
    },
    {
      "cell_type": "code",
      "metadata": {
        "id": "eLBOMowiQhNu",
        "outputId": "80b5d083-d004-4e82-8d21-6e7d439d2e22",
        "colab": {
          "base_uri": "https://localhost:8080/"
        }
      },
      "source": [
        "# 2. Lasso modelling\n",
        "\n",
        "## 2-1 default -> alpha = 1.0\n",
        "lasso = Lasso().fit(X_train, y_train)\n",
        "print(\"훈련 세트 점수 : {:.3f}\".format(lasso.score(X_train,y_train)))\n",
        "print(\"테스트 세트 점수 : {:.3f}\".format(lasso.score(X_test,y_test)))\n",
        "print('사용한 특성의 수 : {}'.format(np.sum(lasso.coef_ != 0)))\n",
        "# 결과 : 훈련 세트 점수 : 0.678 테스트 세트 점수 : 0.586 사용한 특성의 수 : 10"
      ],
      "execution_count": 10,
      "outputs": [
        {
          "output_type": "stream",
          "text": [
            "훈련 세트 점수 : 0.678\n",
            "테스트 세트 점수 : 0.586\n",
            "사용한 특성의 수 : 10\n"
          ],
          "name": "stdout"
        }
      ]
    },
    {
      "cell_type": "code",
      "metadata": {
        "id": "ZR6TySvOQnuW",
        "outputId": "f86974a9-5150-41b7-cd46-79f620dd2db3",
        "colab": {
          "base_uri": "https://localhost:8080/"
        }
      },
      "source": [
        "## 2-2 alpha = 0.1\n",
        "lasso01 = Lasso(alpha=0.1).fit(X_train, y_train)\n",
        "print(\"훈련 세트 점수 : {:.3f}\".format(lasso01.score(X_train,y_train)))\n",
        "print(\"테스트 세트 점수 : {:.3f}\".format(lasso01.score(X_test,y_test)))\n",
        "print('사용한 특성의 수 : {}'.format(np.sum(lasso01.coef_ != 0)))\n",
        "# 결과 : 훈련 세트 점수 : 0.736 테스트 세트 점수 : 0.693 사용한 특성의 수 : 11"
      ],
      "execution_count": 11,
      "outputs": [
        {
          "output_type": "stream",
          "text": [
            "훈련 세트 점수 : 0.736\n",
            "테스트 세트 점수 : 0.693\n",
            "사용한 특성의 수 : 11\n"
          ],
          "name": "stdout"
        }
      ]
    },
    {
      "cell_type": "code",
      "metadata": {
        "id": "6SLDwdS7SoCx",
        "outputId": "f6458d0e-dca9-49a4-97db-a5706cd76962",
        "colab": {
          "base_uri": "https://localhost:8080/"
        }
      },
      "source": [
        "## 2-3 alpha = 0.01\n",
        "lasso001 = Lasso(alpha=0.01).fit(X_train, y_train)\n",
        "print(\"훈련 세트 점수 : {:.3f}\".format(lasso001.score(X_train,y_train)))\n",
        "print(\"테스트 세트 점수 : {:.3f}\".format(lasso001.score(X_test,y_test)))\n",
        "print('사용한 특성의 수 : {}'.format(np.sum(lasso001.coef_ != 0)))\n",
        "# 결과 : 훈련 세트 점수 : 0.748 테스트 세트 점수 : 0.708 사용한 특성의 수 : 13"
      ],
      "execution_count": 22,
      "outputs": [
        {
          "output_type": "stream",
          "text": [
            "훈련 세트 점수 : 0.748\n",
            "테스트 세트 점수 : 0.708\n",
            "사용한 특성의 수 : 13\n"
          ],
          "name": "stdout"
        }
      ]
    },
    {
      "cell_type": "code",
      "metadata": {
        "id": "NPhcZukyREFc",
        "outputId": "e3697903-2524-457e-844c-653a05b2b294",
        "colab": {
          "base_uri": "https://localhost:8080/"
        }
      },
      "source": [
        "## 2-4 alpha = 10\n",
        "lasso10 = Lasso(alpha=10).fit(X_train, y_train)\n",
        "print(\"훈련 세트 점수 : {:.3f}\".format(lasso10.score(X_train,y_train)))\n",
        "print(\"테스트 세트 점수 : {:.3f}\".format(lasso10.score(X_test,y_test)))\n",
        "print('사용한 특성의 수 : {}'.format(np.sum(lasso10.coef_ != 0)))\n",
        "# 결과 : 훈련 세트 점수 : 0.557 테스트 세트 점수 : 0.464 사용한 특성의 수 : 5"
      ],
      "execution_count": 23,
      "outputs": [
        {
          "output_type": "stream",
          "text": [
            "훈련 세트 점수 : 0.557\n",
            "테스트 세트 점수 : 0.464\n",
            "사용한 특성의 수 : 5\n"
          ],
          "name": "stdout"
        }
      ]
    },
    {
      "cell_type": "code",
      "metadata": {
        "id": "wga0aPH0ROgJ",
        "outputId": "76c9bdbd-9797-496e-eaed-a6fa337e673b",
        "colab": {
          "base_uri": "https://localhost:8080/"
        }
      },
      "source": [
        "lasso10.coef_"
      ],
      "execution_count": 24,
      "outputs": [
        {
          "output_type": "execute_result",
          "data": {
            "text/plain": [
              "array([-0.        ,  0.02021789, -0.        ,  0.        , -0.        ,\n",
              "        0.        ,  0.00267733, -0.        ,  0.        , -0.00848569,\n",
              "       -0.        ,  0.00988535, -0.59614674])"
            ]
          },
          "metadata": {
            "tags": []
          },
          "execution_count": 24
        }
      ]
    },
    {
      "cell_type": "code",
      "metadata": {
        "id": "xpP8WCmZRXGH",
        "outputId": "7bca473f-a9eb-4590-e8d0-5c83f928e11c",
        "colab": {
          "base_uri": "https://localhost:8080/"
        }
      },
      "source": [
        "np.sum(lasso10.coef_)"
      ],
      "execution_count": 25,
      "outputs": [
        {
          "output_type": "execute_result",
          "data": {
            "text/plain": [
              "-0.571851861745833"
            ]
          },
          "metadata": {
            "tags": []
          },
          "execution_count": 25
        }
      ]
    },
    {
      "cell_type": "code",
      "metadata": {
        "id": "9UYa2KFvR2q2",
        "outputId": "98e3f854-f839-42d6-dee5-973e040a5c33",
        "colab": {
          "base_uri": "https://localhost:8080/"
        }
      },
      "source": [
        "lasso10.coef_ != 0"
      ],
      "execution_count": 26,
      "outputs": [
        {
          "output_type": "execute_result",
          "data": {
            "text/plain": [
              "array([False,  True, False, False, False, False,  True, False, False,\n",
              "        True, False,  True,  True])"
            ]
          },
          "metadata": {
            "tags": []
          },
          "execution_count": 26
        }
      ]
    },
    {
      "cell_type": "code",
      "metadata": {
        "id": "eRghgP7IRoOX",
        "outputId": "b3a37a19-1b2c-4b85-a35a-0e7b604bba6e",
        "colab": {
          "base_uri": "https://localhost:8080/"
        }
      },
      "source": [
        "np.sum(lasso10.coef_ != 0)"
      ],
      "execution_count": 27,
      "outputs": [
        {
          "output_type": "execute_result",
          "data": {
            "text/plain": [
              "5"
            ]
          },
          "metadata": {
            "tags": []
          },
          "execution_count": 27
        }
      ]
    },
    {
      "cell_type": "code",
      "metadata": {
        "id": "QJLIxDYWRyN6",
        "outputId": "f70e0693-852c-4e8f-bc62-f6e9e746a371",
        "colab": {
          "base_uri": "https://localhost:8080/"
        }
      },
      "source": [
        "np.array([True,True,True])"
      ],
      "execution_count": 28,
      "outputs": [
        {
          "output_type": "execute_result",
          "data": {
            "text/plain": [
              "array([ True,  True,  True])"
            ]
          },
          "metadata": {
            "tags": []
          },
          "execution_count": 28
        }
      ]
    },
    {
      "cell_type": "code",
      "metadata": {
        "id": "ad0MNCarSGk0",
        "outputId": "17d730b6-e269-4b63-ddcc-b19b5958ebd9",
        "colab": {
          "base_uri": "https://localhost:8080/"
        }
      },
      "source": [
        "sum(np.array([True,True,True]))"
      ],
      "execution_count": 29,
      "outputs": [
        {
          "output_type": "execute_result",
          "data": {
            "text/plain": [
              "3"
            ]
          },
          "metadata": {
            "tags": []
          },
          "execution_count": 29
        }
      ]
    },
    {
      "cell_type": "code",
      "metadata": {
        "id": "nklZdWS_SxSY"
      },
      "source": [
        "import matplotlib.pyplot as plt\n"
      ],
      "execution_count": 31,
      "outputs": []
    },
    {
      "cell_type": "code",
      "metadata": {
        "id": "abnpBXeWSKig",
        "outputId": "e7cb5294-49b9-4632-9bdc-26814ffbe34f",
        "colab": {
          "base_uri": "https://localhost:8080/",
          "height": 283
        }
      },
      "source": [
        "# 그래프 확인\n",
        "plt.plot(lasso001.coef_,\"^\", label=\"alpha=0.01\")\n",
        "plt.plot(lasso01.coef_,\"^\", label=\"alpha=0.1\")\n",
        "plt.plot(lasso.coef_,\"^\", label=\"alpha=1.0\")\n",
        "plt.plot(lasso10.coef_,\"^\", label=\"alpha=10\")\n",
        "plt.xlabel(\"coef list\")\n",
        "plt.ylabel(\"coefficient\")\n",
        "plt.hlines(0,0,len(lasso.coef_))\n",
        "plt.ylim(-15,5)\n",
        "plt.legend()\n",
        "plt.show()"
      ],
      "execution_count": 33,
      "outputs": [
        {
          "output_type": "display_data",
          "data": {
            "image/png": "[encoded data removed]",
            "text/plain": [
              "<Figure size 432x288 with 1 Axes>"
            ]
          },
          "metadata": {
            "tags": [],
            "needs_background": "light"
          }
        }
      ]
    },
    {
      "cell_type": "markdown",
      "metadata": {
        "id": "euolBbMkTKNM"
      },
      "source": [
        "- alpha 값이 커질 수록 규제가 커지게 되며 복잡한 모델을 만든다.\n",
        "\n",
        "- 위의 alpha값의 변화에 따라 점수를 확인하면 alpha가 작아질 수록 점수가 좋은 것을 확인 할 수있다.\n",
        "\n",
        "이때, 값이 무한히 낮아지면 다시 점수가 나빠지는 과대적합이 발생 할 수도 있다.\n",
        "\n",
        "- 그래프를 확인해보면 0의 값을 가진 것을 확인 할 수 있다. 이것이 Ridge와의 차이점이다."
      ]
    },
    {
      "cell_type": "code",
      "metadata": {
        "id": "inYOMCm7TI1j"
      },
      "source": [
        ""
      ],
      "execution_count": null,
      "outputs": []
    },
    {
      "cell_type": "markdown",
      "metadata": {
        "id": "rOaDTRu_TPlI"
      },
      "source": [
        ""
      ]
    }
  ]
}
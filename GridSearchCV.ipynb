{
  "nbformat": 4,
  "nbformat_minor": 0,
  "metadata": {
    "colab": {
      "name": "GridSearchCV.ipynb",
      "provenance": [],
      "authorship_tag": "ABX9TyN9oL0/zZ4mvBKMAUAQYz5A",
      "include_colab_link": true
    },
    "kernelspec": {
      "name": "python3",
      "display_name": "Python 3"
    }
  },
  "cells": [
    {
      "cell_type": "markdown",
      "metadata": {
        "id": "view-in-github",
        "colab_type": "text"
      },
      "source": [
        "<a href=\"https://colab.research.google.com/github/ousabu/aiousama/blob/master/GridSearchCV.ipynb\" target=\"_parent\"><img src=\"https://colab.research.google.com/assets/colab-badge.svg\" alt=\"Open In Colab\"/></a>"
      ]
    },
    {
      "cell_type": "markdown",
      "metadata": {
        "id": "YG1qz0U8lyQh"
      },
      "source": [
        "교차 검증을 사용한 그리드 서치를 매개변수 조정 방법으로 널리 사용하므로, scikit-learn은 GridSearchCV를 제공하고 있음\n",
        "검색 대상이 되는 매개변수를 딕셔너리 자료형으로 구성해야 함"
      ]
    },
    {
      "cell_type": "code",
      "metadata": {
        "id": "Ik4R4eqEloOd"
      },
      "source": [
        "from sklearn.model_selection import GridSearchCV\n",
        "from sklearn.svm import SVC\n",
        "from sklearn.model_selection import train_test_split\n",
        "from sklearn.datasets import load_iris\n",
        "\n",
        "iris=load_iris()\n",
        "\n",
        "# 1. parameter grid 생성\n",
        "param_grid = {'C':[0.001,0.01,0.1,1,10,100],'gamma':[0.001,0.01,0.1,1,10,100] }\n"
      ],
      "execution_count": 12,
      "outputs": []
    },
    {
      "cell_type": "code",
      "metadata": {
        "id": "291jgGkYl3OY"
      },
      "source": [
        "\n",
        "# 2. GridSearchCV 이용하여 객체 생성\n",
        "grid_search = GridSearchCV(SVC(), param_grid, cv =5, return_train_score=True)"
      ],
      "execution_count": 13,
      "outputs": []
    },
    {
      "cell_type": "code",
      "metadata": {
        "id": "CMkn-beQmZcR"
      },
      "source": [
        "X_train, X_test, y_train, y_test = train_test_split(iris.data, iris.target, random_state=0 ,test_size=0.2)"
      ],
      "execution_count": 14,
      "outputs": []
    },
    {
      "cell_type": "code",
      "metadata": {
        "id": "PRvHZGWqmAEz",
        "outputId": "7d1f1038-65be-4409-e858-73cf11d48270",
        "colab": {
          "base_uri": "https://localhost:8080/"
        }
      },
      "source": [
        "\n",
        "# 4. gridsearch model\n",
        "grid_search.fit(X_train, y_train)\n"
      ],
      "execution_count": 15,
      "outputs": [
        {
          "output_type": "execute_result",
          "data": {
            "text/plain": [
              "GridSearchCV(cv=5, error_score=nan,\n",
              "             estimator=SVC(C=1.0, break_ties=False, cache_size=200,\n",
              "                           class_weight=None, coef0=0.0,\n",
              "                           decision_function_shape='ovr', degree=3,\n",
              "                           gamma='scale', kernel='rbf', max_iter=-1,\n",
              "                           probability=False, random_state=None, shrinking=True,\n",
              "                           tol=0.001, verbose=False),\n",
              "             iid='deprecated', n_jobs=None,\n",
              "             param_grid={'C': [0.001, 0.01, 0.1, 1, 10, 100],\n",
              "                         'gamma': [0.001, 0.01, 0.1, 1, 10, 100]},\n",
              "             pre_dispatch='2*n_jobs', refit=True, return_train_score=True,\n",
              "             scoring=None, verbose=0)"
            ]
          },
          "metadata": {
            "tags": []
          },
          "execution_count": 15
        }
      ]
    },
    {
      "cell_type": "code",
      "metadata": {
        "id": "hQ_paJW0mVKo",
        "outputId": "114a2006-5e25-478c-ef89-2e405ab0a984",
        "colab": {
          "base_uri": "https://localhost:8080/"
        }
      },
      "source": [
        "# 4. gridsearch model\n",
        "grid_search.fit(X_train, y_train)"
      ],
      "execution_count": 16,
      "outputs": [
        {
          "output_type": "execute_result",
          "data": {
            "text/plain": [
              "GridSearchCV(cv=5, error_score=nan,\n",
              "             estimator=SVC(C=1.0, break_ties=False, cache_size=200,\n",
              "                           class_weight=None, coef0=0.0,\n",
              "                           decision_function_shape='ovr', degree=3,\n",
              "                           gamma='scale', kernel='rbf', max_iter=-1,\n",
              "                           probability=False, random_state=None, shrinking=True,\n",
              "                           tol=0.001, verbose=False),\n",
              "             iid='deprecated', n_jobs=None,\n",
              "             param_grid={'C': [0.001, 0.01, 0.1, 1, 10, 100],\n",
              "                         'gamma': [0.001, 0.01, 0.1, 1, 10, 100]},\n",
              "             pre_dispatch='2*n_jobs', refit=True, return_train_score=True,\n",
              "             scoring=None, verbose=0)"
            ]
          },
          "metadata": {
            "tags": []
          },
          "execution_count": 16
        }
      ]
    },
    {
      "cell_type": "code",
      "metadata": {
        "id": "7BMPOyPUm6oY",
        "outputId": "de07fb9a-bd7d-417e-82f0-fc33a4b3ee57",
        "colab": {
          "base_uri": "https://localhost:8080/"
        }
      },
      "source": [
        "# 5. model evaluation\n",
        "print(\"test set score : {}\".format(grid_search.score(X_test, y_test)))"
      ],
      "execution_count": 17,
      "outputs": [
        {
          "output_type": "stream",
          "text": [
            "test set score : 1.0\n"
          ],
          "name": "stdout"
        }
      ]
    },
    {
      "cell_type": "code",
      "metadata": {
        "id": "yx8XCN71nVQz",
        "outputId": "cf821b1b-3061-42a4-d7dc-205feacef10b",
        "colab": {
          "base_uri": "https://localhost:8080/"
        }
      },
      "source": [
        "# 6. best parameter and best score\n",
        "print(\"best parameters : {}\".format(grid_search.best_params_))\n",
        "print(\"best score : {}\".format(grid_search.best_score_))"
      ],
      "execution_count": 18,
      "outputs": [
        {
          "output_type": "stream",
          "text": [
            "best parameters : {'C': 1, 'gamma': 0.1}\n",
            "best score : 0.9583333333333334\n"
          ],
          "name": "stdout"
        }
      ]
    },
    {
      "cell_type": "code",
      "metadata": {
        "id": "1vys7tOKnY1X"
      },
      "source": [
        ""
      ],
      "execution_count": null,
      "outputs": []
    },
    {
      "cell_type": "markdown",
      "metadata": {
        "id": "2GkhuMScnc-m"
      },
      "source": [
        "- 여기서 5. 과 6. 의 결과를 구분하는 것이 필요\n",
        "\n",
        "- 5. : 교차 검증과 그리드 서치의 결과로 산정한 최적 매개변수를 적용하여 전체 훈련 데이터 셋에 대해 훈련한 최종 모델에 테스트 데이터로 적용했을 때의 결과\n",
        "\n",
        "- 6. : best_score_ 속성은 훈련 세트에서 수행한 교차검증의 평균 정확도가 저장된 결과\n",
        "\n",
        "* GridSearchCV.fit 메서드는 최적의 매개변수를 찾는 일뿐만 아니라, 교차 검증 성능이 가장 좋은 매개변수로 전체 훈련 데이터 세트에 대해 새로운 모델을 자동으로 만든다."
      ]
    },
    {
      "cell_type": "code",
      "metadata": {
        "id": "N_ULJQjqndv1"
      },
      "source": [
        ""
      ],
      "execution_count": null,
      "outputs": []
    },
    {
      "cell_type": "markdown",
      "metadata": {
        "id": "44L_-So5nwBZ"
      },
      "source": [
        "[교차 검증 결과 분석]\n",
        "\n",
        "결과를 시각화하면 검색 대상 매개변수가 모델의 일반화에 영향을 주는 정도를 이해하는데 도움을 준다\n",
        "grid search는 연산 비용이 높으므로, 비교적 간격을 넓게 하여 적은 수의 그리드로 시작하는 것이 좋다.\n",
        "이후 결과를 분석하여 검색을 확장해 나갈 수 있다\n",
        "그리드 서치의 결과는 cv_results_ 속성에 있다"
      ]
    },
    {
      "cell_type": "code",
      "metadata": {
        "id": "lGlF_3-xnwnE"
      },
      "source": [
        "import pandas as pd\n",
        "import numpy as np\n",
        "import matplotlib.pyplot as plt\n"
      ],
      "execution_count": 19,
      "outputs": []
    },
    {
      "cell_type": "code",
      "metadata": {
        "id": "Ziu0tuvOn2Gh"
      },
      "source": [
        "# 1. cv_results_ dictionary -> dataFrame\n",
        "results = pd.DataFrame(grid_search.cv_results_)\n"
      ],
      "execution_count": 20,
      "outputs": []
    },
    {
      "cell_type": "code",
      "metadata": {
        "id": "oM3DULa7n4oF",
        "outputId": "77500c73-076b-4346-c3a3-ce0c5fd6440b",
        "colab": {
          "base_uri": "https://localhost:8080/",
          "height": 307
        }
      },
      "source": [
        "# 2. first 5 rows\n",
        "results.head(3)\n",
        "# 여기서 grid_search.cv_results_ 의 값들을 확인 할 수 있다."
      ],
      "execution_count": 22,
      "outputs": [
        {
          "output_type": "execute_result",
          "data": {
            "text/html": [
              "<div>\n",
              "<style scoped>\n",
              "    .dataframe tbody tr th:only-of-type {\n",
              "        vertical-align: middle;\n",
              "    }\n",
              "\n",
              "    .dataframe tbody tr th {\n",
              "        vertical-align: top;\n",
              "    }\n",
              "\n",
              "    .dataframe thead th {\n",
              "        text-align: right;\n",
              "    }\n",
              "</style>\n",
              "<table border=\"1\" class=\"dataframe\">\n",
              "  <thead>\n",
              "    <tr style=\"text-align: right;\">\n",
              "      <th></th>\n",
              "      <th>mean_fit_time</th>\n",
              "      <th>std_fit_time</th>\n",
              "      <th>mean_score_time</th>\n",
              "      <th>std_score_time</th>\n",
              "      <th>param_C</th>\n",
              "      <th>param_gamma</th>\n",
              "      <th>params</th>\n",
              "      <th>split0_test_score</th>\n",
              "      <th>split1_test_score</th>\n",
              "      <th>split2_test_score</th>\n",
              "      <th>split3_test_score</th>\n",
              "      <th>split4_test_score</th>\n",
              "      <th>mean_test_score</th>\n",
              "      <th>std_test_score</th>\n",
              "      <th>rank_test_score</th>\n",
              "      <th>split0_train_score</th>\n",
              "      <th>split1_train_score</th>\n",
              "      <th>split2_train_score</th>\n",
              "      <th>split3_train_score</th>\n",
              "      <th>split4_train_score</th>\n",
              "      <th>mean_train_score</th>\n",
              "      <th>std_train_score</th>\n",
              "    </tr>\n",
              "  </thead>\n",
              "  <tbody>\n",
              "    <tr>\n",
              "      <th>0</th>\n",
              "      <td>0.001452</td>\n",
              "      <td>0.000354</td>\n",
              "      <td>0.000592</td>\n",
              "      <td>0.000099</td>\n",
              "      <td>0.001</td>\n",
              "      <td>0.001</td>\n",
              "      <td>{'C': 0.001, 'gamma': 0.001}</td>\n",
              "      <td>0.375</td>\n",
              "      <td>0.375</td>\n",
              "      <td>0.375</td>\n",
              "      <td>0.375</td>\n",
              "      <td>0.333333</td>\n",
              "      <td>0.366667</td>\n",
              "      <td>0.016667</td>\n",
              "      <td>22</td>\n",
              "      <td>0.364583</td>\n",
              "      <td>0.364583</td>\n",
              "      <td>0.364583</td>\n",
              "      <td>0.364583</td>\n",
              "      <td>0.375</td>\n",
              "      <td>0.366667</td>\n",
              "      <td>0.004167</td>\n",
              "    </tr>\n",
              "    <tr>\n",
              "      <th>1</th>\n",
              "      <td>0.000892</td>\n",
              "      <td>0.000019</td>\n",
              "      <td>0.000363</td>\n",
              "      <td>0.000013</td>\n",
              "      <td>0.001</td>\n",
              "      <td>0.01</td>\n",
              "      <td>{'C': 0.001, 'gamma': 0.01}</td>\n",
              "      <td>0.375</td>\n",
              "      <td>0.375</td>\n",
              "      <td>0.375</td>\n",
              "      <td>0.375</td>\n",
              "      <td>0.333333</td>\n",
              "      <td>0.366667</td>\n",
              "      <td>0.016667</td>\n",
              "      <td>22</td>\n",
              "      <td>0.364583</td>\n",
              "      <td>0.364583</td>\n",
              "      <td>0.364583</td>\n",
              "      <td>0.364583</td>\n",
              "      <td>0.375</td>\n",
              "      <td>0.366667</td>\n",
              "      <td>0.004167</td>\n",
              "    </tr>\n",
              "    <tr>\n",
              "      <th>2</th>\n",
              "      <td>0.000878</td>\n",
              "      <td>0.000026</td>\n",
              "      <td>0.000345</td>\n",
              "      <td>0.000005</td>\n",
              "      <td>0.001</td>\n",
              "      <td>0.1</td>\n",
              "      <td>{'C': 0.001, 'gamma': 0.1}</td>\n",
              "      <td>0.375</td>\n",
              "      <td>0.375</td>\n",
              "      <td>0.375</td>\n",
              "      <td>0.375</td>\n",
              "      <td>0.333333</td>\n",
              "      <td>0.366667</td>\n",
              "      <td>0.016667</td>\n",
              "      <td>22</td>\n",
              "      <td>0.364583</td>\n",
              "      <td>0.364583</td>\n",
              "      <td>0.364583</td>\n",
              "      <td>0.364583</td>\n",
              "      <td>0.375</td>\n",
              "      <td>0.366667</td>\n",
              "      <td>0.004167</td>\n",
              "    </tr>\n",
              "  </tbody>\n",
              "</table>\n",
              "</div>"
            ],
            "text/plain": [
              "   mean_fit_time  std_fit_time  ...  mean_train_score  std_train_score\n",
              "0       0.001452      0.000354  ...          0.366667         0.004167\n",
              "1       0.000892      0.000019  ...          0.366667         0.004167\n",
              "2       0.000878      0.000026  ...          0.366667         0.004167\n",
              "\n",
              "[3 rows x 22 columns]"
            ]
          },
          "metadata": {
            "tags": []
          },
          "execution_count": 22
        }
      ]
    },
    {
      "cell_type": "code",
      "metadata": {
        "id": "vAh7na8An8XO",
        "outputId": "5c84841d-cf9f-4669-8584-2e90ca4707ba",
        "colab": {
          "base_uri": "https://localhost:8080/",
          "height": 312
        }
      },
      "source": [
        "# 3. heatmap\n",
        "scores = np.array(results.mean_test_score.sort_values(ascending=False)).reshape(6,6)\n",
        "fig, ax = plt.subplots()\n",
        "im = ax.imshow(scores, cmap='PiYG')\n",
        "cbar = ax.figure.colorbar(im, ax=ax)\n",
        "cbar.ax.set_ylabel(ylabel=\"parameter C \", rotation=-90, va = \"bottom\")\n",
        "ax.set_xticks(np.arange(len(set(results.param_gamma))))\n",
        "ax.set_yticks(np.arange(len(set(results.param_C))))\n",
        "\n",
        "ax.set_xticklabels(param_grid['gamma'])\n",
        "ax.set_yticklabels(param_grid['C'])\n",
        "\n",
        "for i in range(len(param_grid['C'])):\n",
        "    for j in range(len(param_grid['gamma'])):\n",
        "        text = ax.text(j,i,np.round(scores[i,j],2),ha='center', va='center',color='k')\n",
        "        \n",
        "ax.set_title(\"Mean Test Score Heatmap by GridSearchCV\")\n",
        "ax.set_xlabel(\"gamma\")"
      ],
      "execution_count": 23,
      "outputs": [
        {
          "output_type": "execute_result",
          "data": {
            "text/plain": [
              "Text(0.5, 0, 'gamma')"
            ]
          },
          "metadata": {
            "tags": []
          },
          "execution_count": 23
        },
        {
          "output_type": "display_data",
          "data": {
            "image/png": "[encoded data removed]",
            "text/plain": [
              "<Figure size 432x288 with 2 Axes>"
            ]
          },
          "metadata": {
            "tags": [],
            "needs_background": "light"
          }
        }
      ]
    },
    {
      "cell_type": "code",
      "metadata": {
        "id": "LBNrNAW7oDGh"
      },
      "source": [
        ""
      ],
      "execution_count": null,
      "outputs": []
    }
  ]
}
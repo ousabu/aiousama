{
  "nbformat": 4,
  "nbformat_minor": 0,
  "metadata": {
    "colab": {
      "name": "aireline.ipynb",
      "provenance": [],
      "authorship_tag": "ABX9TyMVm4b9MSRP5FpzxnWf9PzV",
      "include_colab_link": true
    },
    "kernelspec": {
      "name": "python3",
      "display_name": "Python 3"
    }
  },
  "cells": [
    {
      "cell_type": "markdown",
      "metadata": {
        "id": "view-in-github",
        "colab_type": "text"
      },
      "source": [
        "<a href=\"https://colab.research.google.com/github/ousabu/aiousama/blob/master/aireline.ipynb\" target=\"_parent\"><img src=\"https://colab.research.google.com/assets/colab-badge.svg\" alt=\"Open In Colab\"/></a>"
      ]
    },
    {
      "cell_type": "code",
      "metadata": {
        "id": "sdLpz00toldF"
      },
      "source": [
        "import numpy as np\n",
        "import matplotlib.pyplot as plt\n",
        "import pandas as pd\n",
        "from tensorflow.keras.models import Sequential\n",
        "from tensorflow.keras.layers import Dense, LSTM\n",
        "from sklearn.preprocessing import MinMaxScaler"
      ],
      "execution_count": 254,
      "outputs": []
    },
    {
      "cell_type": "code",
      "metadata": {
        "id": "b5CmqzU1or6q",
        "outputId": "7a3c31ad-e8e9-44ab-b3af-f4699d8f0085",
        "colab": {
          "base_uri": "https://localhost:8080/",
          "height": 196
        }
      },
      "source": [
        "data=pd.read_csv('/content/AirPassengers.csv')\n",
        "data.head()"
      ],
      "execution_count": 255,
      "outputs": [
        {
          "output_type": "execute_result",
          "data": {
            "text/html": [
              "<div>\n",
              "<style scoped>\n",
              "    .dataframe tbody tr th:only-of-type {\n",
              "        vertical-align: middle;\n",
              "    }\n",
              "\n",
              "    .dataframe tbody tr th {\n",
              "        vertical-align: top;\n",
              "    }\n",
              "\n",
              "    .dataframe thead th {\n",
              "        text-align: right;\n",
              "    }\n",
              "</style>\n",
              "<table border=\"1\" class=\"dataframe\">\n",
              "  <thead>\n",
              "    <tr style=\"text-align: right;\">\n",
              "      <th></th>\n",
              "      <th>Month</th>\n",
              "      <th>#Passengers</th>\n",
              "    </tr>\n",
              "  </thead>\n",
              "  <tbody>\n",
              "    <tr>\n",
              "      <th>0</th>\n",
              "      <td>1949-01</td>\n",
              "      <td>112</td>\n",
              "    </tr>\n",
              "    <tr>\n",
              "      <th>1</th>\n",
              "      <td>1949-02</td>\n",
              "      <td>118</td>\n",
              "    </tr>\n",
              "    <tr>\n",
              "      <th>2</th>\n",
              "      <td>1949-03</td>\n",
              "      <td>132</td>\n",
              "    </tr>\n",
              "    <tr>\n",
              "      <th>3</th>\n",
              "      <td>1949-04</td>\n",
              "      <td>129</td>\n",
              "    </tr>\n",
              "    <tr>\n",
              "      <th>4</th>\n",
              "      <td>1949-05</td>\n",
              "      <td>121</td>\n",
              "    </tr>\n",
              "  </tbody>\n",
              "</table>\n",
              "</div>"
            ],
            "text/plain": [
              "     Month  #Passengers\n",
              "0  1949-01          112\n",
              "1  1949-02          118\n",
              "2  1949-03          132\n",
              "3  1949-04          129\n",
              "4  1949-05          121"
            ]
          },
          "metadata": {
            "tags": []
          },
          "execution_count": 255
        }
      ]
    },
    {
      "cell_type": "code",
      "metadata": {
        "id": "h_tEu4mapWyq",
        "outputId": "9a312dc1-ccd3-456c-b988-22724f117a0d",
        "colab": {
          "base_uri": "https://localhost:8080/",
          "height": 167
        }
      },
      "source": [
        "data.info()"
      ],
      "execution_count": 256,
      "outputs": [
        {
          "output_type": "stream",
          "text": [
            "<class 'pandas.core.frame.DataFrame'>\n",
            "RangeIndex: 144 entries, 0 to 143\n",
            "Data columns (total 2 columns):\n",
            " #   Column       Non-Null Count  Dtype \n",
            "---  ------       --------------  ----- \n",
            " 0   Month        144 non-null    object\n",
            " 1   #Passengers  144 non-null    int64 \n",
            "dtypes: int64(1), object(1)\n",
            "memory usage: 2.4+ KB\n"
          ],
          "name": "stdout"
        }
      ]
    },
    {
      "cell_type": "code",
      "metadata": {
        "id": "4_0nfMpCpcng"
      },
      "source": [
        "data.columns=['Month','Passenger']"
      ],
      "execution_count": 257,
      "outputs": []
    },
    {
      "cell_type": "code",
      "metadata": {
        "id": "bMMTBbdmpw9u",
        "outputId": "69b0b28b-2f50-487b-b3f9-468956837d90",
        "colab": {
          "base_uri": "https://localhost:8080/",
          "height": 33
        }
      },
      "source": [
        "len(data)"
      ],
      "execution_count": 258,
      "outputs": [
        {
          "output_type": "execute_result",
          "data": {
            "text/plain": [
              "144"
            ]
          },
          "metadata": {
            "tags": []
          },
          "execution_count": 258
        }
      ]
    },
    {
      "cell_type": "code",
      "metadata": {
        "id": "NztI6rD7sHM6"
      },
      "source": [
        "aa=data[0:10]"
      ],
      "execution_count": 259,
      "outputs": []
    },
    {
      "cell_type": "code",
      "metadata": {
        "id": "6KIdXMBxsPCe",
        "outputId": "dca37d6c-91d4-4424-acf0-bd4f6240db35",
        "colab": {
          "base_uri": "https://localhost:8080/",
          "height": 345
        }
      },
      "source": [
        "aa"
      ],
      "execution_count": 260,
      "outputs": [
        {
          "output_type": "execute_result",
          "data": {
            "text/html": [
              "<div>\n",
              "<style scoped>\n",
              "    .dataframe tbody tr th:only-of-type {\n",
              "        vertical-align: middle;\n",
              "    }\n",
              "\n",
              "    .dataframe tbody tr th {\n",
              "        vertical-align: top;\n",
              "    }\n",
              "\n",
              "    .dataframe thead th {\n",
              "        text-align: right;\n",
              "    }\n",
              "</style>\n",
              "<table border=\"1\" class=\"dataframe\">\n",
              "  <thead>\n",
              "    <tr style=\"text-align: right;\">\n",
              "      <th></th>\n",
              "      <th>Month</th>\n",
              "      <th>Passenger</th>\n",
              "    </tr>\n",
              "  </thead>\n",
              "  <tbody>\n",
              "    <tr>\n",
              "      <th>0</th>\n",
              "      <td>1949-01</td>\n",
              "      <td>112</td>\n",
              "    </tr>\n",
              "    <tr>\n",
              "      <th>1</th>\n",
              "      <td>1949-02</td>\n",
              "      <td>118</td>\n",
              "    </tr>\n",
              "    <tr>\n",
              "      <th>2</th>\n",
              "      <td>1949-03</td>\n",
              "      <td>132</td>\n",
              "    </tr>\n",
              "    <tr>\n",
              "      <th>3</th>\n",
              "      <td>1949-04</td>\n",
              "      <td>129</td>\n",
              "    </tr>\n",
              "    <tr>\n",
              "      <th>4</th>\n",
              "      <td>1949-05</td>\n",
              "      <td>121</td>\n",
              "    </tr>\n",
              "    <tr>\n",
              "      <th>5</th>\n",
              "      <td>1949-06</td>\n",
              "      <td>135</td>\n",
              "    </tr>\n",
              "    <tr>\n",
              "      <th>6</th>\n",
              "      <td>1949-07</td>\n",
              "      <td>148</td>\n",
              "    </tr>\n",
              "    <tr>\n",
              "      <th>7</th>\n",
              "      <td>1949-08</td>\n",
              "      <td>148</td>\n",
              "    </tr>\n",
              "    <tr>\n",
              "      <th>8</th>\n",
              "      <td>1949-09</td>\n",
              "      <td>136</td>\n",
              "    </tr>\n",
              "    <tr>\n",
              "      <th>9</th>\n",
              "      <td>1949-10</td>\n",
              "      <td>119</td>\n",
              "    </tr>\n",
              "  </tbody>\n",
              "</table>\n",
              "</div>"
            ],
            "text/plain": [
              "     Month  Passenger\n",
              "0  1949-01        112\n",
              "1  1949-02        118\n",
              "2  1949-03        132\n",
              "3  1949-04        129\n",
              "4  1949-05        121\n",
              "5  1949-06        135\n",
              "6  1949-07        148\n",
              "7  1949-08        148\n",
              "8  1949-09        136\n",
              "9  1949-10        119"
            ]
          },
          "metadata": {
            "tags": []
          },
          "execution_count": 260
        }
      ]
    },
    {
      "cell_type": "code",
      "metadata": {
        "id": "azeieHB9pyRY",
        "outputId": "e5c877e3-3c0f-4ecf-8cc0-9084e0922166",
        "colab": {
          "base_uri": "https://localhost:8080/",
          "height": 281
        }
      },
      "source": [
        "data.Passenger.plot()"
      ],
      "execution_count": 261,
      "outputs": [
        {
          "output_type": "execute_result",
          "data": {
            "text/plain": [
              "<matplotlib.axes._subplots.AxesSubplot at 0x7f54072d3ba8>"
            ]
          },
          "metadata": {
            "tags": []
          },
          "execution_count": 261
        },
        {
          "output_type": "display_data",
          "data": {
            "image/png": "[encoded data removed]",
            "text/plain": [
              "<Figure size 432x288 with 1 Axes>"
            ]
          },
          "metadata": {
            "tags": [],
            "needs_background": "light"
          }
        }
      ]
    },
    {
      "cell_type": "code",
      "metadata": {
        "id": "JOMRVyHHp4T_"
      },
      "source": [
        "data=np.array(data.Passenger).reshape(-1,1)"
      ],
      "execution_count": 262,
      "outputs": []
    },
    {
      "cell_type": "code",
      "metadata": {
        "id": "jlmMU_DoqNcP",
        "outputId": "d6ceaf8a-0b07-46e6-b5a3-8922956826e5",
        "colab": {
          "base_uri": "https://localhost:8080/",
          "height": 100
        }
      },
      "source": [
        "data[:5]"
      ],
      "execution_count": 263,
      "outputs": [
        {
          "output_type": "execute_result",
          "data": {
            "text/plain": [
              "array([[112],\n",
              "       [118],\n",
              "       [132],\n",
              "       [129],\n",
              "       [121]])"
            ]
          },
          "metadata": {
            "tags": []
          },
          "execution_count": 263
        }
      ]
    },
    {
      "cell_type": "code",
      "metadata": {
        "id": "jCnTBZX1qO8A",
        "outputId": "c446caac-1084-47b2-ab3e-031c36dc1c90",
        "colab": {
          "base_uri": "https://localhost:8080/",
          "height": 100
        }
      },
      "source": [
        "data[:5]"
      ],
      "execution_count": 264,
      "outputs": [
        {
          "output_type": "execute_result",
          "data": {
            "text/plain": [
              "array([[112],\n",
              "       [118],\n",
              "       [132],\n",
              "       [129],\n",
              "       [121]])"
            ]
          },
          "metadata": {
            "tags": []
          },
          "execution_count": 264
        }
      ]
    },
    {
      "cell_type": "code",
      "metadata": {
        "id": "6_AJnrQWqRAd",
        "outputId": "898287ce-e57e-4cf8-f5d4-35c16028a7e4",
        "colab": {
          "base_uri": "https://localhost:8080/",
          "height": 281
        }
      },
      "source": [
        "plt.plot(data)"
      ],
      "execution_count": 265,
      "outputs": [
        {
          "output_type": "execute_result",
          "data": {
            "text/plain": [
              "[<matplotlib.lines.Line2D at 0x7f540725d4e0>]"
            ]
          },
          "metadata": {
            "tags": []
          },
          "execution_count": 265
        },
        {
          "output_type": "display_data",
          "data": {
            "image/png": "[encoded data removed]",
            "text/plain": [
              "<Figure size 432x288 with 1 Axes>"
            ]
          },
          "metadata": {
            "tags": [],
            "needs_background": "light"
          }
        }
      ]
    },
    {
      "cell_type": "code",
      "metadata": {
        "id": "XIU7uypyq6eB"
      },
      "source": [
        "scaler=MinMaxScaler()\n",
        "data=scaler.fit_transform(data)"
      ],
      "execution_count": 266,
      "outputs": []
    },
    {
      "cell_type": "code",
      "metadata": {
        "id": "0yBXfrYarVYs",
        "outputId": "298500a9-96ff-4c40-9f2b-9ed8b70ac184",
        "colab": {
          "base_uri": "https://localhost:8080/",
          "height": 67
        }
      },
      "source": [
        "data[:3]"
      ],
      "execution_count": 267,
      "outputs": [
        {
          "output_type": "execute_result",
          "data": {
            "text/plain": [
              "array([[0.01544402],\n",
              "       [0.02702703],\n",
              "       [0.05405405]])"
            ]
          },
          "metadata": {
            "tags": []
          },
          "execution_count": 267
        }
      ]
    },
    {
      "cell_type": "code",
      "metadata": {
        "id": "_GC3ZVN9rXQ6",
        "outputId": "4457678f-032d-451c-abea-7eb83e191bce",
        "colab": {
          "base_uri": "https://localhost:8080/",
          "height": 33
        }
      },
      "source": [
        "data.min(),data.max()"
      ],
      "execution_count": 268,
      "outputs": [
        {
          "output_type": "execute_result",
          "data": {
            "text/plain": [
              "(0.0, 1.0)"
            ]
          },
          "metadata": {
            "tags": []
          },
          "execution_count": 268
        }
      ]
    },
    {
      "cell_type": "code",
      "metadata": {
        "id": "Fbf9FrJnre4L"
      },
      "source": [
        "train_size = 100\n",
        "test_size = 44\n",
        "\n",
        "x_train=data[0:train_size]\n",
        "x_test=data[train_size:]"
      ],
      "execution_count": 269,
      "outputs": []
    },
    {
      "cell_type": "code",
      "metadata": {
        "id": "-AlrvtTL8X1n"
      },
      "source": [
        ""
      ],
      "execution_count": 269,
      "outputs": []
    },
    {
      "cell_type": "code",
      "metadata": {
        "id": "33HkPnKM8S92"
      },
      "source": [
        ""
      ],
      "execution_count": 269,
      "outputs": []
    },
    {
      "cell_type": "code",
      "metadata": {
        "id": "ZQNbL8Ensc_S",
        "outputId": "aefd1849-75d4-4796-a5f9-3043600accad",
        "colab": {
          "base_uri": "https://localhost:8080/",
          "height": 33
        }
      },
      "source": [
        "len(x_train),x_test.shape,x_train.shape"
      ],
      "execution_count": 270,
      "outputs": [
        {
          "output_type": "execute_result",
          "data": {
            "text/plain": [
              "(100, (44, 1), (100, 1))"
            ]
          },
          "metadata": {
            "tags": []
          },
          "execution_count": 270
        }
      ]
    },
    {
      "cell_type": "code",
      "metadata": {
        "id": "YM-VGKxP6qkL",
        "outputId": "f202faaf-0745-496d-c513-69a4cc3aee4e",
        "colab": {
          "base_uri": "https://localhost:8080/",
          "height": 33
        }
      },
      "source": [
        "x_train[1,0],x_train[2,0]"
      ],
      "execution_count": 271,
      "outputs": [
        {
          "output_type": "execute_result",
          "data": {
            "text/plain": [
              "(0.02702702702702703, 0.05405405405405403)"
            ]
          },
          "metadata": {
            "tags": []
          },
          "execution_count": 271
        }
      ]
    },
    {
      "cell_type": "code",
      "metadata": {
        "id": "HV2WGkplse5P",
        "outputId": "596a7ca4-63e5-49dd-88b8-d1ddb530bf5b",
        "colab": {
          "base_uri": "https://localhost:8080/",
          "height": 736
        }
      },
      "source": [
        "y_test"
      ],
      "execution_count": 272,
      "outputs": [
        {
          "output_type": "execute_result",
          "data": {
            "text/plain": [
              "array([[0.61389961],\n",
              "       [0.6969112 ],\n",
              "       [0.7007722 ],\n",
              "       [0.57915058],\n",
              "       [0.46911197],\n",
              "       [0.38803089],\n",
              "       [0.44787645],\n",
              "       [0.45559846],\n",
              "       [0.41312741],\n",
              "       [0.4980695 ],\n",
              "       [0.47104247],\n",
              "       [0.5       ],\n",
              "       [0.63899614],\n",
              "       [0.74710425],\n",
              "       [0.77413127],\n",
              "       [0.57915058],\n",
              "       [0.49227799],\n",
              "       [0.3976834 ],\n",
              "       [0.44980695],\n",
              "       [0.49420849],\n",
              "       [0.45945946],\n",
              "       [0.58301158],\n",
              "       [0.56370656],\n",
              "       [0.61003861],\n",
              "       [0.71042471],\n",
              "       [0.85714286],\n",
              "       [0.87837838],\n",
              "       [0.69305019],\n",
              "       [0.58494208],\n",
              "       [0.4980695 ],\n",
              "       [0.58108108],\n",
              "       [0.6042471 ],\n",
              "       [0.55405405],\n",
              "       [0.60810811],\n",
              "       [0.68918919],\n",
              "       [0.71042471],\n",
              "       [0.83204633],\n",
              "       [1.        ],\n",
              "       [0.96911197],\n",
              "       [0.77992278],\n",
              "       [0.68918919],\n",
              "       [0.55212355],\n",
              "       [0.63320463]])"
            ]
          },
          "metadata": {
            "tags": []
          },
          "execution_count": 272
        }
      ]
    },
    {
      "cell_type": "code",
      "metadata": {
        "id": "nVXYIcGzsosn"
      },
      "source": [
        "aa=[]\n",
        "def get_data(dataset, look_back):\n",
        "    dataX, dataY = [], []\n",
        "    aa=len(dataset)\n",
        "    \n",
        "    for i in range(len(dataset)-look_back-1):\n",
        "        \n",
        "        a = dataset[i:(i+look_back), 0]\n",
        "        dataX.append(a)\n",
        "        print(i,i+1)\n",
        "        dataY.append(dataset[i+look_back, 0])\n",
        "      \n",
        "    \n",
        "    return np.array(dataX), np.array(dataY)\n"
      ],
      "execution_count": 292,
      "outputs": []
    },
    {
      "cell_type": "markdown",
      "metadata": {
        "id": "kJf1MoZlvJvJ"
      },
      "source": [
        ""
      ]
    },
    {
      "cell_type": "code",
      "metadata": {
        "id": "-8bbWyYztdaU"
      },
      "source": [
        ""
      ],
      "execution_count": 292,
      "outputs": []
    },
    {
      "cell_type": "code",
      "metadata": {
        "id": "5lPB4dCk6awa",
        "outputId": "8687be92-232a-4ff6-9363-21c6e45959e1",
        "colab": {
          "base_uri": "https://localhost:8080/",
          "height": 1000
        }
      },
      "source": [
        "x_train"
      ],
      "execution_count": 293,
      "outputs": [
        {
          "output_type": "execute_result",
          "data": {
            "text/plain": [
              "array([[[0.01544402]],\n",
              "\n",
              "       [[0.02702703]],\n",
              "\n",
              "       [[0.05405405]],\n",
              "\n",
              "       [[0.04826255]],\n",
              "\n",
              "       [[0.03281853]],\n",
              "\n",
              "       [[0.05984556]],\n",
              "\n",
              "       [[0.08494208]],\n",
              "\n",
              "       [[0.08494208]],\n",
              "\n",
              "       [[0.06177606]],\n",
              "\n",
              "       [[0.02895753]],\n",
              "\n",
              "       [[0.        ]],\n",
              "\n",
              "       [[0.02702703]],\n",
              "\n",
              "       [[0.02123552]],\n",
              "\n",
              "       [[0.04247104]],\n",
              "\n",
              "       [[0.07142857]],\n",
              "\n",
              "       [[0.05984556]],\n",
              "\n",
              "       [[0.04054054]],\n",
              "\n",
              "       [[0.08687259]],\n",
              "\n",
              "       [[0.12741313]],\n",
              "\n",
              "       [[0.12741313]],\n",
              "\n",
              "       [[0.1042471 ]],\n",
              "\n",
              "       [[0.05598456]],\n",
              "\n",
              "       [[0.01930502]],\n",
              "\n",
              "       [[0.06949807]],\n",
              "\n",
              "       [[0.07915058]],\n",
              "\n",
              "       [[0.08880309]],\n",
              "\n",
              "       [[0.14285714]],\n",
              "\n",
              "       [[0.11389961]],\n",
              "\n",
              "       [[0.13127413]],\n",
              "\n",
              "       [[0.14285714]],\n",
              "\n",
              "       [[0.18339768]],\n",
              "\n",
              "       [[0.18339768]],\n",
              "\n",
              "       [[0.15444015]],\n",
              "\n",
              "       [[0.11196911]],\n",
              "\n",
              "       [[0.08108108]],\n",
              "\n",
              "       [[0.11969112]],\n",
              "\n",
              "       [[0.12934363]],\n",
              "\n",
              "       [[0.14671815]],\n",
              "\n",
              "       [[0.17181467]],\n",
              "\n",
              "       [[0.14864865]],\n",
              "\n",
              "       [[0.15250965]],\n",
              "\n",
              "       [[0.22007722]],\n",
              "\n",
              "       [[0.24324324]],\n",
              "\n",
              "       [[0.26640927]],\n",
              "\n",
              "       [[0.2027027 ]],\n",
              "\n",
              "       [[0.16795367]],\n",
              "\n",
              "       [[0.13127413]],\n",
              "\n",
              "       [[0.17374517]],\n",
              "\n",
              "       [[0.17760618]],\n",
              "\n",
              "       [[0.17760618]],\n",
              "\n",
              "       [[0.25482625]],\n",
              "\n",
              "       [[0.25289575]],\n",
              "\n",
              "       [[0.24131274]],\n",
              "\n",
              "       [[0.26833977]],\n",
              "\n",
              "       [[0.30888031]],\n",
              "\n",
              "       [[0.32432432]],\n",
              "\n",
              "       [[0.25675676]],\n",
              "\n",
              "       [[0.20656371]],\n",
              "\n",
              "       [[0.14671815]],\n",
              "\n",
              "       [[0.18725869]],\n",
              "\n",
              "       [[0.19305019]],\n",
              "\n",
              "       [[0.16216216]],\n",
              "\n",
              "       [[0.25289575]],\n",
              "\n",
              "       [[0.23745174]],\n",
              "\n",
              "       [[0.25096525]],\n",
              "\n",
              "       [[0.30888031]],\n",
              "\n",
              "       [[0.38223938]],\n",
              "\n",
              "       [[0.36486486]],\n",
              "\n",
              "       [[0.2992278 ]],\n",
              "\n",
              "       [[0.24131274]],\n",
              "\n",
              "       [[0.19111969]],\n",
              "\n",
              "       [[0.24131274]],\n",
              "\n",
              "       [[0.26640927]],\n",
              "\n",
              "       [[0.24903475]],\n",
              "\n",
              "       [[0.31467181]],\n",
              "\n",
              "       [[0.31853282]],\n",
              "\n",
              "       [[0.32046332]],\n",
              "\n",
              "       [[0.40733591]],\n",
              "\n",
              "       [[0.5019305 ]],\n",
              "\n",
              "       [[0.46911197]],\n",
              "\n",
              "       [[0.4015444 ]],\n",
              "\n",
              "       [[0.32818533]],\n",
              "\n",
              "       [[0.25675676]],\n",
              "\n",
              "       [[0.33590734]],\n",
              "\n",
              "       [[0.34749035]],\n",
              "\n",
              "       [[0.33397683]],\n",
              "\n",
              "       [[0.41119691]],\n",
              "\n",
              "       [[0.4034749 ]],\n",
              "\n",
              "       [[0.41312741]],\n",
              "\n",
              "       [[0.52123552]],\n",
              "\n",
              "       [[0.5965251 ]],\n",
              "\n",
              "       [[0.58108108]],\n",
              "\n",
              "       [[0.48455598]],\n",
              "\n",
              "       [[0.38996139]],\n",
              "\n",
              "       [[0.32239382]],\n",
              "\n",
              "       [[0.38996139]],\n",
              "\n",
              "       [[0.40733591]],\n",
              "\n",
              "       [[0.38030888]],\n",
              "\n",
              "       [[0.48648649]]])"
            ]
          },
          "metadata": {
            "tags": []
          },
          "execution_count": 293
        }
      ]
    },
    {
      "cell_type": "code",
      "metadata": {
        "id": "FT7lVb3-tD_h",
        "outputId": "93771c56-5387-4c8e-dc9d-293971e57cdc",
        "colab": {
          "base_uri": "https://localhost:8080/",
          "height": 1000
        }
      },
      "source": [
        "x_train,y_train=get_data(x_train,1)"
      ],
      "execution_count": 294,
      "outputs": [
        {
          "output_type": "stream",
          "text": [
            "0 1\n",
            "1 2\n",
            "2 3\n",
            "3 4\n",
            "4 5\n",
            "5 6\n",
            "6 7\n",
            "7 8\n",
            "8 9\n",
            "9 10\n",
            "10 11\n",
            "11 12\n",
            "12 13\n",
            "13 14\n",
            "14 15\n",
            "15 16\n",
            "16 17\n",
            "17 18\n",
            "18 19\n",
            "19 20\n",
            "20 21\n",
            "21 22\n",
            "22 23\n",
            "23 24\n",
            "24 25\n",
            "25 26\n",
            "26 27\n",
            "27 28\n",
            "28 29\n",
            "29 30\n",
            "30 31\n",
            "31 32\n",
            "32 33\n",
            "33 34\n",
            "34 35\n",
            "35 36\n",
            "36 37\n",
            "37 38\n",
            "38 39\n",
            "39 40\n",
            "40 41\n",
            "41 42\n",
            "42 43\n",
            "43 44\n",
            "44 45\n",
            "45 46\n",
            "46 47\n",
            "47 48\n",
            "48 49\n",
            "49 50\n",
            "50 51\n",
            "51 52\n",
            "52 53\n",
            "53 54\n",
            "54 55\n",
            "55 56\n",
            "56 57\n",
            "57 58\n",
            "58 59\n",
            "59 60\n",
            "60 61\n",
            "61 62\n",
            "62 63\n",
            "63 64\n",
            "64 65\n",
            "65 66\n",
            "66 67\n",
            "67 68\n",
            "68 69\n",
            "69 70\n",
            "70 71\n",
            "71 72\n",
            "72 73\n",
            "73 74\n",
            "74 75\n",
            "75 76\n",
            "76 77\n",
            "77 78\n",
            "78 79\n",
            "79 80\n",
            "80 81\n",
            "81 82\n",
            "82 83\n",
            "83 84\n",
            "84 85\n",
            "85 86\n",
            "86 87\n",
            "87 88\n",
            "88 89\n",
            "89 90\n",
            "90 91\n",
            "91 92\n",
            "92 93\n",
            "93 94\n",
            "94 95\n",
            "95 96\n",
            "96 97\n"
          ],
          "name": "stdout"
        }
      ]
    },
    {
      "cell_type": "code",
      "metadata": {
        "id": "mqD8sEDNvLlW",
        "outputId": "c3b6efd9-8910-4ed7-ad3a-a7b34da4e101",
        "colab": {
          "base_uri": "https://localhost:8080/",
          "height": 702
        }
      },
      "source": [
        "x_test,y_test=get_data(x_test,1)"
      ],
      "execution_count": 295,
      "outputs": [
        {
          "output_type": "stream",
          "text": [
            "0 1\n",
            "1 2\n",
            "2 3\n",
            "3 4\n",
            "4 5\n",
            "5 6\n",
            "6 7\n",
            "7 8\n",
            "8 9\n",
            "9 10\n",
            "10 11\n",
            "11 12\n",
            "12 13\n",
            "13 14\n",
            "14 15\n",
            "15 16\n",
            "16 17\n",
            "17 18\n",
            "18 19\n",
            "19 20\n",
            "20 21\n",
            "21 22\n",
            "22 23\n",
            "23 24\n",
            "24 25\n",
            "25 26\n",
            "26 27\n",
            "27 28\n",
            "28 29\n",
            "29 30\n",
            "30 31\n",
            "31 32\n",
            "32 33\n",
            "33 34\n",
            "34 35\n",
            "35 36\n",
            "36 37\n",
            "37 38\n",
            "38 39\n",
            "39 40\n",
            "40 41\n"
          ],
          "name": "stdout"
        }
      ]
    },
    {
      "cell_type": "code",
      "metadata": {
        "id": "JX7NQNxv0Du9",
        "outputId": "665d61c9-321b-4bc2-9b43-13211d202205",
        "colab": {
          "base_uri": "https://localhost:8080/",
          "height": 702
        }
      },
      "source": [
        "y_test"
      ],
      "execution_count": 296,
      "outputs": [
        {
          "output_type": "execute_result",
          "data": {
            "text/plain": [
              "array([[0.61389961],\n",
              "       [0.6969112 ],\n",
              "       [0.7007722 ],\n",
              "       [0.57915058],\n",
              "       [0.46911197],\n",
              "       [0.38803089],\n",
              "       [0.44787645],\n",
              "       [0.45559846],\n",
              "       [0.41312741],\n",
              "       [0.4980695 ],\n",
              "       [0.47104247],\n",
              "       [0.5       ],\n",
              "       [0.63899614],\n",
              "       [0.74710425],\n",
              "       [0.77413127],\n",
              "       [0.57915058],\n",
              "       [0.49227799],\n",
              "       [0.3976834 ],\n",
              "       [0.44980695],\n",
              "       [0.49420849],\n",
              "       [0.45945946],\n",
              "       [0.58301158],\n",
              "       [0.56370656],\n",
              "       [0.61003861],\n",
              "       [0.71042471],\n",
              "       [0.85714286],\n",
              "       [0.87837838],\n",
              "       [0.69305019],\n",
              "       [0.58494208],\n",
              "       [0.4980695 ],\n",
              "       [0.58108108],\n",
              "       [0.6042471 ],\n",
              "       [0.55405405],\n",
              "       [0.60810811],\n",
              "       [0.68918919],\n",
              "       [0.71042471],\n",
              "       [0.83204633],\n",
              "       [1.        ],\n",
              "       [0.96911197],\n",
              "       [0.77992278],\n",
              "       [0.68918919]])"
            ]
          },
          "metadata": {
            "tags": []
          },
          "execution_count": 296
        }
      ]
    },
    {
      "cell_type": "code",
      "metadata": {
        "id": "J5rW5Fa5t8Fu",
        "outputId": "68a5a652-7284-40e1-c05d-18142380dd54",
        "colab": {
          "base_uri": "https://localhost:8080/",
          "height": 33
        }
      },
      "source": [
        "len(x_train),len(x_test)"
      ],
      "execution_count": 297,
      "outputs": [
        {
          "output_type": "execute_result",
          "data": {
            "text/plain": [
              "(97, 41)"
            ]
          },
          "metadata": {
            "tags": []
          },
          "execution_count": 297
        }
      ]
    },
    {
      "cell_type": "code",
      "metadata": {
        "id": "g4dSVon7vPbD",
        "outputId": "19aa2b7f-f23d-4e7a-e367-acc6eaf0b264",
        "colab": {
          "base_uri": "https://localhost:8080/",
          "height": 33
        }
      },
      "source": [
        "x_train.shape,x_test.shape"
      ],
      "execution_count": 298,
      "outputs": [
        {
          "output_type": "execute_result",
          "data": {
            "text/plain": [
              "((97, 1, 1), (41, 1, 1))"
            ]
          },
          "metadata": {
            "tags": []
          },
          "execution_count": 298
        }
      ]
    },
    {
      "cell_type": "code",
      "metadata": {
        "id": "nccNZFbUwB3z",
        "outputId": "ed12dd4a-b455-4664-c2b5-fecdf18ed114",
        "colab": {
          "base_uri": "https://localhost:8080/",
          "height": 702
        }
      },
      "source": [
        "y_test"
      ],
      "execution_count": 299,
      "outputs": [
        {
          "output_type": "execute_result",
          "data": {
            "text/plain": [
              "array([[0.61389961],\n",
              "       [0.6969112 ],\n",
              "       [0.7007722 ],\n",
              "       [0.57915058],\n",
              "       [0.46911197],\n",
              "       [0.38803089],\n",
              "       [0.44787645],\n",
              "       [0.45559846],\n",
              "       [0.41312741],\n",
              "       [0.4980695 ],\n",
              "       [0.47104247],\n",
              "       [0.5       ],\n",
              "       [0.63899614],\n",
              "       [0.74710425],\n",
              "       [0.77413127],\n",
              "       [0.57915058],\n",
              "       [0.49227799],\n",
              "       [0.3976834 ],\n",
              "       [0.44980695],\n",
              "       [0.49420849],\n",
              "       [0.45945946],\n",
              "       [0.58301158],\n",
              "       [0.56370656],\n",
              "       [0.61003861],\n",
              "       [0.71042471],\n",
              "       [0.85714286],\n",
              "       [0.87837838],\n",
              "       [0.69305019],\n",
              "       [0.58494208],\n",
              "       [0.4980695 ],\n",
              "       [0.58108108],\n",
              "       [0.6042471 ],\n",
              "       [0.55405405],\n",
              "       [0.60810811],\n",
              "       [0.68918919],\n",
              "       [0.71042471],\n",
              "       [0.83204633],\n",
              "       [1.        ],\n",
              "       [0.96911197],\n",
              "       [0.77992278],\n",
              "       [0.68918919]])"
            ]
          },
          "metadata": {
            "tags": []
          },
          "execution_count": 299
        }
      ]
    },
    {
      "cell_type": "code",
      "metadata": {
        "id": "lEDFKoaQ0Sz-"
      },
      "source": [
        "x_train=x_train.reshape(x_train.shape[0],x_train.shape[1],1)"
      ],
      "execution_count": 300,
      "outputs": []
    },
    {
      "cell_type": "code",
      "metadata": {
        "id": "ZGLl3IAe1y6m",
        "outputId": "59873ef0-36df-4f9b-97ef-33d549062b82",
        "colab": {
          "base_uri": "https://localhost:8080/",
          "height": 33
        }
      },
      "source": [
        "x_train.shape"
      ],
      "execution_count": 301,
      "outputs": [
        {
          "output_type": "execute_result",
          "data": {
            "text/plain": [
              "(97, 1, 1)"
            ]
          },
          "metadata": {
            "tags": []
          },
          "execution_count": 301
        }
      ]
    },
    {
      "cell_type": "code",
      "metadata": {
        "id": "WhNJ3W8215fv"
      },
      "source": [
        "x_test=x_test.reshape(x_test.shape[0],x_test.shape[1],1)"
      ],
      "execution_count": 302,
      "outputs": []
    },
    {
      "cell_type": "code",
      "metadata": {
        "id": "_1u8Trd42J3u"
      },
      "source": [
        "x_test.shape\n",
        "look_back=1"
      ],
      "execution_count": 303,
      "outputs": []
    },
    {
      "cell_type": "code",
      "metadata": {
        "id": "ENrXJUxQ6KM1",
        "outputId": "0ea6a38f-4424-4de2-8d90-a27394c2dc8e",
        "colab": {
          "base_uri": "https://localhost:8080/",
          "height": 702
        }
      },
      "source": [
        "y_test"
      ],
      "execution_count": 304,
      "outputs": [
        {
          "output_type": "execute_result",
          "data": {
            "text/plain": [
              "array([[0.61389961],\n",
              "       [0.6969112 ],\n",
              "       [0.7007722 ],\n",
              "       [0.57915058],\n",
              "       [0.46911197],\n",
              "       [0.38803089],\n",
              "       [0.44787645],\n",
              "       [0.45559846],\n",
              "       [0.41312741],\n",
              "       [0.4980695 ],\n",
              "       [0.47104247],\n",
              "       [0.5       ],\n",
              "       [0.63899614],\n",
              "       [0.74710425],\n",
              "       [0.77413127],\n",
              "       [0.57915058],\n",
              "       [0.49227799],\n",
              "       [0.3976834 ],\n",
              "       [0.44980695],\n",
              "       [0.49420849],\n",
              "       [0.45945946],\n",
              "       [0.58301158],\n",
              "       [0.56370656],\n",
              "       [0.61003861],\n",
              "       [0.71042471],\n",
              "       [0.85714286],\n",
              "       [0.87837838],\n",
              "       [0.69305019],\n",
              "       [0.58494208],\n",
              "       [0.4980695 ],\n",
              "       [0.58108108],\n",
              "       [0.6042471 ],\n",
              "       [0.55405405],\n",
              "       [0.60810811],\n",
              "       [0.68918919],\n",
              "       [0.71042471],\n",
              "       [0.83204633],\n",
              "       [1.        ],\n",
              "       [0.96911197],\n",
              "       [0.77992278],\n",
              "       [0.68918919]])"
            ]
          },
          "metadata": {
            "tags": []
          },
          "execution_count": 304
        }
      ]
    },
    {
      "cell_type": "code",
      "metadata": {
        "id": "-nOdEK_12Rvt"
      },
      "source": [
        "model = Sequential()\n",
        "model.add(LSTM(5, input_shape = (1, look_back)))\n",
        "model.add(Dense(1))\n",
        "model.compile(loss = 'mean_squared_error', optimizer = 'adam',metrics=['accuracy'])"
      ],
      "execution_count": 305,
      "outputs": []
    },
    {
      "cell_type": "code",
      "metadata": {
        "id": "jne2uq6K28z6",
        "outputId": "f6c2f557-a2e4-479b-b239-5d6ae0f530e2",
        "colab": {
          "base_uri": "https://localhost:8080/",
          "height": 1000
        }
      },
      "source": [
        "history=model.fit(x_train, y_train, epochs=50, batch_size=1,validation_data=(x_test,y_test),)"
      ],
      "execution_count": 306,
      "outputs": [
        {
          "output_type": "stream",
          "text": [
            "Epoch 1/50\n",
            "97/97 [==============================] - 1s 5ms/step - loss: 0.0309 - accuracy: 0.0103 - val_loss: 0.1601 - val_accuracy: 0.0000e+00\n",
            "Epoch 2/50\n",
            "97/97 [==============================] - 0s 2ms/step - loss: 0.0128 - accuracy: 0.0103 - val_loss: 0.0978 - val_accuracy: 0.0000e+00\n",
            "Epoch 3/50\n",
            "97/97 [==============================] - 0s 2ms/step - loss: 0.0102 - accuracy: 0.0103 - val_loss: 0.0776 - val_accuracy: 0.0000e+00\n",
            "Epoch 4/50\n",
            "97/97 [==============================] - 0s 2ms/step - loss: 0.0091 - accuracy: 0.0103 - val_loss: 0.0656 - val_accuracy: 0.0000e+00\n",
            "Epoch 5/50\n",
            "97/97 [==============================] - 0s 2ms/step - loss: 0.0081 - accuracy: 0.0103 - val_loss: 0.0564 - val_accuracy: 0.0244\n",
            "Epoch 6/50\n",
            "97/97 [==============================] - 0s 2ms/step - loss: 0.0072 - accuracy: 0.0103 - val_loss: 0.0455 - val_accuracy: 0.0244\n",
            "Epoch 7/50\n",
            "97/97 [==============================] - 0s 2ms/step - loss: 0.0062 - accuracy: 0.0103 - val_loss: 0.0369 - val_accuracy: 0.0244\n",
            "Epoch 8/50\n",
            "97/97 [==============================] - 0s 2ms/step - loss: 0.0053 - accuracy: 0.0103 - val_loss: 0.0360 - val_accuracy: 0.0244\n",
            "Epoch 9/50\n",
            "97/97 [==============================] - 0s 2ms/step - loss: 0.0046 - accuracy: 0.0103 - val_loss: 0.0291 - val_accuracy: 0.0244\n",
            "Epoch 10/50\n",
            "97/97 [==============================] - 0s 2ms/step - loss: 0.0039 - accuracy: 0.0103 - val_loss: 0.0231 - val_accuracy: 0.0244\n",
            "Epoch 11/50\n",
            "97/97 [==============================] - 0s 2ms/step - loss: 0.0034 - accuracy: 0.0103 - val_loss: 0.0188 - val_accuracy: 0.0244\n",
            "Epoch 12/50\n",
            "97/97 [==============================] - 0s 2ms/step - loss: 0.0030 - accuracy: 0.0103 - val_loss: 0.0147 - val_accuracy: 0.0244\n",
            "Epoch 13/50\n",
            "97/97 [==============================] - 0s 2ms/step - loss: 0.0027 - accuracy: 0.0103 - val_loss: 0.0137 - val_accuracy: 0.0244\n",
            "Epoch 14/50\n",
            "97/97 [==============================] - 0s 2ms/step - loss: 0.0024 - accuracy: 0.0103 - val_loss: 0.0102 - val_accuracy: 0.0244\n",
            "Epoch 15/50\n",
            "97/97 [==============================] - 0s 2ms/step - loss: 0.0023 - accuracy: 0.0103 - val_loss: 0.0096 - val_accuracy: 0.0244\n",
            "Epoch 16/50\n",
            "97/97 [==============================] - 0s 2ms/step - loss: 0.0022 - accuracy: 0.0103 - val_loss: 0.0093 - val_accuracy: 0.0244\n",
            "Epoch 17/50\n",
            "97/97 [==============================] - 0s 2ms/step - loss: 0.0022 - accuracy: 0.0103 - val_loss: 0.0095 - val_accuracy: 0.0244\n",
            "Epoch 18/50\n",
            "97/97 [==============================] - 0s 2ms/step - loss: 0.0021 - accuracy: 0.0103 - val_loss: 0.0099 - val_accuracy: 0.0244\n",
            "Epoch 19/50\n",
            "97/97 [==============================] - 0s 2ms/step - loss: 0.0022 - accuracy: 0.0103 - val_loss: 0.0094 - val_accuracy: 0.0244\n",
            "Epoch 20/50\n",
            "97/97 [==============================] - 0s 2ms/step - loss: 0.0021 - accuracy: 0.0103 - val_loss: 0.0096 - val_accuracy: 0.0244\n",
            "Epoch 21/50\n",
            "97/97 [==============================] - 0s 2ms/step - loss: 0.0020 - accuracy: 0.0103 - val_loss: 0.0096 - val_accuracy: 0.0244\n",
            "Epoch 22/50\n",
            "97/97 [==============================] - 0s 2ms/step - loss: 0.0021 - accuracy: 0.0103 - val_loss: 0.0095 - val_accuracy: 0.0244\n",
            "Epoch 23/50\n",
            "97/97 [==============================] - 0s 2ms/step - loss: 0.0019 - accuracy: 0.0103 - val_loss: 0.0105 - val_accuracy: 0.0244\n",
            "Epoch 24/50\n",
            "97/97 [==============================] - 0s 2ms/step - loss: 0.0022 - accuracy: 0.0103 - val_loss: 0.0096 - val_accuracy: 0.0244\n",
            "Epoch 25/50\n",
            "97/97 [==============================] - 0s 2ms/step - loss: 0.0021 - accuracy: 0.0103 - val_loss: 0.0095 - val_accuracy: 0.0244\n",
            "Epoch 26/50\n",
            "97/97 [==============================] - 0s 2ms/step - loss: 0.0021 - accuracy: 0.0103 - val_loss: 0.0095 - val_accuracy: 0.0244\n",
            "Epoch 27/50\n",
            "97/97 [==============================] - 0s 2ms/step - loss: 0.0021 - accuracy: 0.0103 - val_loss: 0.0096 - val_accuracy: 0.0244\n",
            "Epoch 28/50\n",
            "97/97 [==============================] - 0s 2ms/step - loss: 0.0020 - accuracy: 0.0103 - val_loss: 0.0097 - val_accuracy: 0.0244\n",
            "Epoch 29/50\n",
            "97/97 [==============================] - 0s 2ms/step - loss: 0.0021 - accuracy: 0.0103 - val_loss: 0.0095 - val_accuracy: 0.0244\n",
            "Epoch 30/50\n",
            "97/97 [==============================] - 0s 2ms/step - loss: 0.0021 - accuracy: 0.0103 - val_loss: 0.0095 - val_accuracy: 0.0244\n",
            "Epoch 31/50\n",
            "97/97 [==============================] - 0s 2ms/step - loss: 0.0021 - accuracy: 0.0103 - val_loss: 0.0095 - val_accuracy: 0.0244\n",
            "Epoch 32/50\n",
            "97/97 [==============================] - 0s 2ms/step - loss: 0.0021 - accuracy: 0.0103 - val_loss: 0.0094 - val_accuracy: 0.0244\n",
            "Epoch 33/50\n",
            "97/97 [==============================] - 0s 2ms/step - loss: 0.0021 - accuracy: 0.0103 - val_loss: 0.0095 - val_accuracy: 0.0244\n",
            "Epoch 34/50\n",
            "97/97 [==============================] - 0s 2ms/step - loss: 0.0020 - accuracy: 0.0103 - val_loss: 0.0094 - val_accuracy: 0.0244\n",
            "Epoch 35/50\n",
            "97/97 [==============================] - 0s 2ms/step - loss: 0.0021 - accuracy: 0.0103 - val_loss: 0.0094 - val_accuracy: 0.0244\n",
            "Epoch 36/50\n",
            "97/97 [==============================] - 0s 2ms/step - loss: 0.0021 - accuracy: 0.0103 - val_loss: 0.0097 - val_accuracy: 0.0244\n",
            "Epoch 37/50\n",
            "97/97 [==============================] - 0s 2ms/step - loss: 0.0021 - accuracy: 0.0103 - val_loss: 0.0097 - val_accuracy: 0.0244\n",
            "Epoch 38/50\n",
            "97/97 [==============================] - 0s 2ms/step - loss: 0.0022 - accuracy: 0.0103 - val_loss: 0.0095 - val_accuracy: 0.0244\n",
            "Epoch 39/50\n",
            "97/97 [==============================] - 0s 2ms/step - loss: 0.0021 - accuracy: 0.0103 - val_loss: 0.0093 - val_accuracy: 0.0244\n",
            "Epoch 40/50\n",
            "97/97 [==============================] - 0s 2ms/step - loss: 0.0021 - accuracy: 0.0103 - val_loss: 0.0100 - val_accuracy: 0.0244\n",
            "Epoch 41/50\n",
            "97/97 [==============================] - 0s 2ms/step - loss: 0.0022 - accuracy: 0.0103 - val_loss: 0.0094 - val_accuracy: 0.0244\n",
            "Epoch 42/50\n",
            "97/97 [==============================] - 0s 2ms/step - loss: 0.0021 - accuracy: 0.0103 - val_loss: 0.0093 - val_accuracy: 0.0244\n",
            "Epoch 43/50\n",
            "97/97 [==============================] - 0s 2ms/step - loss: 0.0021 - accuracy: 0.0103 - val_loss: 0.0093 - val_accuracy: 0.0244\n",
            "Epoch 44/50\n",
            "97/97 [==============================] - 0s 2ms/step - loss: 0.0021 - accuracy: 0.0103 - val_loss: 0.0093 - val_accuracy: 0.0244\n",
            "Epoch 45/50\n",
            "97/97 [==============================] - 0s 2ms/step - loss: 0.0021 - accuracy: 0.0103 - val_loss: 0.0093 - val_accuracy: 0.0244\n",
            "Epoch 46/50\n",
            "97/97 [==============================] - 0s 2ms/step - loss: 0.0021 - accuracy: 0.0103 - val_loss: 0.0095 - val_accuracy: 0.0244\n",
            "Epoch 47/50\n",
            "97/97 [==============================] - 0s 2ms/step - loss: 0.0021 - accuracy: 0.0103 - val_loss: 0.0093 - val_accuracy: 0.0244\n",
            "Epoch 48/50\n",
            "97/97 [==============================] - 0s 2ms/step - loss: 0.0021 - accuracy: 0.0103 - val_loss: 0.0092 - val_accuracy: 0.0244\n",
            "Epoch 49/50\n",
            "97/97 [==============================] - 0s 2ms/step - loss: 0.0020 - accuracy: 0.0103 - val_loss: 0.0096 - val_accuracy: 0.0244\n",
            "Epoch 50/50\n",
            "97/97 [==============================] - 0s 2ms/step - loss: 0.0021 - accuracy: 0.0103 - val_loss: 0.0099 - val_accuracy: 0.0244\n"
          ],
          "name": "stdout"
        }
      ]
    },
    {
      "cell_type": "code",
      "metadata": {
        "id": "tkneUo8v3Guf"
      },
      "source": [
        "y_pred=model.predict(x_test)"
      ],
      "execution_count": 307,
      "outputs": []
    },
    {
      "cell_type": "code",
      "metadata": {
        "id": "y-mIbKag4hor",
        "outputId": "5c7c48dd-35d8-4727-b7ae-571883342b2a",
        "colab": {
          "base_uri": "https://localhost:8080/",
          "height": 33
        }
      },
      "source": [
        "scaler.scale_"
      ],
      "execution_count": 308,
      "outputs": [
        {
          "output_type": "execute_result",
          "data": {
            "text/plain": [
              "array([0.0019305])"
            ]
          },
          "metadata": {
            "tags": []
          },
          "execution_count": 308
        }
      ]
    },
    {
      "cell_type": "code",
      "metadata": {
        "id": "6d0plban4lQa"
      },
      "source": [
        "y_pred = scaler.inverse_transform(y_pred)\n",
        "y_test = np.array(y_test)\n",
        "y_test = y_test.reshape(-1, 1)\n",
        "y_test = scaler.inverse_transform(y_test)"
      ],
      "execution_count": 309,
      "outputs": []
    },
    {
      "cell_type": "code",
      "metadata": {
        "id": "J2pJyWLk4xX5",
        "outputId": "3e47682d-2052-4310-b929-fdf4d6f3a974",
        "colab": {
          "base_uri": "https://localhost:8080/",
          "height": 320
        }
      },
      "source": [
        "# plot baseline and predictions\n",
        "plt.figure(figsize=(14,5))\n",
        "plt.plot(y_test, label = 'Real number of passengers')\n",
        "plt.plot(y_pred, label = 'Predicted number of passengers')\n",
        "plt.ylabel('# passengers')\n",
        "plt.legend()\n",
        "plt.show()"
      ],
      "execution_count": 310,
      "outputs": [
        {
          "output_type": "display_data",
          "data": {
            "image/png": "[encoded data removed]",
            "text/plain": [
              "<Figure size 1008x360 with 1 Axes>"
            ]
          },
          "metadata": {
            "tags": [],
            "needs_background": "light"
          }
        }
      ]
    },
    {
      "cell_type": "code",
      "metadata": {
        "id": "V9NQSz6U40yQ"
      },
      "source": [
        ""
      ],
      "execution_count": 310,
      "outputs": []
    }
  ]
}